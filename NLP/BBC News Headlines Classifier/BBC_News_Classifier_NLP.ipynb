{
 "cells": [
  {
   "cell_type": "markdown",
   "id": "b1c30662",
   "metadata": {},
   "source": [
    "## BBC News Topic Classifier\n",
    "- [Data Source](https://www.kaggle.com/competitions/learn-ai-bbc/data?select=BBC+News+Test.csv)\n",
    "- In this notebook, we will try to predict the news category from the contents of the news body"
   ]
  },
  {
   "cell_type": "code",
   "execution_count": 1,
   "id": "b49cda70",
   "metadata": {},
   "outputs": [],
   "source": [
    "# import libraries \n",
    "import numpy as np\n",
    "import pandas as pd\n",
    "import csv"
   ]
  },
  {
   "cell_type": "code",
   "execution_count": 22,
   "id": "a028f2a1",
   "metadata": {},
   "outputs": [],
   "source": [
    "# ## read data\n",
    "\n",
    "# train_df = pd.read_csv('./BBC_news_data/train.csv')\n",
    "# train_df.head()"
   ]
  },
  {
   "cell_type": "code",
   "execution_count": 2,
   "id": "c70115e7",
   "metadata": {},
   "outputs": [
    {
     "name": "stdout",
     "output_type": "stream",
     "text": [
      "First line : ArticleId,Text,Category\n",
      "\n",
      "Second line : 1833,worldcom ex-boss launches defence lawyers defending former worldcom chief bernie ebbers against a battery of fraud charges have called a company whistleblower as their first witness.  cynthia cooper  worldcom s ex-head of internal accounting  alerted directors to irregular accounting practices at the us telecoms giant in 2002. her warnings led to the collapse of the firm following the discovery of an $11bn (Â£5.7bn) accounting fraud. mr ebbers has pleaded not guilty to charges of fraud and conspiracy.  prosecution lawyers have argued that mr ebbers orchestrated a series of accounting tricks at worldcom  ordering employees to hide expenses and inflate revenues to meet wall street earnings estimates. but ms cooper  who now runs her own consulting business  told a jury in new york on wednesday that external auditors arthur andersen had approved worldcom s accounting in early 2001 and 2002. she said andersen had given a  green light  to the procedures and practices used by worldcom. mr ebber s lawyers have said he was unaware of the fraud  arguing that auditors did not alert him to any problems.  ms cooper also said that during shareholder meetings mr ebbers often passed over technical questions to the company s finance chief  giving only  brief  answers himself. the prosecution s star witness  former worldcom financial chief scott sullivan  has said that mr ebbers ordered accounting adjustments at the firm  telling him to  hit our books . however  ms cooper said mr sullivan had not mentioned  anything uncomfortable  about worldcom s accounting during a 2001 audit committee meeting. mr ebbers could face a jail sentence of 85 years if convicted of all the charges he is facing. worldcom emerged from bankruptcy protection in 2004  and is now known as mci. last week  mci agreed to a buyout by verizon communications in a deal valued at $6.75bn.,business\n",
      "\n"
     ]
    }
   ],
   "source": [
    "## lets read the file\n",
    "\n",
    "with open('./BBC_news_data/train.csv', 'r') as csvfile:\n",
    "    line = csvfile.readline()\n",
    "    \n",
    "    print('First line : {}'.format(line))\n",
    "    line = csvfile.readline()\n",
    "    print('Second line : {}'.format(line))"
   ]
  },
  {
   "cell_type": "code",
   "execution_count": 3,
   "id": "b8091aaa",
   "metadata": {},
   "outputs": [],
   "source": [
    "## lets write a function to remove stop_words from the text\n",
    "\n",
    "def remove_stopwords(text):\n",
    "    \n",
    "    # convert text into lower case first\n",
    "    text = text.lower()\n",
    "    \n",
    "    # split the input text and create a list\n",
    "    text_list = text.split(' ')\n",
    "    \n",
    "    # List of stopwords\n",
    "    stop_words = [\"a\", \"about\", \"above\", \"after\", \"again\", \"against\", \"all\", \"am\", \"an\", \"and\", \"any\", \"are\", \"as\", \"at\", \"be\", \"because\", \"been\", \"before\", \"being\", \"below\", \"between\", \"both\", \"but\", \"by\", \"could\", \"did\", \"do\", \"does\", \"doing\", \"down\", \"during\", \"each\", \"few\", \"for\", \"from\", \"further\", \"had\", \"has\", \"have\", \"having\", \"he\", \"he'd\", \"he'll\", \"he's\", \"her\", \"here\", \"here's\", \"hers\", \"herself\", \"him\", \"himself\", \"his\", \"how\", \"how's\", \"i\", \"i'd\", \"i'll\", \"i'm\", \"i've\", \"if\", \"in\", \"into\", \"is\", \"it\", \"it's\", \"its\", \"itself\", \"let's\", \"me\", \"more\", \"most\", \"my\", \"myself\", \"nor\", \"of\", \"on\", \"once\", \"only\", \"or\", \"other\", \"ought\", \"our\", \"ours\", \"ourselves\", \"out\", \"over\", \"own\", \"same\", \"she\", \"she'd\", \"she'll\", \"she's\", \"should\", \"so\", \"some\", \"such\", \"than\", \"that\", \"that's\", \"the\", \"their\", \"theirs\", \"them\", \"themselves\", \"then\", \"there\", \"there's\", \"these\", \"they\", \"they'd\", \"they'll\", \"they're\", \"they've\", \"this\", \"those\", \"through\", \"to\", \"too\", \"under\", \"until\", \"up\", \"very\", \"was\", \"we\", \"we'd\", \"we'll\", \"we're\", \"we've\", \"were\", \"what\", \"what's\", \"when\", \"when's\", \"where\", \"where's\", \"which\", \"while\", \"who\", \"who's\", \"whom\", \"why\", \"why's\", \"with\", \"would\", \"you\", \"you'd\", \"you'll\", \"you're\", \"you've\", \"your\", \"yours\", \"yourself\", \"yourselves\" ]\n",
    "    \n",
    "    final_text = []\n",
    "    for word in text_list:\n",
    "        if word not in stop_words:\n",
    "            final_text.append(word)\n",
    "            \n",
    "    text_list = ' '.join(final_text)\n",
    "    return text_list"
   ]
  },
  {
   "cell_type": "code",
   "execution_count": 4,
   "id": "309037ee",
   "metadata": {},
   "outputs": [
    {
     "data": {
      "text/plain": [
       "'go store get snack'"
      ]
     },
     "execution_count": 4,
     "metadata": {},
     "output_type": "execute_result"
    }
   ],
   "source": [
    "# test\n",
    "# Test your function\n",
    "remove_stopwords(\"I am about to go to the store and get any snack\")"
   ]
  },
  {
   "cell_type": "markdown",
   "id": "5fd8a5b0",
   "metadata": {},
   "source": [
    "## Reading the raw data"
   ]
  },
  {
   "cell_type": "code",
   "execution_count": 39,
   "id": "1b774833",
   "metadata": {},
   "outputs": [],
   "source": [
    "def get_labels_sentences(filename):\n",
    "    \n",
    "    labels =[]\n",
    "    sentences = []\n",
    "\n",
    "    with open(filename, 'r') as file:\n",
    "\n",
    "        reader = csv.reader(file, delimiter = ',')\n",
    "        \n",
    "        for row in reader:\n",
    "            labels.append(row[2])\n",
    "            text = remove_stopwords(row[1])\n",
    "            sentences.append(text)\n",
    "\n",
    "        labels = labels[1:]\n",
    "        sentences = sentences[1:]\n",
    "\n",
    "        return labels, sentences"
   ]
  },
  {
   "cell_type": "code",
   "execution_count": 40,
   "id": "c239ff58",
   "metadata": {},
   "outputs": [],
   "source": [
    "# get labels and sentences\n",
    "labels, sentences = get_labels_sentences('./BBC_news_data/train.csv')"
   ]
  },
  {
   "cell_type": "code",
   "execution_count": 41,
   "id": "d3f2209a",
   "metadata": {},
   "outputs": [
    {
     "name": "stdout",
     "output_type": "stream",
     "text": [
      "There are 1490 sentences\n",
      "First sentence : worldcom ex-boss launches defence lawyers defending former worldcom chief bernie ebbers battery fraud charges called company whistleblower first witness.  cynthia cooper  worldcom s ex-head internal accounting  alerted directors irregular accounting practices us telecoms giant 2002. warnings led collapse firm following discovery $11bn (â£5.7bn) accounting fraud. mr ebbers pleaded not guilty charges fraud conspiracy.  prosecution lawyers argued mr ebbers orchestrated series accounting tricks worldcom  ordering employees hide expenses inflate revenues meet wall street earnings estimates. ms cooper  now runs consulting business  told jury new york wednesday external auditors arthur andersen approved worldcom s accounting early 2001 2002. said andersen given  green light  procedures practices used worldcom. mr ebber s lawyers said unaware fraud  arguing auditors not alert problems.  ms cooper also said shareholder meetings mr ebbers often passed technical questions company s finance chief  giving  brief  answers himself. prosecution s star witness  former worldcom financial chief scott sullivan  said mr ebbers ordered accounting adjustments firm  telling  hit books . however  ms cooper said mr sullivan not mentioned  anything uncomfortable  worldcom s accounting 2001 audit committee meeting. mr ebbers face jail sentence 85 years convicted charges facing. worldcom emerged bankruptcy protection 2004  now known mci. last week  mci agreed buyout verizon communications deal valued $6.75bn.\n",
      "There are 1490 labels\n",
      "First five labels : ['business', 'business', 'business', 'tech', 'business']\n"
     ]
    }
   ],
   "source": [
    "# check the labels and sentences\n",
    "\n",
    "print('There are {} sentences'.format(len(sentences)))\n",
    "print('First sentence : {}'.format(sentences[0]))\n",
    "print('There are {} labels'.format(len(labels)))\n",
    "print('First five labels : {}'.format(labels[:5]))      "
   ]
  },
  {
   "cell_type": "code",
   "execution_count": 42,
   "id": "598398b3",
   "metadata": {},
   "outputs": [
    {
     "name": "stdout",
     "output_type": "stream",
     "text": [
      "1490\n",
      "1490\n"
     ]
    }
   ],
   "source": [
    "print(len(sentences))\n",
    "print(len(labels))"
   ]
  },
  {
   "cell_type": "markdown",
   "id": "ab8faae3",
   "metadata": {},
   "source": [
    "### Split the data into Train and Test\n",
    "- I'm using 80% data for training and 20% for testing"
   ]
  },
  {
   "cell_type": "code",
   "execution_count": 43,
   "id": "287a584e",
   "metadata": {},
   "outputs": [
    {
     "name": "stdout",
     "output_type": "stream",
     "text": [
      "1192\n"
     ]
    }
   ],
   "source": [
    "train_size = int(0.8 * len(sentences))\n",
    "print(train_size)"
   ]
  },
  {
   "cell_type": "code",
   "execution_count": 44,
   "id": "fc12f756",
   "metadata": {},
   "outputs": [],
   "source": [
    "## split data\n",
    "\n",
    "train_data = sentences[:train_size]\n",
    "train_labels = labels[:train_size]\n",
    "\n",
    "test_data = sentences[train_size:]\n",
    "test_labels = labels[train_size:]"
   ]
  },
  {
   "cell_type": "code",
   "execution_count": 45,
   "id": "db83e9cd",
   "metadata": {},
   "outputs": [
    {
     "name": "stdout",
     "output_type": "stream",
     "text": [
      "1192\n",
      "1192\n",
      "298\n",
      "298\n"
     ]
    }
   ],
   "source": [
    "print(len(train_data))\n",
    "print(len(train_labels))\n",
    "print(len(test_data))\n",
    "print(len(test_labels))"
   ]
  },
  {
   "cell_type": "code",
   "execution_count": 30,
   "id": "1dd41c82",
   "metadata": {},
   "outputs": [],
   "source": [
    "# # Convert the type of labels in numpy array\n",
    "\n",
    "# import numpy as np\n",
    "\n",
    "# train_labels = np.array(train_labels)\n",
    "# test_labels = np.array(test_labels)"
   ]
  },
  {
   "cell_type": "code",
   "execution_count": 46,
   "id": "63a6d6f5",
   "metadata": {},
   "outputs": [],
   "source": [
    "from tensorflow.keras.preprocessing.text import Tokenizer\n",
    "from tensorflow.keras.preprocessing.sequence import pad_sequences"
   ]
  },
  {
   "cell_type": "code",
   "execution_count": 103,
   "id": "3a5dfaf7",
   "metadata": {},
   "outputs": [],
   "source": [
    "num_words = 10000\n",
    "oov_token = '<OOV>'\n",
    "padding_type = 'post'\n",
    "trunc_type = 'post'\n",
    "embedding_dim = 16\n",
    "max_len = 120"
   ]
  },
  {
   "cell_type": "code",
   "execution_count": 104,
   "id": "d95992c0",
   "metadata": {},
   "outputs": [],
   "source": [
    "## write function to initialize the token\n",
    "\n",
    "def initialize_token(sentence):\n",
    "    \n",
    "    token = Tokenizer(num_words=num_words, oov_token=oov_token)\n",
    "    \n",
    "    # this has to be fit on all the words in the corpus\n",
    "    token.fit_on_texts(sentence)\n",
    "    \n",
    "    return token"
   ]
  },
  {
   "cell_type": "code",
   "execution_count": 105,
   "id": "ef0dd6f7",
   "metadata": {},
   "outputs": [],
   "source": [
    "# this tokenizer should be fitted on training data\n",
    "tokenizer = initialize_token(train_data)\n",
    "\n",
    "word_index = tokenizer.word_index"
   ]
  },
  {
   "cell_type": "code",
   "execution_count": 106,
   "id": "82156afe",
   "metadata": {},
   "outputs": [
    {
     "name": "stdout",
     "output_type": "stream",
     "text": [
      "Total number of words in the corpus : 22647\n"
     ]
    }
   ],
   "source": [
    "print('Total number of words in the corpus : {}'.format(len(word_index)))"
   ]
  },
  {
   "cell_type": "code",
   "execution_count": 107,
   "id": "b893f227",
   "metadata": {},
   "outputs": [],
   "source": [
    "## get sequences and paddings\n",
    "\n",
    "def get_paddings(tokenizer, sentences):\n",
    "    \n",
    "    # get sequences first\n",
    "    sequences = tokenizer.texts_to_sequences(sentences)\n",
    "    \n",
    "    # get padded sequences with post padding\n",
    "    padded_sequence = pad_sequences(sequences, maxlen=max_len, padding=padding_type, truncating=trunc_type)\n",
    "    \n",
    "    return padded_sequence"
   ]
  },
  {
   "cell_type": "code",
   "execution_count": 108,
   "id": "1219c14f",
   "metadata": {},
   "outputs": [],
   "source": [
    "train_padded_sequences = get_paddings(tokenizer, train_data)\n",
    "test_padded_sequences = get_paddings(tokenizer, test_data)"
   ]
  },
  {
   "cell_type": "code",
   "execution_count": 109,
   "id": "bbadb0b3",
   "metadata": {},
   "outputs": [
    {
     "name": "stdout",
     "output_type": "stream",
     "text": [
      "Shape of the train padded sequence :(1192, 120)\n",
      "Shape of the test padded sequence :(298, 120)\n",
      "There are total 1192 number of entries in the train padded sequence\n",
      "Max length in the train padded sequence : 120\n"
     ]
    }
   ],
   "source": [
    "print('Shape of the train padded sequence :{}'.format(train_padded_sequences.shape))\n",
    "print('Shape of the test padded sequence :{}'.format(test_padded_sequences.shape))\n",
    "print('There are total {} number of entries in the train padded sequence'.format(train_padded_sequences.shape[0]))\n",
    "print('Max length in the train padded sequence : {}'.format(train_padded_sequences.shape[1]))"
   ]
  },
  {
   "cell_type": "code",
   "execution_count": 110,
   "id": "10dc75cf",
   "metadata": {},
   "outputs": [
    {
     "data": {
      "text/plain": [
       "array([[1267, 1268,  618, 5000, 1070, 2340, 2257,  126, 1267,  147, 5417,\n",
       "        1632, 3172,  655,  674,  163,   60,    1,   14, 4024,    1, 3173,\n",
       "        1267,    2, 1268,  505, 3564, 1547, 8899, 1350, 8900, 1547, 4025,\n",
       "          11, 1664,  567,  521, 3782,  542, 2258,   57,  296, 5418, 4311,\n",
       "        1750, 2417, 1547,  655,    6, 1632, 2418,    5, 1071,  674,  655,\n",
       "        4633, 3025, 2340, 1072,    6, 1632,    1,  299, 1547, 7632, 1267,\n",
       "        8901, 1915, 3565, 4026, 6710, 1751,  603, 1985,  568, 1224, 2419,\n",
       "         456, 3173,   19, 1633, 4312,  154,   29, 4313,    9,  516,  533,\n",
       "        3372, 4314, 5989, 8902, 2185, 1267,    2, 1547,  220,  493,  521,\n",
       "           3, 8902,  206, 1048,  967, 5001, 4025,   87, 1267,    6,    1,\n",
       "           2, 2340,    3, 5002,  655, 4027, 4314,    5, 2638,  321],\n",
       "       [ 739,  154,  792,    1,  739,  154,  792,  656,  355, 5419,  689,\n",
       "           1, 1194,  151,    2,  657,  128, 5420,  174,  233, 1867, 6713,\n",
       "           3,  792, 1437,  656, 2883,  111,  355,    1,  111,  211,   14,\n",
       "        1708,   28,  116, 1195,  227, 2524, 1385, 1138, 3175, 6714, 2641,\n",
       "        1095, 1049,  154,  649, 3785,  183, 1579, 3176,  177,  164, 1666,\n",
       "        6713, 1437,  331, 4029,    3,    1,  181, 1501,    1,    1,  550,\n",
       "        1074,  861, 1139,  128,   65, 1667,  942, 1138,  328,  128,   40,\n",
       "          99,    1, 6715,  163, 4030,  355,    2, 6713,  792,  920, 8903,\n",
       "        1708,    3,  184, 6716, 1437, 1753, 2186,   88,  450,  104, 3566,\n",
       "         183, 8904,  416,  682,    2,  128, 1580,   42,   62,   15,    7,\n",
       "        7634,  144,  103,  128,    1,  315,   50,   15,   28,  116],\n",
       "       [  46,  768,    1,  183,    1, 1917,  811,  221, 4316,   46,   18,\n",
       "         107,  768,  348,   18,  128,    1, 4317,    8,    3,  199,  128,\n",
       "         423, 1918,  522,  650,    2,  239, 2524,  811,  641,  185,    3,\n",
       "         900,  194,  332, 1120,   36,   10, 1013,  185, 1755,  768, 4318,\n",
       "        2420, 1326, 1025, 1353,  768,  227,  811,    1,   10,  619,  185,\n",
       "        1096,  128,   71,    1,  835, 4317, 1050,  185, 1096, 1439, 4316,\n",
       "          28,  185, 2259, 2885, 1014,  901, 2260, 4317,   95,    3,   18,\n",
       "         128,  423, 1918,  835, 1668,    3, 1439, 3788, 2525, 6717,  199,\n",
       "         128, 3567, 1919, 3789,  551,  650,    2,  183, 1440, 1439, 2261,\n",
       "           3,  423, 1918,  768, 1013,    1,   10, 2420,  146, 5004,   57,\n",
       "           1,  575, 1198,  146,  498, 5005, 8908,  812, 8909,   18]])"
      ]
     },
     "execution_count": 110,
     "metadata": {},
     "output_type": "execute_result"
    }
   ],
   "source": [
    "# check first 3 entries of the padded sequences\n",
    "train_padded_sequences[:3]"
   ]
  },
  {
   "cell_type": "code",
   "execution_count": 111,
   "id": "acbd3310",
   "metadata": {},
   "outputs": [],
   "source": [
    "## get the sequences and word index for the labels\n",
    "\n",
    "def tokenize_labels(tokenizer, all_labels, label):\n",
    "\n",
    "    tokenizer.fit_on_texts(all_labels)\n",
    "    \n",
    "#     label_word_index = token.word_index\n",
    "\n",
    "    label_sequences = tokenizer.texts_to_sequences(label)\n",
    "    \n",
    "    return label_sequences # label_word_index, "
   ]
  },
  {
   "cell_type": "code",
   "execution_count": 112,
   "id": "1eee4436",
   "metadata": {},
   "outputs": [],
   "source": [
    "label_tokenizer = Tokenizer()"
   ]
  },
  {
   "cell_type": "code",
   "execution_count": 113,
   "id": "1cab5462",
   "metadata": {},
   "outputs": [],
   "source": [
    "# train label sequences\n",
    "train_label_sequences = tokenize_labels(label_tokenizer, labels, train_labels)\n",
    "\n",
    "# test label sequences\n",
    "test_label_sequences = tokenize_labels(label_tokenizer, labels, test_labels)"
   ]
  },
  {
   "cell_type": "code",
   "execution_count": 114,
   "id": "8add5572",
   "metadata": {},
   "outputs": [],
   "source": [
    "## need to minus 1 because tensorflow tokenizers indexing starts from 1 and not from 0\n",
    "## this will cause to add an extra index value-\n",
    "# this can either be solve by adding + 1 value at the output layer in the model creation OR this way by removing\n",
    "# 1 from each array value\n",
    "\n",
    "train_label_sequences = np.array(train_label_sequences) - 1\n",
    "test_label_sequences = np.array(test_label_sequences) - 1"
   ]
  },
  {
   "cell_type": "code",
   "execution_count": 115,
   "id": "0d55927e",
   "metadata": {},
   "outputs": [
    {
     "name": "stdout",
     "output_type": "stream",
     "text": [
      "1192\n",
      "298\n"
     ]
    }
   ],
   "source": [
    "print(len(train_label_sequences))\n",
    "print(len(test_label_sequences))"
   ]
  },
  {
   "cell_type": "code",
   "execution_count": 116,
   "id": "d29aca0c",
   "metadata": {},
   "outputs": [
    {
     "data": {
      "text/plain": [
       "array(['business', 'tech', 'politics', 'sport', 'entertainment'],\n",
       "      dtype=object)"
      ]
     },
     "execution_count": 116,
     "metadata": {},
     "output_type": "execute_result"
    }
   ],
   "source": [
    "# check label word index\n",
    "# check unique number of classes\n",
    "\n",
    "pd.Series(labels).unique()"
   ]
  },
  {
   "cell_type": "markdown",
   "id": "ddc82b07",
   "metadata": {},
   "source": [
    "## Train the model"
   ]
  },
  {
   "cell_type": "code",
   "execution_count": 117,
   "id": "0a71ff90",
   "metadata": {},
   "outputs": [],
   "source": [
    "import tensorflow as tf"
   ]
  },
  {
   "cell_type": "code",
   "execution_count": 118,
   "id": "f62d7c8a",
   "metadata": {},
   "outputs": [
    {
     "name": "stdout",
     "output_type": "stream",
     "text": [
      "Model: \"sequential_6\"\n",
      "_________________________________________________________________\n",
      " Layer (type)                Output Shape              Param #   \n",
      "=================================================================\n",
      " embedding_6 (Embedding)     (None, 120, 16)           160000    \n",
      "                                                                 \n",
      " global_average_pooling1d_6   (None, 16)               0         \n",
      " (GlobalAveragePooling1D)                                        \n",
      "                                                                 \n",
      " dense_12 (Dense)            (None, 8)                 136       \n",
      "                                                                 \n",
      " dense_13 (Dense)            (None, 5)                 45        \n",
      "                                                                 \n",
      "=================================================================\n",
      "Total params: 160,181\n",
      "Trainable params: 160,181\n",
      "Non-trainable params: 0\n",
      "_________________________________________________________________\n"
     ]
    }
   ],
   "source": [
    "model = tf.keras.models.Sequential([\n",
    "    \n",
    "    tf.keras.layers.Embedding(num_words, embedding_dim, input_length = max_len),\n",
    "    tf.keras.layers.GlobalAveragePooling1D(),\n",
    "    \n",
    "    tf.keras.layers.Dense(8, activation ='relu'),\n",
    "    tf.keras.layers.Dense(5,activation = 'softmax')\n",
    "])\n",
    "\n",
    "model.compile(optimizer='adam',\n",
    "             loss='sparse_categorical_crossentropy',\n",
    "             metrics=['accuracy'])\n",
    "\n",
    "model.summary()"
   ]
  },
  {
   "cell_type": "code",
   "execution_count": 119,
   "id": "427cbaa7",
   "metadata": {
    "scrolled": false
   },
   "outputs": [
    {
     "name": "stdout",
     "output_type": "stream",
     "text": [
      "Epoch 1/10\n",
      "38/38 [==============================] - 1s 14ms/step - loss: 1.6024 - accuracy: 0.4287 - val_loss: 1.5921 - val_accuracy: 0.5940\n",
      "Epoch 2/10\n",
      "38/38 [==============================] - 0s 7ms/step - loss: 1.5684 - accuracy: 0.7424 - val_loss: 1.5551 - val_accuracy: 0.6779\n",
      "Epoch 3/10\n",
      "38/38 [==============================] - 0s 7ms/step - loss: 1.5086 - accuracy: 0.7911 - val_loss: 1.4932 - val_accuracy: 0.7349\n",
      "Epoch 4/10\n",
      "38/38 [==============================] - 0s 7ms/step - loss: 1.4157 - accuracy: 0.8465 - val_loss: 1.4013 - val_accuracy: 0.7987\n",
      "Epoch 5/10\n",
      "38/38 [==============================] - 0s 6ms/step - loss: 1.2885 - accuracy: 0.8674 - val_loss: 1.2796 - val_accuracy: 0.8456\n",
      "Epoch 6/10\n",
      "38/38 [==============================] - 0s 6ms/step - loss: 1.1327 - accuracy: 0.9396 - val_loss: 1.1409 - val_accuracy: 0.8758\n",
      "Epoch 7/10\n",
      "38/38 [==============================] - 0s 7ms/step - loss: 0.9656 - accuracy: 0.9681 - val_loss: 0.9945 - val_accuracy: 0.9060\n",
      "Epoch 8/10\n",
      "38/38 [==============================] - 0s 6ms/step - loss: 0.8024 - accuracy: 0.9807 - val_loss: 0.8562 - val_accuracy: 0.9228\n",
      "Epoch 9/10\n",
      "38/38 [==============================] - 0s 6ms/step - loss: 0.6560 - accuracy: 0.9849 - val_loss: 0.7328 - val_accuracy: 0.9396\n",
      "Epoch 10/10\n",
      "38/38 [==============================] - 0s 6ms/step - loss: 0.5333 - accuracy: 0.9874 - val_loss: 0.6314 - val_accuracy: 0.9329\n"
     ]
    },
    {
     "data": {
      "text/plain": [
       "<keras.callbacks.History at 0x2512caacc10>"
      ]
     },
     "execution_count": 119,
     "metadata": {},
     "output_type": "execute_result"
    }
   ],
   "source": [
    "num_epochs = 10\n",
    "\n",
    "model.fit(train_padded_sequences,\n",
    "          train_label_sequences,\n",
    "          epochs=num_epochs,\n",
    "          validation_data=(test_padded_sequences, test_label_sequences))"
   ]
  },
  {
   "cell_type": "markdown",
   "id": "bb482ff6",
   "metadata": {},
   "source": [
    "## Visualize and plot the metrics"
   ]
  },
  {
   "cell_type": "code",
   "execution_count": 120,
   "id": "dc537c73",
   "metadata": {},
   "outputs": [
    {
     "data": {
      "text/plain": [
       "<matplotlib.legend.Legend at 0x25134bb5d60>"
      ]
     },
     "execution_count": 120,
     "metadata": {},
     "output_type": "execute_result"
    },
    {
     "data": {
      "image/png": "[encoded data removed]",
      "text/plain": [
       "<Figure size 576x432 with 2 Axes>"
      ]
     },
     "metadata": {
      "needs_background": "light"
     },
     "output_type": "display_data"
    }
   ],
   "source": [
    "import matplotlib.pyplot as plt\n",
    "\n",
    "metrics = pd.DataFrame(model.history.history)\n",
    "epoch_range = range(1, len(metrics) + 1)\n",
    "\n",
    "plt.figure(figsize=(8,6))\n",
    "\n",
    "plt.subplot(1,2,1)\n",
    "plt.plot(epoch_range, metrics['accuracy'],label = 'training accuracy')\n",
    "plt.plot(epoch_range, metrics['val_accuracy'],label = 'validation accuracy')\n",
    "plt.title('Training Vs Validation Accuracy')\n",
    "plt.legend(loc='best')\n",
    "\n",
    "plt.subplot(1,2,2)\n",
    "plt.plot(epoch_range, metrics['loss'],label = 'training loss')\n",
    "plt.plot(epoch_range, metrics['val_loss'],label = 'validation loss')\n",
    "plt.title('Training Vs Validation loss')\n",
    "plt.legend(loc='best')"
   ]
  },
  {
   "cell_type": "code",
   "execution_count": null,
   "id": "3ff858db",
   "metadata": {},
   "outputs": [],
   "source": [
    "# Build\n",
    "encoder = tfds.deprecated.text.SubwordTextEncoder.build_from_corpus(\n",
    "    corpus_generator, target_vocab_size=2**15)\n",
    "encoder.save_to_file(vocab_fname)"
   ]
  },
  {
   "cell_type": "code",
   "execution_count": null,
   "id": "3f8ff9c1",
   "metadata": {},
   "outputs": [],
   "source": []
  }
 ],
 "metadata": {
  "kernelspec": {
   "display_name": "Python 3 (ipykernel)",
   "language": "python",
   "name": "python3"
  },
  "language_info": {
   "codemirror_mode": {
    "name": "ipython",
    "version": 3
   },
   "file_extension": ".py",
   "mimetype": "text/x-python",
   "name": "python",
   "nbconvert_exporter": "python",
   "pygments_lexer": "ipython3",
   "version": "3.9.5"
  }
 },
 "nbformat": 4,
 "nbformat_minor": 5
}
