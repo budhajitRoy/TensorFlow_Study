{
 "cells": [
  {
   "cell_type": "code",
   "execution_count": 9,
   "id": "d496feda",
   "metadata": {},
   "outputs": [],
   "source": [
    "# set data path\n",
    "\n",
    "train_path = 'train.csv'"
   ]
  },
  {
   "cell_type": "code",
   "execution_count": 10,
   "id": "7bff4a9c",
   "metadata": {},
   "outputs": [
    {
     "name": "stdout",
     "output_type": "stream",
     "text": [
      "ArticleId,Text,Category\n",
      "\n",
      "1833,worldcom ex-boss launches defence lawyers defending former worldcom chief bernie ebbers against a battery of fraud charges have called a company whistleblower as their first witness.  cynthia cooper  worldcom s ex-head of internal accounting  alerted directors to irregular accounting practices at the us telecoms giant in 2002. her warnings led to the collapse of the firm following the discovery of an $11bn (Â£5.7bn) accounting fraud. mr ebbers has pleaded not guilty to charges of fraud and conspiracy.  prosecution lawyers have argued that mr ebbers orchestrated a series of accounting tricks at worldcom  ordering employees to hide expenses and inflate revenues to meet wall street earnings estimates. but ms cooper  who now runs her own consulting business  told a jury in new york on wednesday that external auditors arthur andersen had approved worldcom s accounting in early 2001 and 2002. she said andersen had given a  green light  to the procedures and practices used by worldcom. mr ebber s lawyers have said he was unaware of the fraud  arguing that auditors did not alert him to any problems.  ms cooper also said that during shareholder meetings mr ebbers often passed over technical questions to the company s finance chief  giving only  brief  answers himself. the prosecution s star witness  former worldcom financial chief scott sullivan  has said that mr ebbers ordered accounting adjustments at the firm  telling him to  hit our books . however  ms cooper said mr sullivan had not mentioned  anything uncomfortable  about worldcom s accounting during a 2001 audit committee meeting. mr ebbers could face a jail sentence of 85 years if convicted of all the charges he is facing. worldcom emerged from bankruptcy protection in 2004  and is now known as mci. last week  mci agreed to a buyout by verizon communications in a deal valued at $6.75bn.,business\n",
      "\n"
     ]
    }
   ],
   "source": [
    "## check data\n",
    "\n",
    "with open(train_path,'r') as train_file:\n",
    "    print(train_file.readline())\n",
    "    print(train_file.readline())"
   ]
  },
  {
   "cell_type": "code",
   "execution_count": 11,
   "id": "e9a1ca58",
   "metadata": {},
   "outputs": [],
   "source": [
    "## check data\n",
    "\n",
    "# with open(test_path,'r') as train_file:\n",
    "#     print(train_file.readline())\n",
    "#     print(train_file.readline())"
   ]
  },
  {
   "cell_type": "code",
   "execution_count": 12,
   "id": "995eea0e",
   "metadata": {},
   "outputs": [],
   "source": [
    "# GRADED FUNCTION: remove_stopwords\n",
    "def remove_stopwords(sentence):\n",
    "    \n",
    "    # List of stopwords\n",
    "    stopwords = [\"a\", \"about\", \"above\", \"after\", \"again\", \"against\", \"all\", \"am\", \"an\", \"and\", \"any\", \"are\", \"as\", \"at\", \"be\", \"because\", \"been\", \"before\", \"being\", \"below\", \"between\", \"both\", \"but\", \"by\", \"could\", \"did\", \"do\", \"does\", \"doing\", \"down\", \"during\", \"each\", \"few\", \"for\", \"from\", \"further\", \"had\", \"has\", \"have\", \"having\", \"he\", \"he'd\", \"he'll\", \"he's\", \"her\", \"here\", \"here's\", \"hers\", \"herself\", \"him\", \"himself\", \"his\", \"how\", \"how's\", \"i\", \"i'd\", \"i'll\", \"i'm\", \"i've\", \"if\", \"in\", \"into\", \"is\", \"it\", \"it's\", \"its\", \"itself\", \"let's\", \"me\", \"more\", \"most\", \"my\", \"myself\", \"nor\", \"of\", \"on\", \"once\", \"only\", \"or\", \"other\", \"ought\", \"our\", \"ours\", \"ourselves\", \"out\", \"over\", \"own\", \"same\", \"she\", \"she'd\", \"she'll\", \"she's\", \"should\", \"so\", \"some\", \"such\", \"than\", \"that\", \"that's\", \"the\", \"their\", \"theirs\", \"them\", \"themselves\", \"then\", \"there\", \"there's\", \"these\", \"they\", \"they'd\", \"they'll\", \"they're\", \"they've\", \"this\", \"those\", \"through\", \"to\", \"too\", \"under\", \"until\", \"up\", \"very\", \"was\", \"we\", \"we'd\", \"we'll\", \"we're\", \"we've\", \"were\", \"what\", \"what's\", \"when\", \"when's\", \"where\", \"where's\", \"which\", \"while\", \"who\", \"who's\", \"whom\", \"why\", \"why's\", \"with\", \"would\", \"you\", \"you'd\", \"you'll\", \"you're\", \"you've\", \"your\", \"yours\", \"yourself\", \"yourselves\" ]\n",
    "    \n",
    "    # Sentence converted to lowercase-only\n",
    "    sentence = sentence.lower()\n",
    "    \n",
    "    ### START CODE HERE\n",
    "    final_sentence = []\n",
    "    \n",
    "    for word in sentence.split(' '):\n",
    "        if word not in stopwords:\n",
    "            final_sentence.append(word)\n",
    "            \n",
    "    sentence = ' '.join(final_sentence)\n",
    "    \n",
    "    ### END CODE HERE\n",
    "    return sentence"
   ]
  },
  {
   "cell_type": "code",
   "execution_count": 13,
   "id": "38e9f050",
   "metadata": {},
   "outputs": [],
   "source": [
    "# read data and store\n",
    "\n",
    "import csv\n",
    "\n",
    "def get_data(data_path):\n",
    "    \n",
    "    reviews = []\n",
    "    labels =[]\n",
    "    with open(data_path,'r') as file:\n",
    "\n",
    "        data = csv.reader(file)\n",
    "\n",
    "        # skip first row\n",
    "        next(data)\n",
    "\n",
    "        for row in data:\n",
    "            sentence = remove_stopwords(row[1])\n",
    "            reviews.append(sentence)\n",
    "            labels.append(row[2])\n",
    "            \n",
    "    return reviews, labels"
   ]
  },
  {
   "cell_type": "code",
   "execution_count": 14,
   "id": "6d5e01f2",
   "metadata": {},
   "outputs": [],
   "source": [
    "## get train and test data\n",
    "\n",
    "sentences, labels = get_data(train_path)"
   ]
  },
  {
   "cell_type": "code",
   "execution_count": 15,
   "id": "8efd6f86",
   "metadata": {},
   "outputs": [
    {
     "data": {
      "text/plain": [
       "1490"
      ]
     },
     "execution_count": 15,
     "metadata": {},
     "output_type": "execute_result"
    }
   ],
   "source": [
    "len(sentences)"
   ]
  },
  {
   "cell_type": "markdown",
   "id": "5c580cdc",
   "metadata": {},
   "source": [
    "## Subwords Tokenization"
   ]
  },
  {
   "cell_type": "code",
   "execution_count": 16,
   "id": "4723404d",
   "metadata": {},
   "outputs": [],
   "source": [
    "import tensorflow as tf\n",
    "from tensorflow.keras.preprocessing.sequence import pad_sequences\n",
    "import tensorflow_datasets as tfds\n",
    "from tensorflow.keras.preprocessing.text import Tokenizer\n",
    "\n",
    "import numpy as np\n",
    "import pandas as pd\n",
    "import matplotlib.pyplot as plt"
   ]
  },
  {
   "cell_type": "code",
   "execution_count": 17,
   "id": "f306929f",
   "metadata": {},
   "outputs": [],
   "source": [
    "vocab_size = 1000\n",
    "max_subword_length= 5"
   ]
  },
  {
   "cell_type": "code",
   "execution_count": 18,
   "id": "e48a6c5e",
   "metadata": {},
   "outputs": [
    {
     "name": "stdout",
     "output_type": "stream",
     "text": [
      "Vocab size is  1002\n"
     ]
    }
   ],
   "source": [
    "# set sub word tokenizer\n",
    "sub_word_tokenizer = tfds.deprecated.text.SubwordTextEncoder.build_from_corpus(sentences,\n",
    "                                                                               vocab_size,\n",
    "                                                                               max_subword_length=max_subword_length)\n",
    "\n",
    "# How big is the vocab size?\n",
    "print(\"Vocab size is \", sub_word_tokenizer.vocab_size)"
   ]
  },
  {
   "cell_type": "code",
   "execution_count": 19,
   "id": "f1899280",
   "metadata": {},
   "outputs": [
    {
     "name": "stdout",
     "output_type": "stream",
     "text": [
      "howard  truanted play snooker  conservative leader michael howard admitted used play truant spend time school friends snooker hall.  mr howard said time jack s snooker hall llanelli 1950s not done  lasting damage . told times educational supplement truancy  bad  said  firm action  needed. mr howard also called return o-levels classroom discipline.  mr howard eventually left llanelli grammar school - snooker hall - go cambridge university. said:  don t think s done lasting damage. made snooker world champion.  might occasions left early afternoon.   m just honest. think truancy bad thing firm action taken deal it.  another player failed win snooker s world championship - jimmy  whirlwind   white - previously admitted missing lessons  instead spending days smoky halls.  tony meo [another player] used spend spare time   mr white said   loved game atmosphere.  school went window. went started taking time off.  mr howard s fellow welshman ray reardon - known fellow professionals  dracula  - won snooker world championship six times  left school 14 work miner. terry griffiths  like mr howard llanelli  won tournament 1979. not known whether two ever clashed cues jack s.\n",
      "[540, 406, 1, 240, 298, 109, 10, 358, 778, 861, 68, 488, 50, 1, 194, 50, 195, 45, 54, 515, 26, 357, 132, 577, 540, 406, 778, 69, 681, 116, 652, 358, 778, 240, 298, 129, 151, 285, 459, 162, 92, 56, 778, 684, 157, 93, 2, 861, 68, 488, 26, 651, 854, 5, 75, 540, 406, 778, 23, 459, 250, 281, 2, 861, 68, 488, 26, 651, 17, 190, 63, 114, 15, 778, 313, 799, 794, 2, 62, 82, 48, 1, 27, 227, 88, 67, 76, 84, 395, 558, 685, 2, 66, 710, 196, 25, 478, 242, 700, 129, 240, 298, 594, 867, 1, 55, 846, 1, 100, 1, 424, 778, 644, 39, 1, 657, 66, 3, 75, 540, 406, 778, 136, 463, 10, 356, 168, 11, 857, 791, 41, 726, 2, 348, 229, 16, 396, 778, 179, 70, 242, 248, 5, 75, 540, 406, 778, 490, 340, 164, 8, 41, 669, 190, 63, 114, 15, 778, 207, 482, 630, 162, 92, 56, 77, 861, 68, 488, 26, 651, 854, 77, 51, 778, 49, 855, 120, 277, 165, 40, 299, 237, 57, 867, 3, 100, 291, 612, 7, 315, 426, 778, 2, 82, 372, 27, 227, 88, 67, 76, 84, 3, 626, 861, 68, 488, 26, 269, 778, 314, 740, 39, 5, 219, 606, 416, 302, 697, 778, 41, 669, 142, 22, 501, 135, 68, 39, 274, 34, 497, 92, 418, 862, 3, 315, 426, 778, 240, 298, 594, 8, 55, 4, 413, 778, 424, 778, 644, 60, 544, 334, 522, 17, 57, 5, 63, 167, 500, 392, 12, 43, 83, 10, 159, 778, 861, 68, 488, 26, 2, 269, 778, 314, 740, 39, 575, 858, 77, 852, 117, 855, 867, 1, 306, 246, 854, 159, 846, 32, 306, 546, 77, 208, 35, 448, 22, 69, 681, 116, 375, 529, 778, 231, 180, 861, 1, 311, 665, 4, 151, 93, 9, 411, 2, 861, 86, 853, 8, 651, 284, 5, 692, 8, 47, 857, 778, 837, 63, 167, 500, 392, 860, 839, 778, 652, 151, 285, 549, 462, 685, 32, 75, 306, 546, 778, 100, 32, 71, 641, 778, 226, 778, 262, 86, 465, 640, 847, 5, 162, 92, 56, 778, 59, 129, 159, 588, 3, 59, 129, 288, 116, 544, 9, 459, 704, 5, 75, 540, 406, 778, 2, 33, 442, 270, 59, 284, 850, 409, 38, 8, 28, 406, 39, 77, 724, 11, 33, 442, 270, 20, 33, 229, 351, 14, 861, 1, 134, 310, 417, 843, 1, 791, 778, 731, 778, 861, 68, 488, 26, 269, 778, 314, 740, 39, 575, 80, 13, 228, 685, 861, 1, 41, 669, 162, 92, 56, 778, 795, 615, 185, 778, 121, 50, 3, 135, 126, 849, 150, 241, 57, 850, 861, 1, 643, 75, 540, 406, 778, 190, 63, 114, 15, 1, 731, 778, 678, 614, 78, 458, 313, 801, 803, 3, 62, 724, 11, 306, 107, 500, 337, 257, 778, 348, 177, 10, 131, 18, 250, 281, 861, 792]\n"
     ]
    }
   ],
   "source": [
    "# Check that the tokenizer works correctly\n",
    "num = 5\n",
    "print(sentences[num])\n",
    "encoded = sub_word_tokenizer.encode(sentences[num])\n",
    "print(encoded)"
   ]
  },
  {
   "cell_type": "code",
   "execution_count": 20,
   "id": "a84104f4",
   "metadata": {},
   "outputs": [
    {
     "data": {
      "text/plain": [
       "'howard  truanted play snooker  conservative leader michael howard admitted used play truant spend time school friends snooker hall.  mr howard said time jack s snooker hall llanelli 1950s not done  lasting damage . told times educational supplement truancy  bad  said  firm action  needed. mr howard also called return o-levels classroom discipline.  mr howard eventually left llanelli grammar school - snooker hall - go cambridge university. said:  don t think s done lasting damage. made snooker world champion.  might occasions left early afternoon.   m just honest. think truancy bad thing firm action taken deal it.  another player failed win snooker s world championship - jimmy  whirlwind   white - previously admitted missing lessons  instead spending days smoky halls.  tony meo [another player] used spend spare time   mr white said   loved game atmosphere.  school went window. went started taking time off.  mr howard s fellow welshman ray reardon - known fellow professionals  dracula  - won snooker world championship six times  left school 14 work miner. terry griffiths  like mr howard llanelli  won tournament 1979. not known whether two ever clashed cues jack s.'"
      ]
     },
     "execution_count": 20,
     "metadata": {},
     "output_type": "execute_result"
    }
   ],
   "source": [
    "sub_word_tokenizer.decode(encoded)"
   ]
  },
  {
   "cell_type": "code",
   "execution_count": 29,
   "id": "11c1e7a5",
   "metadata": {},
   "outputs": [],
   "source": [
    "# Separately print out each subword, decoded\n",
    "# for i in encoded:\n",
    "#   print(sub_word_tokenizer.decode([i]))"
   ]
  },
  {
   "cell_type": "markdown",
   "id": "6d8e39d8",
   "metadata": {},
   "source": [
    "### Replace sentence data with encoded subwords\n",
    "\n",
    "Now, we'll create the sequences to be used for training by actually encoding each of the individual sentences. This is equivalent to text_to_sequences with the Tokenizer we used in earlier exercises.\n",
    "m"
   ]
  },
  {
   "cell_type": "code",
   "execution_count": 21,
   "id": "a2b3df8a",
   "metadata": {},
   "outputs": [],
   "source": [
    "sentences_encoded = []\n",
    "for i, sentence in enumerate(sentences):\n",
    "#     print(i, sentence)\n",
    "    sentences_encoded.append(sub_word_tokenizer.encode(sentence))"
   ]
  },
  {
   "cell_type": "code",
   "execution_count": 22,
   "id": "6a8fa482",
   "metadata": {},
   "outputs": [
    {
     "name": "stdout",
     "output_type": "stream",
     "text": [
      "[716, 778, 46, 174, 184, 639, 439, 778, 452, 357, 778, 398, 857, 396, 778, 70, 45, 391, 278, 76, 105, 150, 263, 286, 278, 258, 214, 403, 4, 716, 778, 269, 778, 476, 91, 46, 174, 401, 735, 6, 269, 778, 452, 855, 8, 252, 237, 90, 183, 5, 44, 46, 93, 130, 2, 136, 23, 286, 580, 452, 855, 8, 84, 172, 9, 252, 237, 847, 3, 113, 21, 4, 43, 695, 8, 2, 421, 581, 25, 493, 589, 1, 76, 105, 150, 263, 795, 615, 407, 526, 2, 23, 232, 244, 54, 362, 178, 847, 3, 14, 86, 125, 796, 797, 778, 531, 778, 156, 6, 796, 603, 407, 526, 2, 633, 227, 39, 10, 46, 190, 1, 86, 186, 22, 218, 206, 139, 10, 113, 443, 778, 322, 40, 78, 656, 179, 113, 135, 3, 46, 174, 327, 285, 76, 105, 150, 263, 242, 168, 14, 675, 156, 6, 795, 797, 778, 407, 526, 2, 401, 735, 10, 452, 855, 8, 51, 9, 588, 856, 153, 190, 1, 307, 563, 44, 46, 93, 130, 2, 99, 372, 407, 526, 2, 401, 735, 10, 336, 16, 538, 849, 3, 258, 214, 403, 4, 543, 778, 407, 526, 2, 465, 15, 862, 3, 119, 742, 198, 778, 135, 855, 861, 1, 532, 385, 165, 798, 798, 193, 44, 46, 93, 130, 2, 407, 126, 23, 269, 778, 452, 855, 8, 84, 172, 9, 252, 237, 847, 1, 307, 563, 797, 798, 193, 23, 336, 16, 538, 849, 3, 13, 695, 30, 535, 1, 798, 802, 193, 81, 229, 117, 444, 72, 778, 286, 580, 452, 855, 867, 1, 798, 795, 193, 163, 45, 375, 253, 3, 798, 801, 193, 115, 270, 43, 695, 8, 2, 452, 357, 778, 218, 24, 616, 778, 336, 16, 538, 849, 1, 797, 800, 193, 23, 84, 172, 9, 252, 237, 847, 5, 46, 174, 796, 603, 803, 799, 797, 778, 156, 6, 218, 206, 139, 10, 191, 286, 580, 46, 554, 88, 424, 778, 398, 857, 36, 162, 63, 1, 96, 84, 597, 778, 20, 207, 34, 191, 286, 580, 410, 511, 778, 393, 57, 467, 85, 144, 102, 58, 205, 40, 299, 237, 675, 256, 867, 514, 5, 269, 778, 452, 855, 8, 102, 104, 10, 24, 241, 72, 475, 778, 685, 2, 497, 470, 778, 283, 857, 1, 156, 6, 249, 34, 62, 472, 22, 394, 98, 860, 36, 4, 584, 114, 163, 292, 1, 694, 101, 119, 180, 164, 8, 312, 383, 422, 9, 323, 33, 139, 861, 32, 23, 102, 58, 778, 608, 127, 778, 224, 408, 778, 853, 417, 854, 5, 156, 6, 30, 436, 4, 269, 778, 221, 183, 291, 34, 488, 1, 269, 778, 215, 11, 862, 395, 778, 611, 778, 119, 94, 261, 103, 138, 1, 135, 16, 287, 34, 304, 326, 617, 133, 410, 253, 25, 24, 477, 697, 778, 625, 9, 269, 778, 252, 237, 6, 739, 94, 1, 490, 778, 694, 101, 62, 43, 12, 653, 41, 139, 10, 398, 857, 480, 778, 452, 357, 778, 119, 251, 729, 1, 221, 2, 716, 778, 2, 114, 851, 868, 394, 107, 101, 303, 40, 862, 5, 407, 526, 2, 156, 6, 163, 45, 375, 253, 1, 269, 778, 43, 695, 157, 861, 1, 337, 43, 186, 791, 654, 9, 584, 114, 163, 9, 452, 219, 85, 1, 619, 124, 184, 220, 1, 225, 442, 59, 4, 184, 39, 85, 220, 3, 619, 124, 249, 11, 337, 264, 69, 18, 303, 444, 383, 88, 452, 357, 778, 654, 61, 1, 556, 59, 14, 199, 591, 196, 778, 343, 165, 162, 14, 847, 1, 221, 2, 716, 778, 2, 71, 863, 215, 124, 15, 34, 36, 851, 852, 183, 3, 44, 475, 2, 136, 611, 778, 653, 41, 578, 40, 122, 482, 114, 556, 672, 255, 175, 156, 6, 65, 844, 495, 578, 350, 231, 2, 309, 259, 778, 20, 58, 53, 93, 124, 407, 126, 2, 405, 8, 452, 357, 778, 362, 178, 847, 1, 79, 450, 85, 46, 93, 458, 221, 861, 3, 610, 199, 853, 19, 95, 778, 81, 229, 117, 444, 72, 1, 44, 46, 93, 130, 2, 57, 14, 8, 47, 866, 72, 137, 136, 537, 154, 398, 857, 396, 867, 3, 716, 778, 2, 67, 35, 4, 182, 437, 8, 16, 650, 221, 2, 171, 566, 60, 44, 475, 778, 245, 84, 668, 778, 15, 38, 778, 621, 16, 778, 110, 795, 1, 182, 585, 8, 35, 705, 10, 572, 561, 778, 566, 60, 325, 84, 2, 115, 469, 347, 252, 97, 101, 231, 2, 652, 36, 3, 320, 83, 454, 102, 418, 778, 78, 380, 778, 569, 36, 586, 407, 526, 2, 20, 151, 139, 2, 44, 46, 93, 130, 861, 1, 43, 695, 157, 861, 1, 171, 81, 229, 117, 444, 72, 778, 269, 778, 452, 855, 867, 3, 102, 58, 778, 218, 206, 139, 10, 46, 174, 795, 504, 68, 214, 743, 12, 110, 615, 797, 778, 250, 856, 298, 126, 110, 504, 310, 405, 2, 796, 603, 407, 526, 2, 402, 847, 791, 96, 791, 402, 6, 425, 332, 92, 372, 191, 35, 705, 861, 3, 191, 35, 705, 2, 96, 488, 778, 739, 91, 795, 504, 68, 214, 743, 12, 110, 615, 504, 250, 856, 298, 126, 110, 799, 3, 256, 661, 778, 50, 16, 12, 796, 792, 504, 615, 46, 266, 861, 1, 64, 81, 93, 9, 407, 388, 3, 564, 606, 407, 526, 861, 1, 115, 301, 140, 15, 681, 10, 76, 105, 12, 47, 240, 163, 56, 57, 342, 30, 321, 792]\n"
     ]
    }
   ],
   "source": [
    "print(sentences_encoded[2])"
   ]
  },
  {
   "cell_type": "code",
   "execution_count": 37,
   "id": "814d2f9f",
   "metadata": {},
   "outputs": [],
   "source": [
    "# ## similary encode test data\n",
    "\n",
    "# test_data_encoded = []\n",
    "# for i, sentence in enumerate(test_data):\n",
    "# #     print(i, sentence)\n",
    "#     test_data_encoded.append(sub_word_tokenizer.encode(sentence))"
   ]
  },
  {
   "cell_type": "code",
   "execution_count": 24,
   "id": "80c1d124",
   "metadata": {},
   "outputs": [],
   "source": [
    "max_length = 50\n",
    "trunc_type='post'\n",
    "padding_type='post'"
   ]
  },
  {
   "cell_type": "code",
   "execution_count": 27,
   "id": "db130942",
   "metadata": {},
   "outputs": [],
   "source": [
    "# Pad all sequences\n",
    "sequences_padded = pad_sequences(sentences_encoded, maxlen=max_length, \n",
    "                                 padding=padding_type, truncating=trunc_type)"
   ]
  },
  {
   "cell_type": "code",
   "execution_count": 31,
   "id": "ac46c56b",
   "metadata": {},
   "outputs": [],
   "source": [
    "# Separate out the sentences and labels into training and test sets\n",
    "training_size = int(len(sentences) * 0.8)\n",
    "\n",
    "training_sequences = sequences_padded[0:training_size]\n",
    "testing_sequences = sequences_padded[training_size:]\n",
    "training_labels = labels[0:training_size]\n",
    "testing_labels = labels[training_size:]"
   ]
  },
  {
   "cell_type": "markdown",
   "id": "4dfb0ae2",
   "metadata": {},
   "source": [
    "## Tokenize the labels"
   ]
  },
  {
   "cell_type": "code",
   "execution_count": 32,
   "id": "fd5ddfc3",
   "metadata": {},
   "outputs": [],
   "source": [
    "tokenizer = Tokenizer()\n",
    "\n",
    "tokenizer.fit_on_texts(training_labels)\n",
    "\n",
    "train_labels_final = tokenizer.texts_to_sequences(training_labels)\n",
    "test_labels_final = tokenizer.texts_to_sequences(testing_labels)"
   ]
  },
  {
   "cell_type": "code",
   "execution_count": 37,
   "id": "0a0ee682",
   "metadata": {},
   "outputs": [],
   "source": [
    "# # Make labels into numpy arrays for use with the network later\n",
    "train_labels_final = np.array(train_labels_final)\n",
    "test_labels_final = np.array(test_labels_final)"
   ]
  },
  {
   "cell_type": "code",
   "execution_count": 46,
   "id": "1a7de320",
   "metadata": {},
   "outputs": [],
   "source": [
    "#pd.Series(train_labels_final).unique()"
   ]
  },
  {
   "cell_type": "markdown",
   "id": "d26e18d1",
   "metadata": {},
   "source": [
    "## Create Model and Fit"
   ]
  },
  {
   "cell_type": "code",
   "execution_count": 47,
   "id": "549dff6e",
   "metadata": {},
   "outputs": [
    {
     "name": "stdout",
     "output_type": "stream",
     "text": [
      "Model: \"sequential_3\"\n",
      "_________________________________________________________________\n",
      " Layer (type)                Output Shape              Param #   \n",
      "=================================================================\n",
      " embedding_3 (Embedding)     (None, 50, 16)            16000     \n",
      "                                                                 \n",
      " global_average_pooling1d_3   (None, 16)               0         \n",
      " (GlobalAveragePooling1D)                                        \n",
      "                                                                 \n",
      " dense_6 (Dense)             (None, 6)                 102       \n",
      "                                                                 \n",
      " dense_7 (Dense)             (None, 6)                 42        \n",
      "                                                                 \n",
      "=================================================================\n",
      "Total params: 16,144\n",
      "Trainable params: 16,144\n",
      "Non-trainable params: 0\n",
      "_________________________________________________________________\n"
     ]
    }
   ],
   "source": [
    "embedding_dim = 16\n",
    "\n",
    "model = tf.keras.Sequential([\n",
    "    tf.keras.layers.Embedding(vocab_size, embedding_dim, input_length=max_length),\n",
    "    tf.keras.layers.GlobalAveragePooling1D(), \n",
    "    tf.keras.layers.Dense(6, activation='relu'),\n",
    "    tf.keras.layers.Dense(6, activation='softmax')\n",
    "])\n",
    "\n",
    "model.summary()"
   ]
  },
  {
   "cell_type": "code",
   "execution_count": 48,
   "id": "c082eca2",
   "metadata": {},
   "outputs": [
    {
     "name": "stdout",
     "output_type": "stream",
     "text": [
      "Epoch 1/15\n",
      "38/38 [==============================] - 1s 6ms/step - loss: 1.7753 - accuracy: 0.1795 - val_loss: 1.7583 - val_accuracy: 0.1577\n",
      "Epoch 2/15\n",
      "38/38 [==============================] - 0s 2ms/step - loss: 1.7373 - accuracy: 0.1795 - val_loss: 1.7235 - val_accuracy: 0.1577\n",
      "Epoch 3/15\n",
      "38/38 [==============================] - 0s 3ms/step - loss: 1.6969 - accuracy: 0.2013 - val_loss: 1.6870 - val_accuracy: 0.2483\n",
      "Epoch 4/15\n",
      "38/38 [==============================] - 0s 3ms/step - loss: 1.6524 - accuracy: 0.2919 - val_loss: 1.6493 - val_accuracy: 0.3221\n",
      "Epoch 5/15\n",
      "38/38 [==============================] - 0s 3ms/step - loss: 1.6027 - accuracy: 0.3884 - val_loss: 1.6080 - val_accuracy: 0.3557\n",
      "Epoch 6/15\n",
      "38/38 [==============================] - 0s 3ms/step - loss: 1.5479 - accuracy: 0.4346 - val_loss: 1.5632 - val_accuracy: 0.3993\n",
      "Epoch 7/15\n",
      "38/38 [==============================] - 0s 3ms/step - loss: 1.4857 - accuracy: 0.4933 - val_loss: 1.5150 - val_accuracy: 0.4362\n",
      "Epoch 8/15\n",
      "38/38 [==============================] - 0s 3ms/step - loss: 1.4177 - accuracy: 0.5604 - val_loss: 1.4622 - val_accuracy: 0.4698\n",
      "Epoch 9/15\n",
      "38/38 [==============================] - 0s 3ms/step - loss: 1.3442 - accuracy: 0.6107 - val_loss: 1.4066 - val_accuracy: 0.5101\n",
      "Epoch 10/15\n",
      "38/38 [==============================] - 0s 3ms/step - loss: 1.2676 - accuracy: 0.6678 - val_loss: 1.3500 - val_accuracy: 0.5336\n",
      "Epoch 11/15\n",
      "38/38 [==============================] - 0s 2ms/step - loss: 1.1891 - accuracy: 0.6896 - val_loss: 1.2921 - val_accuracy: 0.5470\n",
      "Epoch 12/15\n",
      "38/38 [==============================] - 0s 3ms/step - loss: 1.1104 - accuracy: 0.7106 - val_loss: 1.2343 - val_accuracy: 0.5638\n",
      "Epoch 13/15\n",
      "38/38 [==============================] - 0s 2ms/step - loss: 1.0337 - accuracy: 0.7198 - val_loss: 1.1800 - val_accuracy: 0.5772\n",
      "Epoch 14/15\n",
      "38/38 [==============================] - 0s 2ms/step - loss: 0.9603 - accuracy: 0.7450 - val_loss: 1.1272 - val_accuracy: 0.5906\n",
      "Epoch 15/15\n",
      "38/38 [==============================] - 0s 2ms/step - loss: 0.8904 - accuracy: 0.7567 - val_loss: 1.0777 - val_accuracy: 0.6007\n"
     ]
    },
    {
     "data": {
      "text/plain": [
       "<keras.callbacks.History at 0x284cff03ca0>"
      ]
     },
     "execution_count": 48,
     "metadata": {},
     "output_type": "execute_result"
    }
   ],
   "source": [
    "# compile model\n",
    "model.compile(optimizer='adam',\n",
    "             loss='sparse_categorical_crossentropy',\n",
    "             metrics=['accuracy'])\n",
    "\n",
    "# fit model\n",
    "\n",
    "num_epochs = 15\n",
    "model.fit(training_sequences,train_labels_final,\n",
    "          epochs=num_epochs,\n",
    "          validation_data=(testing_sequences, test_labels_final))"
   ]
  },
  {
   "cell_type": "code",
   "execution_count": 50,
   "id": "c2e139a6",
   "metadata": {},
   "outputs": [
    {
     "data": {
      "image/png": "[encoded data removed]",
      "text/plain": [
       "<Figure size 432x288 with 1 Axes>"
      ]
     },
     "metadata": {
      "needs_background": "light"
     },
     "output_type": "display_data"
    },
    {
     "data": {
      "image/png": "[encoded data removed]",
      "text/plain": [
       "<Figure size 432x288 with 1 Axes>"
      ]
     },
     "metadata": {
      "needs_background": "light"
     },
     "output_type": "display_data"
    }
   ],
   "source": [
    "def plot_graphs(history, string):\n",
    "  plt.plot(history.history[string])\n",
    "  plt.plot(history.history['val_'+string])\n",
    "  plt.xlabel(\"Epochs\")\n",
    "  plt.ylabel(string)\n",
    "  plt.legend([string, 'val_'+string])\n",
    "  plt.show()\n",
    "  \n",
    "plot_graphs(model.history, \"accuracy\")\n",
    "plot_graphs(model.history, \"loss\")"
   ]
  },
  {
   "cell_type": "code",
   "execution_count": null,
   "id": "acbd2772",
   "metadata": {},
   "outputs": [],
   "source": []
  }
 ],
 "metadata": {
  "kernelspec": {
   "display_name": "Python 3 (ipykernel)",
   "language": "python",
   "name": "python3"
  },
  "language_info": {
   "codemirror_mode": {
    "name": "ipython",
    "version": 3
   },
   "file_extension": ".py",
   "mimetype": "text/x-python",
   "name": "python",
   "nbconvert_exporter": "python",
   "pygments_lexer": "ipython3",
   "version": "3.9.5"
  }
 },
 "nbformat": 4,
 "nbformat_minor": 5
}
