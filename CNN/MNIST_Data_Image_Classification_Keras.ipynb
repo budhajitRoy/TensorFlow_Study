{
 "cells": [
  {
   "cell_type": "markdown",
   "id": "3d46f975",
   "metadata": {},
   "source": [
    "### Convolutional Neural Networks for Image Classification"
   ]
  },
  {
   "cell_type": "code",
   "execution_count": 1,
   "id": "de271ad2",
   "metadata": {},
   "outputs": [],
   "source": [
    "# import libraries\n",
    "\n",
    "import numpy as np\n",
    "import pandas as pd\n",
    "import matplotlib.pyplot as plt\n",
    "import seaborn as sns"
   ]
  },
  {
   "cell_type": "code",
   "execution_count": 2,
   "id": "aff499c9",
   "metadata": {},
   "outputs": [],
   "source": [
    "# import data from keras datasets\n",
    "from tensorflow.keras.datasets import mnist"
   ]
  },
  {
   "cell_type": "code",
   "execution_count": 3,
   "id": "8fff8081",
   "metadata": {},
   "outputs": [
    {
     "name": "stdout",
     "output_type": "stream",
     "text": [
      "Downloading data from https://storage.googleapis.com/tensorflow/tf-keras-datasets/mnist.npz\n",
      "11490434/11490434 [==============================] - 2s 0us/step\n"
     ]
    }
   ],
   "source": [
    "(X_train, y_train), (X_test, y_test) = mnist.load_data()"
   ]
  },
  {
   "cell_type": "code",
   "execution_count": 4,
   "id": "7deeb6f6",
   "metadata": {},
   "outputs": [
    {
     "data": {
      "text/plain": [
       "((60000, 28, 28), (60000,))"
      ]
     },
     "execution_count": 4,
     "metadata": {},
     "output_type": "execute_result"
    }
   ],
   "source": [
    "# check the shapes\n",
    "X_train.shape, y_train.shape"
   ]
  },
  {
   "cell_type": "code",
   "execution_count": 5,
   "id": "afb2d87c",
   "metadata": {},
   "outputs": [
    {
     "data": {
      "text/plain": [
       "((10000, 28, 28), (10000,))"
      ]
     },
     "execution_count": 5,
     "metadata": {},
     "output_type": "execute_result"
    }
   ],
   "source": [
    "X_test.shape, y_test.shape"
   ]
  },
  {
   "cell_type": "markdown",
   "id": "cb148973",
   "metadata": {},
   "source": [
    "- We can see the shape of X_train as (60000, 28, 28) - indicates there are 60000 samples, width of 28 pixels and height of 28 pixels as these represents image data"
   ]
  },
  {
   "cell_type": "code",
   "execution_count": 7,
   "id": "557529e6",
   "metadata": {},
   "outputs": [
    {
     "data": {
      "text/plain": [
       "array([[  0,   0,   0,   0,   0,   0,   0,   0,   0,   0,   0,   0,   0,\n",
       "          0,   0,   0,   0,   0,   0,   0,   0,   0,   0,   0,   0,   0,\n",
       "          0,   0],\n",
       "       [  0,   0,   0,   0,   0,   0,   0,   0,   0,   0,   0,   0,   0,\n",
       "          0,   0,   0,   0,   0,   0,   0,   0,   0,   0,   0,   0,   0,\n",
       "          0,   0],\n",
       "       [  0,   0,   0,   0,   0,   0,   0,   0,   0,   0,   0,   0,   0,\n",
       "          0,   0,   0,   0,   0,   0,   0,   0,   0,   0,   0,   0,   0,\n",
       "          0,   0],\n",
       "       [  0,   0,   0,   0,   0,   0,   0,   0,   0,   0,   0,   0,   0,\n",
       "          0,   0,   0,   0,   0,   0,   0,   0,   0,   0,   0,   0,   0,\n",
       "          0,   0],\n",
       "       [  0,   0,   0,   0,   0,   0,   0,   0,   0,   0,   0,   0,   0,\n",
       "          0,   0,   0,   0,   0,   0,   0,   0,   0,   0,   0,   0,   0,\n",
       "          0,   0],\n",
       "       [  0,   0,   0,   0,   0,   0,   0,   0,   0,   0,   0,   0,   3,\n",
       "         18,  18,  18, 126, 136, 175,  26, 166, 255, 247, 127,   0,   0,\n",
       "          0,   0],\n",
       "       [  0,   0,   0,   0,   0,   0,   0,   0,  30,  36,  94, 154, 170,\n",
       "        253, 253, 253, 253, 253, 225, 172, 253, 242, 195,  64,   0,   0,\n",
       "          0,   0],\n",
       "       [  0,   0,   0,   0,   0,   0,   0,  49, 238, 253, 253, 253, 253,\n",
       "        253, 253, 253, 253, 251,  93,  82,  82,  56,  39,   0,   0,   0,\n",
       "          0,   0],\n",
       "       [  0,   0,   0,   0,   0,   0,   0,  18, 219, 253, 253, 253, 253,\n",
       "        253, 198, 182, 247, 241,   0,   0,   0,   0,   0,   0,   0,   0,\n",
       "          0,   0],\n",
       "       [  0,   0,   0,   0,   0,   0,   0,   0,  80, 156, 107, 253, 253,\n",
       "        205,  11,   0,  43, 154,   0,   0,   0,   0,   0,   0,   0,   0,\n",
       "          0,   0],\n",
       "       [  0,   0,   0,   0,   0,   0,   0,   0,   0,  14,   1, 154, 253,\n",
       "         90,   0,   0,   0,   0,   0,   0,   0,   0,   0,   0,   0,   0,\n",
       "          0,   0],\n",
       "       [  0,   0,   0,   0,   0,   0,   0,   0,   0,   0,   0, 139, 253,\n",
       "        190,   2,   0,   0,   0,   0,   0,   0,   0,   0,   0,   0,   0,\n",
       "          0,   0],\n",
       "       [  0,   0,   0,   0,   0,   0,   0,   0,   0,   0,   0,  11, 190,\n",
       "        253,  70,   0,   0,   0,   0,   0,   0,   0,   0,   0,   0,   0,\n",
       "          0,   0],\n",
       "       [  0,   0,   0,   0,   0,   0,   0,   0,   0,   0,   0,   0,  35,\n",
       "        241, 225, 160, 108,   1,   0,   0,   0,   0,   0,   0,   0,   0,\n",
       "          0,   0],\n",
       "       [  0,   0,   0,   0,   0,   0,   0,   0,   0,   0,   0,   0,   0,\n",
       "         81, 240, 253, 253, 119,  25,   0,   0,   0,   0,   0,   0,   0,\n",
       "          0,   0],\n",
       "       [  0,   0,   0,   0,   0,   0,   0,   0,   0,   0,   0,   0,   0,\n",
       "          0,  45, 186, 253, 253, 150,  27,   0,   0,   0,   0,   0,   0,\n",
       "          0,   0],\n",
       "       [  0,   0,   0,   0,   0,   0,   0,   0,   0,   0,   0,   0,   0,\n",
       "          0,   0,  16,  93, 252, 253, 187,   0,   0,   0,   0,   0,   0,\n",
       "          0,   0],\n",
       "       [  0,   0,   0,   0,   0,   0,   0,   0,   0,   0,   0,   0,   0,\n",
       "          0,   0,   0,   0, 249, 253, 249,  64,   0,   0,   0,   0,   0,\n",
       "          0,   0],\n",
       "       [  0,   0,   0,   0,   0,   0,   0,   0,   0,   0,   0,   0,   0,\n",
       "          0,  46, 130, 183, 253, 253, 207,   2,   0,   0,   0,   0,   0,\n",
       "          0,   0],\n",
       "       [  0,   0,   0,   0,   0,   0,   0,   0,   0,   0,   0,   0,  39,\n",
       "        148, 229, 253, 253, 253, 250, 182,   0,   0,   0,   0,   0,   0,\n",
       "          0,   0],\n",
       "       [  0,   0,   0,   0,   0,   0,   0,   0,   0,   0,  24, 114, 221,\n",
       "        253, 253, 253, 253, 201,  78,   0,   0,   0,   0,   0,   0,   0,\n",
       "          0,   0],\n",
       "       [  0,   0,   0,   0,   0,   0,   0,   0,  23,  66, 213, 253, 253,\n",
       "        253, 253, 198,  81,   2,   0,   0,   0,   0,   0,   0,   0,   0,\n",
       "          0,   0],\n",
       "       [  0,   0,   0,   0,   0,   0,  18, 171, 219, 253, 253, 253, 253,\n",
       "        195,  80,   9,   0,   0,   0,   0,   0,   0,   0,   0,   0,   0,\n",
       "          0,   0],\n",
       "       [  0,   0,   0,   0,  55, 172, 226, 253, 253, 253, 253, 244, 133,\n",
       "         11,   0,   0,   0,   0,   0,   0,   0,   0,   0,   0,   0,   0,\n",
       "          0,   0],\n",
       "       [  0,   0,   0,   0, 136, 253, 253, 253, 212, 135, 132,  16,   0,\n",
       "          0,   0,   0,   0,   0,   0,   0,   0,   0,   0,   0,   0,   0,\n",
       "          0,   0],\n",
       "       [  0,   0,   0,   0,   0,   0,   0,   0,   0,   0,   0,   0,   0,\n",
       "          0,   0,   0,   0,   0,   0,   0,   0,   0,   0,   0,   0,   0,\n",
       "          0,   0],\n",
       "       [  0,   0,   0,   0,   0,   0,   0,   0,   0,   0,   0,   0,   0,\n",
       "          0,   0,   0,   0,   0,   0,   0,   0,   0,   0,   0,   0,   0,\n",
       "          0,   0],\n",
       "       [  0,   0,   0,   0,   0,   0,   0,   0,   0,   0,   0,   0,   0,\n",
       "          0,   0,   0,   0,   0,   0,   0,   0,   0,   0,   0,   0,   0,\n",
       "          0,   0]], dtype=uint8)"
      ]
     },
     "execution_count": 7,
     "metadata": {},
     "output_type": "execute_result"
    }
   ],
   "source": [
    "sample_image = X_train[0]\n",
    "sample_image"
   ]
  },
  {
   "cell_type": "code",
   "execution_count": 8,
   "id": "253fec43",
   "metadata": {},
   "outputs": [
    {
     "data": {
      "text/plain": [
       "(255, 0)"
      ]
     },
     "execution_count": 8,
     "metadata": {},
     "output_type": "execute_result"
    }
   ],
   "source": [
    "sample_image.max(), sample_image.min()"
   ]
  },
  {
   "cell_type": "markdown",
   "id": "7dc55788",
   "metadata": {},
   "source": [
    "- the values in each pixel ranges from 0 to 255\n",
    "- 0 could represent white and 255 represents black, as the image is in Greyscale\n",
    "- later on we will need to normalize the data, maybe between 0 and 1 for the model to train easier and faster way\n",
    "- Also, we will need to reshape the data in say (60000, 28, 28, 28, 1) - last 1 representing the color channels"
   ]
  },
  {
   "cell_type": "markdown",
   "id": "b50371bc",
   "metadata": {},
   "source": [
    "### Preprocessing Data"
   ]
  },
  {
   "cell_type": "code",
   "execution_count": 9,
   "id": "92a08120",
   "metadata": {},
   "outputs": [
    {
     "data": {
      "text/plain": [
       "<matplotlib.image.AxesImage at 0x1ac33670940>"
      ]
     },
     "execution_count": 9,
     "metadata": {},
     "output_type": "execute_result"
    },
    {
     "data": {
      "image/png": "[encoded data removed]",
      "text/plain": [
       "<Figure size 432x288 with 1 Axes>"
      ]
     },
     "metadata": {
      "needs_background": "light"
     },
     "output_type": "display_data"
    }
   ],
   "source": [
    "# plotting this sample image\n",
    "plt.imshow(sample_image)"
   ]
  },
  {
   "cell_type": "markdown",
   "id": "65f21af1",
   "metadata": {},
   "source": [
    "- We are seeing as color but this is not actully a color image, it is on grey scale only because of this palette, it looks like color image"
   ]
  },
  {
   "cell_type": "code",
   "execution_count": 10,
   "id": "a64ef760",
   "metadata": {},
   "outputs": [
    {
     "data": {
      "text/plain": [
       "array([5, 0, 4, ..., 5, 6, 8], dtype=uint8)"
      ]
     },
     "execution_count": 10,
     "metadata": {},
     "output_type": "execute_result"
    }
   ],
   "source": [
    "# check the target data\n",
    "y_train"
   ]
  },
  {
   "cell_type": "markdown",
   "id": "8bcdd037",
   "metadata": {},
   "source": [
    "- We can see the target data is listed in integer numeric values\n",
    "- these values cannot be used as it is as the model will treat these values as a continuous value and will predict accordingly\n",
    "- We will encode these target values using one-hot encoding using keras"
   ]
  },
  {
   "cell_type": "code",
   "execution_count": 11,
   "id": "5ffa38b7",
   "metadata": {},
   "outputs": [],
   "source": [
    "# one hot encoding\n",
    "from tensorflow.keras.utils import to_categorical"
   ]
  },
  {
   "cell_type": "code",
   "execution_count": 12,
   "id": "20d75373",
   "metadata": {},
   "outputs": [
    {
     "data": {
      "text/plain": [
       "(60000,)"
      ]
     },
     "execution_count": 12,
     "metadata": {},
     "output_type": "execute_result"
    }
   ],
   "source": [
    "# check the shape of the target \n",
    "y_train.shape"
   ]
  },
  {
   "cell_type": "code",
   "execution_count": 13,
   "id": "1a320244",
   "metadata": {},
   "outputs": [],
   "source": [
    "# checking an example values after encoding\n",
    "y_example = to_categorical(y_train)"
   ]
  },
  {
   "cell_type": "code",
   "execution_count": 14,
   "id": "5b051038",
   "metadata": {},
   "outputs": [
    {
     "data": {
      "text/plain": [
       "array([[0., 0., 0., ..., 0., 0., 0.],\n",
       "       [1., 0., 0., ..., 0., 0., 0.],\n",
       "       [0., 0., 0., ..., 0., 0., 0.],\n",
       "       ...,\n",
       "       [0., 0., 0., ..., 0., 0., 0.],\n",
       "       [0., 0., 0., ..., 0., 0., 0.],\n",
       "       [0., 0., 0., ..., 0., 1., 0.]], dtype=float32)"
      ]
     },
     "execution_count": 14,
     "metadata": {},
     "output_type": "execute_result"
    }
   ],
   "source": [
    "y_example"
   ]
  },
  {
   "cell_type": "code",
   "execution_count": 15,
   "id": "ac298e74",
   "metadata": {},
   "outputs": [
    {
     "data": {
      "text/plain": [
       "array([0., 0., 0., 0., 0., 1., 0., 0., 0., 0.], dtype=float32)"
      ]
     },
     "execution_count": 15,
     "metadata": {},
     "output_type": "execute_result"
    }
   ],
   "source": [
    "y_example[0]"
   ]
  },
  {
   "cell_type": "markdown",
   "id": "bde05230",
   "metadata": {},
   "source": [
    "- Now we can see the integer numeric data is now converted into an binary value array of 10 elements \n",
    "- for the first sample image, the value is 5, so the index position 5 has 1 indicating 5"
   ]
  },
  {
   "cell_type": "code",
   "execution_count": 16,
   "id": "9862a418",
   "metadata": {},
   "outputs": [],
   "source": [
    "# lets encode our target data \n",
    "# passing the number of class explicitly\n",
    "# otherwise model will automatically identify these class if not provided\n",
    "y_cat_train = to_categorical(y_train, 10)\n",
    "\n",
    "y_cat_test = to_categorical(y_test, 10)"
   ]
  },
  {
   "cell_type": "markdown",
   "id": "0fd67995",
   "metadata": {},
   "source": [
    "### Processing Training Data\n",
    "- We can use scikit learn preprocessing like MinMaxScaler to normalize the data, but we know that the value in a pixel will be between 0 and 255\n",
    "- So, we can just divide the value by 255, that will basically give a value between 0 and 1 which is what we are looking for"
   ]
  },
  {
   "cell_type": "code",
   "execution_count": 19,
   "id": "50be94b6",
   "metadata": {},
   "outputs": [],
   "source": [
    "# normalizing the train and test data\n",
    "X_train = X_train/255\n",
    "X_test = X_test/255"
   ]
  },
  {
   "cell_type": "code",
   "execution_count": 21,
   "id": "5174613c",
   "metadata": {},
   "outputs": [
    {
     "data": {
      "text/plain": [
       "(1.0, 0.0)"
      ]
     },
     "execution_count": 21,
     "metadata": {},
     "output_type": "execute_result"
    }
   ],
   "source": [
    "# check one of a sample\n",
    "X_train[0].max(), X_train[0].min()"
   ]
  },
  {
   "cell_type": "code",
   "execution_count": 22,
   "id": "18ae6ffa",
   "metadata": {},
   "outputs": [],
   "source": [
    "scaled_sample_image = X_train[0]"
   ]
  },
  {
   "cell_type": "code",
   "execution_count": 23,
   "id": "23219545",
   "metadata": {},
   "outputs": [
    {
     "data": {
      "text/plain": [
       "<matplotlib.image.AxesImage at 0x1ac3749f280>"
      ]
     },
     "execution_count": 23,
     "metadata": {},
     "output_type": "execute_result"
    },
    {
     "data": {
      "image/png": "[encoded data removed]",
      "text/plain": [
       "<Figure size 432x288 with 1 Axes>"
      ]
     },
     "metadata": {
      "needs_background": "light"
     },
     "output_type": "display_data"
    }
   ],
   "source": [
    "# plot and check the image\n",
    "plt.imshow(scaled_sample_image)"
   ]
  },
  {
   "cell_type": "markdown",
   "id": "300241e4",
   "metadata": {},
   "source": [
    "- There is no change in the original image and the scaled image as we have just only scaled the values and not altering the values"
   ]
  },
  {
   "cell_type": "markdown",
   "id": "d1fdfebc",
   "metadata": {},
   "source": [
    "## Reshaping the Data\n",
    "- Like mentioned before, we will need to reshape the data for the model to handle properly\n",
    "- Right now our data is 60,000 images stored in 28 by 28 pixel array formation. \n",
    "\n",
    "This is correct for a CNN, but we need to add one more dimension to show we're dealing with 1 RGB channel (since technically the images are in black and white, only showing values from 0-255 on a single channel), an color image would have 3 dimensions."
   ]
  },
  {
   "cell_type": "code",
   "execution_count": 25,
   "id": "3476e2ba",
   "metadata": {},
   "outputs": [
    {
     "data": {
      "text/plain": [
       "((60000, 28, 28), (10000, 28, 28))"
      ]
     },
     "execution_count": 25,
     "metadata": {},
     "output_type": "execute_result"
    }
   ],
   "source": [
    "X_train.shape, X_test.shape"
   ]
  },
  {
   "cell_type": "code",
   "execution_count": 27,
   "id": "faa31cc7",
   "metadata": {},
   "outputs": [],
   "source": [
    "# reshape to include the channel dimension\n",
    "\n",
    "X_train = X_train.reshape(60000, 28, 28, 1)\n",
    "X_test = X_test.reshape(10000, 28, 28, 1)"
   ]
  },
  {
   "cell_type": "code",
   "execution_count": 28,
   "id": "11ea9251",
   "metadata": {},
   "outputs": [
    {
     "data": {
      "text/plain": [
       "((60000, 28, 28, 1), (10000, 28, 28, 1))"
      ]
     },
     "execution_count": 28,
     "metadata": {},
     "output_type": "execute_result"
    }
   ],
   "source": [
    "# check the shape \n",
    "X_train.shape, X_test.shape"
   ]
  },
  {
   "cell_type": "markdown",
   "id": "2c6021a4",
   "metadata": {},
   "source": [
    "## Training/Fitting the model"
   ]
  },
  {
   "cell_type": "code",
   "execution_count": 29,
   "id": "59783ee9",
   "metadata": {},
   "outputs": [],
   "source": [
    "# import libraries\n",
    "\n",
    "from tensorflow.keras.models import Sequential\n",
    "from tensorflow.keras.layers import Dense, MaxPool2D, Flatten, Conv2D"
   ]
  },
  {
   "cell_type": "code",
   "execution_count": 36,
   "id": "b2e6201c",
   "metadata": {},
   "outputs": [],
   "source": [
    "# initialize the model\n",
    "model = Sequential()\n",
    "\n",
    "# add layers\n",
    "model.add(Conv2D(filters=32,                # number of filter kernels\n",
    "                 kernel_size=(4,4),         # size of filter kernel\n",
    "                 strides=(1,1),             # stride -- like in terms of how many pixels to move to cover\n",
    "                 padding = 'VALID',         # https://stackoverflow.com/questions/37674306/what-is-the-difference-between-same-and-valid-padding-in-tf-nn-max-pool-of-t\n",
    "                 input_shape = (28, 28, 1),    # input shape of the data\n",
    "                 activation = 'relu'))      # activation function\n",
    "\n",
    "# add the max pool layer\n",
    "model.add(MaxPool2D(pool_size=(2,2)))\n",
    "\n",
    "# flatten the data, before passing to Dense layer\n",
    "# this will convert 28x28 data into an array containing 784 elements\n",
    "model.add(Flatten())\n",
    "\n",
    "# add Dense layer\n",
    "model.add(Dense(128, activation = 'relu'))\n",
    "\n",
    "#output layer\n",
    "model.add(Dense(10, activation='softmax')) # units = 10-> 10 target labels\n",
    "# normally use softmax for multiclass classification \n",
    "\n",
    "\n",
    "# compile the model\n",
    "model.compile(optimizer='adam',\n",
    "              loss='categorical_crossentropy', # for multiclass classification\n",
    "             metrics=['accuracy']       # additional metrics we can pass that we want to see while training\n",
    "             )                          # this will get reported in model history\n",
    "\n",
    "# https://keras.io/metrics/  -- to check all available metrics from keras"
   ]
  },
  {
   "cell_type": "code",
   "execution_count": 40,
   "id": "9a46a421",
   "metadata": {},
   "outputs": [
    {
     "name": "stdout",
     "output_type": "stream",
     "text": [
      "Model: \"sequential_2\"\n",
      "_________________________________________________________________\n",
      " Layer (type)                Output Shape              Param #   \n",
      "=================================================================\n",
      " conv2d_2 (Conv2D)           (None, 25, 25, 32)        544       \n",
      "                                                                 \n",
      " max_pooling2d_2 (MaxPooling  (None, 12, 12, 32)       0         \n",
      " 2D)                                                             \n",
      "                                                                 \n",
      " flatten_1 (Flatten)         (None, 4608)              0         \n",
      "                                                                 \n",
      " dense_2 (Dense)             (None, 128)               589952    \n",
      "                                                                 \n",
      " dense_3 (Dense)             (None, 10)                1290      \n",
      "                                                                 \n",
      "=================================================================\n",
      "Total params: 591,786\n",
      "Trainable params: 591,786\n",
      "Non-trainable params: 0\n",
      "_________________________________________________________________\n"
     ]
    }
   ],
   "source": [
    "model.summary()"
   ]
  },
  {
   "cell_type": "markdown",
   "id": "d62358ae",
   "metadata": {},
   "source": [
    "### Adding Early Stopping"
   ]
  },
  {
   "cell_type": "code",
   "execution_count": 37,
   "id": "aa029002",
   "metadata": {},
   "outputs": [],
   "source": [
    "from tensorflow.keras.callbacks import EarlyStopping"
   ]
  },
  {
   "cell_type": "code",
   "execution_count": 38,
   "id": "6fd540bf",
   "metadata": {},
   "outputs": [],
   "source": [
    "early_stop = EarlyStopping(monitor='val_loss', # we can also provide the accuracy as we have provided in the metrics \n",
    "                           patience=2)"
   ]
  },
  {
   "cell_type": "code",
   "execution_count": 41,
   "id": "0b6fbce2",
   "metadata": {},
   "outputs": [
    {
     "name": "stdout",
     "output_type": "stream",
     "text": [
      "Epoch 1/10\n",
      "1875/1875 [==============================] - 26s 12ms/step - loss: 0.1352 - accuracy: 0.9601 - val_loss: 0.0658 - val_accuracy: 0.9780\n",
      "Epoch 2/10\n",
      "1875/1875 [==============================] - 23s 12ms/step - loss: 0.0475 - accuracy: 0.9853 - val_loss: 0.0415 - val_accuracy: 0.9856\n",
      "Epoch 3/10\n",
      "1875/1875 [==============================] - 23s 12ms/step - loss: 0.0310 - accuracy: 0.9900 - val_loss: 0.0380 - val_accuracy: 0.9883\n",
      "Epoch 4/10\n",
      "1875/1875 [==============================] - 24s 13ms/step - loss: 0.0199 - accuracy: 0.9936 - val_loss: 0.0395 - val_accuracy: 0.9873\n",
      "Epoch 5/10\n",
      "1875/1875 [==============================] - 24s 13ms/step - loss: 0.0153 - accuracy: 0.9952 - val_loss: 0.0392 - val_accuracy: 0.9870\n"
     ]
    },
    {
     "data": {
      "text/plain": [
       "<keras.callbacks.History at 0x1ac6beaa820>"
      ]
     },
     "execution_count": 41,
     "metadata": {},
     "output_type": "execute_result"
    }
   ],
   "source": [
    "# training the model\n",
    "model.fit(X_train,\n",
    "          y_cat_train,\n",
    "          epochs=10,\n",
    "          validation_data=(X_test, y_cat_test),\n",
    "          callbacks=[early_stop]\n",
    "         )"
   ]
  },
  {
   "cell_type": "markdown",
   "id": "5323d4da",
   "metadata": {},
   "source": [
    "- Model Early Stopped"
   ]
  },
  {
   "cell_type": "markdown",
   "id": "68f83f7d",
   "metadata": {},
   "source": [
    "### Model Evaluation"
   ]
  },
  {
   "cell_type": "code",
   "execution_count": 44,
   "id": "5f46d656",
   "metadata": {},
   "outputs": [
    {
     "data": {
      "text/html": [
       "<div>\n",
       "<style scoped>\n",
       "    .dataframe tbody tr th:only-of-type {\n",
       "        vertical-align: middle;\n",
       "    }\n",
       "\n",
       "    .dataframe tbody tr th {\n",
       "        vertical-align: top;\n",
       "    }\n",
       "\n",
       "    .dataframe thead th {\n",
       "        text-align: right;\n",
       "    }\n",
       "</style>\n",
       "<table border=\"1\" class=\"dataframe\">\n",
       "  <thead>\n",
       "    <tr style=\"text-align: right;\">\n",
       "      <th></th>\n",
       "      <th>loss</th>\n",
       "      <th>accuracy</th>\n",
       "      <th>val_loss</th>\n",
       "      <th>val_accuracy</th>\n",
       "    </tr>\n",
       "  </thead>\n",
       "  <tbody>\n",
       "    <tr>\n",
       "      <th>0</th>\n",
       "      <td>0.135226</td>\n",
       "      <td>0.960100</td>\n",
       "      <td>0.065830</td>\n",
       "      <td>0.9780</td>\n",
       "    </tr>\n",
       "    <tr>\n",
       "      <th>1</th>\n",
       "      <td>0.047536</td>\n",
       "      <td>0.985317</td>\n",
       "      <td>0.041462</td>\n",
       "      <td>0.9856</td>\n",
       "    </tr>\n",
       "    <tr>\n",
       "      <th>2</th>\n",
       "      <td>0.030967</td>\n",
       "      <td>0.989967</td>\n",
       "      <td>0.038042</td>\n",
       "      <td>0.9883</td>\n",
       "    </tr>\n",
       "    <tr>\n",
       "      <th>3</th>\n",
       "      <td>0.019938</td>\n",
       "      <td>0.993633</td>\n",
       "      <td>0.039456</td>\n",
       "      <td>0.9873</td>\n",
       "    </tr>\n",
       "    <tr>\n",
       "      <th>4</th>\n",
       "      <td>0.015341</td>\n",
       "      <td>0.995167</td>\n",
       "      <td>0.039244</td>\n",
       "      <td>0.9870</td>\n",
       "    </tr>\n",
       "  </tbody>\n",
       "</table>\n",
       "</div>"
      ],
      "text/plain": [
       "       loss  accuracy  val_loss  val_accuracy\n",
       "0  0.135226  0.960100  0.065830        0.9780\n",
       "1  0.047536  0.985317  0.041462        0.9856\n",
       "2  0.030967  0.989967  0.038042        0.9883\n",
       "3  0.019938  0.993633  0.039456        0.9873\n",
       "4  0.015341  0.995167  0.039244        0.9870"
      ]
     },
     "execution_count": 44,
     "metadata": {},
     "output_type": "execute_result"
    }
   ],
   "source": [
    "metrics = pd.DataFrame(model.history.history)\n",
    "metrics"
   ]
  },
  {
   "cell_type": "markdown",
   "id": "c5a717c8",
   "metadata": {},
   "source": [
    "- now we can see val_accuracy in the history as we have added as part of the metrics"
   ]
  },
  {
   "cell_type": "code",
   "execution_count": 46,
   "id": "9ab7151e",
   "metadata": {},
   "outputs": [
    {
     "data": {
      "text/plain": [
       "<AxesSubplot:>"
      ]
     },
     "execution_count": 46,
     "metadata": {},
     "output_type": "execute_result"
    },
    {
     "data": {
      "image/png": "[encoded data removed]",
      "text/plain": [
       "<Figure size 432x288 with 1 Axes>"
      ]
     },
     "metadata": {
      "needs_background": "light"
     },
     "output_type": "display_data"
    }
   ],
   "source": [
    "# plot and compare the metrics\n",
    "metrics[['loss', 'val_loss']].plot()"
   ]
  },
  {
   "cell_type": "code",
   "execution_count": 47,
   "id": "128e0ed4",
   "metadata": {},
   "outputs": [
    {
     "data": {
      "text/plain": [
       "<AxesSubplot:>"
      ]
     },
     "execution_count": 47,
     "metadata": {},
     "output_type": "execute_result"
    },
    {
     "data": {
      "image/png": "[encoded data removed]",
      "text/plain": [
       "<Figure size 432x288 with 1 Axes>"
      ]
     },
     "metadata": {
      "needs_background": "light"
     },
     "output_type": "display_data"
    }
   ],
   "source": [
    "# plot and compare the metrics\n",
    "metrics[['accuracy', 'val_accuracy']].plot()"
   ]
  },
  {
   "cell_type": "markdown",
   "id": "1b31963b",
   "metadata": {},
   "source": [
    "- We can the training loss kept reducing but the validation loss kind of remain same for at least 2 epochs, so the early stop was called\n",
    "- Simlarly in the accuracy metrics also, the training accuracy kind of kept increasing even about to reach 100% but the validation accuracy remains unchanged."
   ]
  },
  {
   "cell_type": "code",
   "execution_count": 48,
   "id": "1c86f0e3",
   "metadata": {},
   "outputs": [],
   "source": [
    "### Check the evaluation metrics\n",
    "from sklearn.metrics import classification_report, confusion_matrix"
   ]
  },
  {
   "cell_type": "code",
   "execution_count": 53,
   "id": "59caef67",
   "metadata": {},
   "outputs": [],
   "source": [
    "from tensorflow import keras"
   ]
  },
  {
   "cell_type": "code",
   "execution_count": 60,
   "id": "865538b5",
   "metadata": {},
   "outputs": [
    {
     "name": "stdout",
     "output_type": "stream",
     "text": [
      "313/313 [==============================] - 2s 6ms/step\n"
     ]
    }
   ],
   "source": [
    "# get model predictions\n",
    "predict_x=model.predict(X_test) \n",
    "test_preds=np.argmax(predict_x,axis=1)"
   ]
  },
  {
   "cell_type": "code",
   "execution_count": 61,
   "id": "dfda1f9a",
   "metadata": {},
   "outputs": [
    {
     "data": {
      "text/plain": [
       "array([7, 2, 1, ..., 4, 5, 6], dtype=int64)"
      ]
     },
     "execution_count": 61,
     "metadata": {},
     "output_type": "execute_result"
    }
   ],
   "source": [
    "test_preds"
   ]
  },
  {
   "cell_type": "code",
   "execution_count": 59,
   "id": "237f354d",
   "metadata": {},
   "outputs": [
    {
     "data": {
      "text/plain": [
       "array([4.7316773e-10, 3.6650466e-08, 3.5292400e-09, 1.9205594e-07,\n",
       "       5.2299297e-11, 3.8421555e-10, 6.0408722e-17, 9.9999976e-01,\n",
       "       5.2778226e-10, 4.1858201e-09], dtype=float32)"
      ]
     },
     "execution_count": 59,
     "metadata": {},
     "output_type": "execute_result"
    }
   ],
   "source": [
    "predict_x[0]"
   ]
  },
  {
   "cell_type": "code",
   "execution_count": 62,
   "id": "e6e19e79",
   "metadata": {},
   "outputs": [
    {
     "name": "stdout",
     "output_type": "stream",
     "text": [
      "              precision    recall  f1-score   support\n",
      "\n",
      "           0       0.98      1.00      0.99       980\n",
      "           1       0.99      1.00      1.00      1135\n",
      "           2       0.99      0.99      0.99      1032\n",
      "           3       0.99      1.00      0.99      1010\n",
      "           4       0.99      0.97      0.98       982\n",
      "           5       0.99      0.98      0.99       892\n",
      "           6       0.99      0.98      0.99       958\n",
      "           7       0.99      0.99      0.99      1028\n",
      "           8       0.97      0.99      0.98       974\n",
      "           9       0.98      0.98      0.98      1009\n",
      "\n",
      "    accuracy                           0.99     10000\n",
      "   macro avg       0.99      0.99      0.99     10000\n",
      "weighted avg       0.99      0.99      0.99     10000\n",
      "\n"
     ]
    }
   ],
   "source": [
    "print(classification_report(y_test, test_preds))"
   ]
  },
  {
   "cell_type": "code",
   "execution_count": 63,
   "id": "c0cea4c3",
   "metadata": {},
   "outputs": [
    {
     "name": "stdout",
     "output_type": "stream",
     "text": [
      "[[ 977    0    0    0    0    0    0    1    2    0]\n",
      " [   0 1132    0    0    0    1    1    0    1    0]\n",
      " [   1    1 1017    1    0    0    1    5    6    0]\n",
      " [   0    0    1 1005    0    2    0    0    2    0]\n",
      " [   1    2    1    0  954    0    4    0    5   15]\n",
      " [   2    0    0    9    0  874    3    0    3    1]\n",
      " [   8    2    0    0    2    1  942    0    3    0]\n",
      " [   1    2    3    3    0    0    0 1014    2    3]\n",
      " [   2    0    0    2    0    0    0    0  969    1]\n",
      " [   1    1    1    0    3    2    0    8    7  986]]\n"
     ]
    }
   ],
   "source": [
    "print(confusion_matrix(y_test, test_preds))"
   ]
  },
  {
   "cell_type": "markdown",
   "id": "a0316330",
   "metadata": {},
   "source": [
    "## For new data"
   ]
  },
  {
   "cell_type": "code",
   "execution_count": 68,
   "id": "41dee24d",
   "metadata": {},
   "outputs": [
    {
     "data": {
      "text/plain": [
       "(1.0, 0.0)"
      ]
     },
     "execution_count": 68,
     "metadata": {},
     "output_type": "execute_result"
    }
   ],
   "source": [
    "new_data = X_test[8]\n",
    "new_data.max(), new_data.min()"
   ]
  },
  {
   "cell_type": "code",
   "execution_count": 70,
   "id": "673532f8",
   "metadata": {},
   "outputs": [
    {
     "data": {
      "text/plain": [
       "<matplotlib.image.AxesImage at 0x1ac6bb9a550>"
      ]
     },
     "execution_count": 70,
     "metadata": {},
     "output_type": "execute_result"
    },
    {
     "data": {
      "image/png": "[encoded data removed]",
      "text/plain": [
       "<Figure size 432x288 with 1 Axes>"
      ]
     },
     "metadata": {
      "needs_background": "light"
     },
     "output_type": "display_data"
    }
   ],
   "source": [
    "plt.imshow(new_data)"
   ]
  },
  {
   "cell_type": "code",
   "execution_count": 73,
   "id": "41ade5dc",
   "metadata": {},
   "outputs": [
    {
     "data": {
      "text/plain": [
       "(28, 28, 1)"
      ]
     },
     "execution_count": 73,
     "metadata": {},
     "output_type": "execute_result"
    }
   ],
   "source": [
    "new_data.shape"
   ]
  },
  {
   "cell_type": "markdown",
   "id": "7a76a882",
   "metadata": {},
   "source": [
    "- We should reshape new data to match with the input shape that we used to train our model i.e.\n",
    "- (number of samples, width, height, num_channels)\n",
    "- for one new data it will be (1, 28, 28, 1)"
   ]
  },
  {
   "cell_type": "code",
   "execution_count": 74,
   "id": "8fb4cd1e",
   "metadata": {},
   "outputs": [],
   "source": [
    "# reshape new data\n",
    "new_data = new_data.reshape(1,28,28,1)"
   ]
  },
  {
   "cell_type": "code",
   "execution_count": 75,
   "id": "2ae8f385",
   "metadata": {
    "scrolled": false
   },
   "outputs": [
    {
     "name": "stdout",
     "output_type": "stream",
     "text": [
      "1/1 [==============================] - 0s 150ms/step\n"
     ]
    },
    {
     "data": {
      "text/plain": [
       "array([5], dtype=int64)"
      ]
     },
     "execution_count": 75,
     "metadata": {},
     "output_type": "execute_result"
    }
   ],
   "source": [
    "# predict using the model\n",
    "np.argmax(model.predict(new_data), axis = 1)"
   ]
  },
  {
   "cell_type": "code",
   "execution_count": 76,
   "id": "419aed72",
   "metadata": {},
   "outputs": [
    {
     "data": {
      "text/plain": [
       "5"
      ]
     },
     "execution_count": 76,
     "metadata": {},
     "output_type": "execute_result"
    }
   ],
   "source": [
    "# true value\n",
    "y_test[8]"
   ]
  }
 ],
 "metadata": {
  "kernelspec": {
   "display_name": "Python 3 (ipykernel)",
   "language": "python",
   "name": "python3"
  },
  "language_info": {
   "codemirror_mode": {
    "name": "ipython",
    "version": 3
   },
   "file_extension": ".py",
   "mimetype": "text/x-python",
   "name": "python",
   "nbconvert_exporter": "python",
   "pygments_lexer": "ipython3",
   "version": "3.9.5"
  }
 },
 "nbformat": 4,
 "nbformat_minor": 5
}
