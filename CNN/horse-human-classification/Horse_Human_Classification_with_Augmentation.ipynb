{
 "cells": [
  {
   "cell_type": "code",
   "execution_count": 25,
   "id": "b36fa562",
   "metadata": {},
   "outputs": [],
   "source": [
    "# import libraries\n",
    "\n",
    "import os\n",
    "import numpy as np\n",
    "import pandas as pd\n",
    "import matplotlib.pyplot as plt"
   ]
  },
  {
   "cell_type": "code",
   "execution_count": 3,
   "id": "92d05450",
   "metadata": {},
   "outputs": [],
   "source": [
    "data_path = 'C:\\\\Users\\\\budha\\\\Desktop\\\\Learnings\\\\Tensorflow\\\\Coursera\\\\Module_1_Intro_Deep_Learning\\\\Week_3\\\\horse-or-human'"
   ]
  },
  {
   "cell_type": "code",
   "execution_count": 4,
   "id": "2b578913",
   "metadata": {},
   "outputs": [
    {
     "data": {
      "text/plain": [
       "['train', 'validation']"
      ]
     },
     "execution_count": 4,
     "metadata": {},
     "output_type": "execute_result"
    }
   ],
   "source": [
    "# check directory contents\n",
    "os.listdir(data_path)"
   ]
  },
  {
   "cell_type": "code",
   "execution_count": 7,
   "id": "654090ce",
   "metadata": {},
   "outputs": [
    {
     "name": "stdout",
     "output_type": "stream",
     "text": [
      "['horses', 'humans']\n",
      "['horses', 'humans']\n"
     ]
    }
   ],
   "source": [
    "# set up the train and validation data path\n",
    "\n",
    "train_dir = os.path.join(data_path, 'train')\n",
    "validation_dir = os.path.join(data_path, 'validation')\n",
    "\n",
    "print(os.listdir(train_dir))\n",
    "print(os.listdir(validation_dir))"
   ]
  },
  {
   "cell_type": "code",
   "execution_count": 13,
   "id": "7a4551aa",
   "metadata": {},
   "outputs": [
    {
     "name": "stdout",
     "output_type": "stream",
     "text": [
      "Number of horse images in training data : 500\n",
      "Number of human images in training data : 527\n"
     ]
    }
   ],
   "source": [
    "# length of images\n",
    "\n",
    "print('Number of horse images in training data : {}'.format(len(os.listdir(os.path.join(train_dir, 'horses')))))\n",
    "print('Number of human images in training data : {}'.format(len(os.listdir(os.path.join(train_dir, 'humans')))))\n"
   ]
  },
  {
   "cell_type": "code",
   "execution_count": 14,
   "id": "084ffcdf",
   "metadata": {},
   "outputs": [
    {
     "name": "stdout",
     "output_type": "stream",
     "text": [
      "Number of horse images in validation data : 128\n",
      "Number of human images in validation data : 128\n"
     ]
    }
   ],
   "source": [
    "# length of images\n",
    "\n",
    "print('Number of horse images in validation data : {}'.format(len(os.listdir(os.path.join(validation_dir, 'horses')))))\n",
    "print('Number of human images in validation data : {}'.format(len(os.listdir(os.path.join(validation_dir, 'humans')))))"
   ]
  },
  {
   "cell_type": "markdown",
   "id": "0a48479d",
   "metadata": {},
   "source": [
    "## Create Model"
   ]
  },
  {
   "cell_type": "code",
   "execution_count": 8,
   "id": "7efb18ac",
   "metadata": {},
   "outputs": [],
   "source": [
    "import tensorflow as tf\n",
    "import tensorflow.keras as keras"
   ]
  },
  {
   "cell_type": "code",
   "execution_count": 62,
   "id": "9502f807",
   "metadata": {},
   "outputs": [],
   "source": [
    "# function to create model\n",
    "\n",
    "def create_model():\n",
    "    \n",
    "    model = keras.models.Sequential([\n",
    "        \n",
    "        keras.layers.Conv2D(16, (3,3), activation='relu', input_shape=(300, 300,3)),\n",
    "        keras.layers.MaxPool2D(pool_size=(2,2)),\n",
    "        \n",
    "        keras.layers.Conv2D(32, (3,3), activation='relu'),\n",
    "        keras.layers.MaxPool2D(pool_size=(2,2)),\n",
    "        \n",
    "        keras.layers.Conv2D(64, (3,3), activation='relu'),\n",
    "        keras.layers.MaxPool2D(pool_size=(2,2)),\n",
    "        \n",
    "        keras.layers.Conv2D(64, (3,3), activation='relu'),\n",
    "        keras.layers.MaxPool2D(pool_size=(2,2)),\n",
    "        \n",
    "        keras.layers.Flatten(),\n",
    "        \n",
    "        keras.layers.Dense(128, activation='relu'),\n",
    "        keras.layers.Dense(1, activation ='sigmoid')\n",
    "    ])\n",
    "    \n",
    "    # compile \n",
    "    model.compile(optimizer='adam',\n",
    "                  loss='binary_crossentropy',\n",
    "                  metrics=['accuracy'])\n",
    "    \n",
    "    return model"
   ]
  },
  {
   "cell_type": "markdown",
   "id": "8d4b37fc",
   "metadata": {},
   "source": [
    "## PreProcessing"
   ]
  },
  {
   "cell_type": "code",
   "execution_count": 16,
   "id": "3b4eeb9a",
   "metadata": {},
   "outputs": [],
   "source": [
    "from tensorflow.keras.preprocessing.image import ImageDataGenerator"
   ]
  },
  {
   "cell_type": "code",
   "execution_count": 63,
   "id": "259bc40f",
   "metadata": {},
   "outputs": [],
   "source": [
    "# setting up data augmentation while importing the data on the fly\n",
    "\n",
    "generator = ImageDataGenerator(rotation_range=40,\n",
    "                               width_shift_range=0.2,\n",
    "                               height_shift_range=0.2,\n",
    "                               shear_range=0.2,\n",
    "                               zoom_range=0.2,fill_mode='nearest',\n",
    "                               horizontal_flip=True,\n",
    "                               rescale=1.0/255.0)"
   ]
  },
  {
   "cell_type": "code",
   "execution_count": 64,
   "id": "e4dc8c30",
   "metadata": {},
   "outputs": [
    {
     "name": "stdout",
     "output_type": "stream",
     "text": [
      "Found 1027 images belonging to 2 classes.\n"
     ]
    }
   ],
   "source": [
    "# train generator\n",
    "\n",
    "train_generator = generator.flow_from_directory(train_dir,\n",
    "                                                target_size=(300,300),\n",
    "                                                batch_size=128,\n",
    "                                                class_mode='binary')"
   ]
  },
  {
   "cell_type": "code",
   "execution_count": 65,
   "id": "85bf3a42",
   "metadata": {},
   "outputs": [
    {
     "name": "stdout",
     "output_type": "stream",
     "text": [
      "Found 256 images belonging to 2 classes.\n"
     ]
    }
   ],
   "source": [
    "# validation generator\n",
    "\n",
    "validation_generator = generator.flow_from_directory(validation_dir,\n",
    "                                                target_size=(300,300),\n",
    "                                                batch_size=32,\n",
    "                                                class_mode='binary')"
   ]
  },
  {
   "cell_type": "code",
   "execution_count": 66,
   "id": "b11a6d75",
   "metadata": {},
   "outputs": [],
   "source": [
    "## create model and fit\n",
    "\n",
    "model = create_model()"
   ]
  },
  {
   "cell_type": "code",
   "execution_count": 67,
   "id": "0ac4a705",
   "metadata": {},
   "outputs": [
    {
     "name": "stdout",
     "output_type": "stream",
     "text": [
      "Model: \"sequential_2\"\n",
      "_________________________________________________________________\n",
      " Layer (type)                Output Shape              Param #   \n",
      "=================================================================\n",
      " conv2d_4 (Conv2D)           (None, 298, 298, 16)      448       \n",
      "                                                                 \n",
      " max_pooling2d_4 (MaxPooling  (None, 149, 149, 16)     0         \n",
      " 2D)                                                             \n",
      "                                                                 \n",
      " conv2d_5 (Conv2D)           (None, 147, 147, 32)      4640      \n",
      "                                                                 \n",
      " max_pooling2d_5 (MaxPooling  (None, 73, 73, 32)       0         \n",
      " 2D)                                                             \n",
      "                                                                 \n",
      " conv2d_6 (Conv2D)           (None, 71, 71, 64)        18496     \n",
      "                                                                 \n",
      " max_pooling2d_6 (MaxPooling  (None, 35, 35, 64)       0         \n",
      " 2D)                                                             \n",
      "                                                                 \n",
      " conv2d_7 (Conv2D)           (None, 33, 33, 64)        36928     \n",
      "                                                                 \n",
      " max_pooling2d_7 (MaxPooling  (None, 16, 16, 64)       0         \n",
      " 2D)                                                             \n",
      "                                                                 \n",
      " flatten_2 (Flatten)         (None, 16384)             0         \n",
      "                                                                 \n",
      " dense_4 (Dense)             (None, 128)               2097280   \n",
      "                                                                 \n",
      " dense_5 (Dense)             (None, 1)                 129       \n",
      "                                                                 \n",
      "=================================================================\n",
      "Total params: 2,157,921\n",
      "Trainable params: 2,157,921\n",
      "Non-trainable params: 0\n",
      "_________________________________________________________________\n"
     ]
    }
   ],
   "source": [
    "model.summary()"
   ]
  },
  {
   "cell_type": "code",
   "execution_count": 68,
   "id": "0dc1e6d3",
   "metadata": {},
   "outputs": [
    {
     "name": "stdout",
     "output_type": "stream",
     "text": [
      "Epoch 1/15\n",
      "9/9 [==============================] - 58s 6s/step - loss: 0.7091 - accuracy: 0.5044 - val_loss: 0.6823 - val_accuracy: 0.6016\n",
      "Epoch 2/15\n",
      "9/9 [==============================] - 59s 6s/step - loss: 0.6507 - accuracy: 0.6105 - val_loss: 0.6954 - val_accuracy: 0.5430\n",
      "Epoch 3/15\n",
      "9/9 [==============================] - 65s 7s/step - loss: 0.6879 - accuracy: 0.6582 - val_loss: 1.3832 - val_accuracy: 0.5000\n",
      "Epoch 4/15\n",
      "9/9 [==============================] - 61s 7s/step - loss: 0.6043 - accuracy: 0.6738 - val_loss: 0.7775 - val_accuracy: 0.5430\n",
      "Epoch 5/15\n",
      "9/9 [==============================] - 62s 7s/step - loss: 0.5033 - accuracy: 0.7449 - val_loss: 1.1579 - val_accuracy: 0.5664\n",
      "Epoch 6/15\n",
      "9/9 [==============================] - 62s 8s/step - loss: 0.4986 - accuracy: 0.7459 - val_loss: 1.5256 - val_accuracy: 0.5234\n",
      "Epoch 7/15\n",
      "9/9 [==============================] - 61s 7s/step - loss: 0.4755 - accuracy: 0.7614 - val_loss: 1.3024 - val_accuracy: 0.5273\n",
      "Epoch 8/15\n",
      "9/9 [==============================] - 62s 7s/step - loss: 0.4340 - accuracy: 0.7955 - val_loss: 1.4327 - val_accuracy: 0.5469\n",
      "Epoch 9/15\n",
      "9/9 [==============================] - 63s 7s/step - loss: 0.4273 - accuracy: 0.8014 - val_loss: 1.0759 - val_accuracy: 0.5664\n",
      "Epoch 10/15\n",
      "9/9 [==============================] - 63s 7s/step - loss: 0.3511 - accuracy: 0.8549 - val_loss: 1.5535 - val_accuracy: 0.5508\n",
      "Epoch 11/15\n",
      "9/9 [==============================] - 64s 7s/step - loss: 0.3037 - accuracy: 0.8608 - val_loss: 1.1832 - val_accuracy: 0.6094\n",
      "Epoch 12/15\n",
      "9/9 [==============================] - 63s 7s/step - loss: 0.2985 - accuracy: 0.8734 - val_loss: 1.7802 - val_accuracy: 0.5391\n",
      "Epoch 13/15\n",
      "9/9 [==============================] - 63s 7s/step - loss: 0.5033 - accuracy: 0.7780 - val_loss: 0.8585 - val_accuracy: 0.5273\n",
      "Epoch 14/15\n",
      "9/9 [==============================] - 63s 7s/step - loss: 0.4465 - accuracy: 0.7760 - val_loss: 0.9370 - val_accuracy: 0.6172\n",
      "Epoch 15/15\n",
      "9/9 [==============================] - 58s 6s/step - loss: 0.3828 - accuracy: 0.8130 - val_loss: 1.6941 - val_accuracy: 0.5430\n"
     ]
    },
    {
     "data": {
      "text/plain": [
       "<keras.callbacks.History at 0x1764a6f1490>"
      ]
     },
     "execution_count": 68,
     "metadata": {},
     "output_type": "execute_result"
    }
   ],
   "source": [
    "# fit\n",
    "model.fit(train_generator,\n",
    "          epochs=15,\n",
    "          validation_data=validation_generator)"
   ]
  },
  {
   "cell_type": "code",
   "execution_count": 60,
   "id": "3e0e245d",
   "metadata": {},
   "outputs": [],
   "source": [
    "# function to check and plot the accuracy\n",
    "\n",
    "def loss_acc_plot(model):\n",
    "    \n",
    "    metrics = pd.DataFrame(model.history.history)\n",
    "\n",
    "    fig, ax = plt.subplots(2, 1, figsize=(10,8))\n",
    "\n",
    "    ax[0].plot(range(1, epoch + 1), metrics['val_loss'], label ='validation loss')\n",
    "    ax[0].plot(range(1, epoch + 1), metrics['loss'], label ='training loss')\n",
    "\n",
    "    ax[1].plot(range(1, epoch + 1), metrics['val_accuracy'], label ='validation accuracy')\n",
    "    ax[1].plot(range(1, epoch + 1), metrics['accuracy'], label ='training accuracy')\n",
    "    plt.legend(loc='best')\n",
    "    fig.tight_layout()\n",
    "    plt.show()\n"
   ]
  },
  {
   "cell_type": "code",
   "execution_count": 61,
   "id": "f1069f50",
   "metadata": {},
   "outputs": [
    {
     "data": {
      "image/png": "[encoded data removed]",
      "text/plain": [
       "<Figure size 720x576 with 2 Axes>"
      ]
     },
     "metadata": {
      "needs_background": "light"
     },
     "output_type": "display_data"
    }
   ],
   "source": [
    "loss_acc_plot(model)"
   ]
  }
 ],
 "metadata": {
  "kernelspec": {
   "display_name": "Python 3 (ipykernel)",
   "language": "python",
   "name": "python3"
  },
  "language_info": {
   "codemirror_mode": {
    "name": "ipython",
    "version": 3
   },
   "file_extension": ".py",
   "mimetype": "text/x-python",
   "name": "python",
   "nbconvert_exporter": "python",
   "pygments_lexer": "ipython3",
   "version": "3.9.5"
  }
 },
 "nbformat": 4,
 "nbformat_minor": 5
}
