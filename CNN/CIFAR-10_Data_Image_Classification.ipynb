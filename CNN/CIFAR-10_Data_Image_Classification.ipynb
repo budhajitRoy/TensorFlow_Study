{
 "cells": [
  {
   "cell_type": "markdown",
   "id": "bf9ef2ab",
   "metadata": {},
   "source": [
    "### Convolutional Neural Networks for Image Classification\n",
    "- This notebook is developing a CNN model to predict Image\n",
    "- Using CIFAR 10 dataset from Keras\n",
    "- More details on Dataset : https://www.cs.toronto.edu/~kriz/cifar.html\n",
    "- From Keras : https://keras.io/api/datasets/cifar10/\n",
    "- Label description:\n",
    "   - 0 \tairplane\n",
    "   - 1 \tautomobile\n",
    "   - 2 \tbird\n",
    "   - 3 \tcat\n",
    "   - 4 \tdeer\n",
    "   - 5 \tdog\n",
    "   - 6 \tfrog\n",
    "   - 7 \thorse\n",
    "   - 8 \tship\n",
    "   - 9 \ttruck"
   ]
  },
  {
   "cell_type": "code",
   "execution_count": 6,
   "id": "669d68a6",
   "metadata": {},
   "outputs": [],
   "source": [
    "# import libraries\n",
    "\n",
    "import numpy as np\n",
    "import pandas as pd\n",
    "import matplotlib.pyplot as plt\n",
    "import seaborn as sns\n",
    "\n",
    "import ssl\n",
    "ssl._create_default_https_context = ssl._create_unverified_context"
   ]
  },
  {
   "cell_type": "code",
   "execution_count": 7,
   "id": "0b08975c",
   "metadata": {},
   "outputs": [],
   "source": [
    "# import data from keras datasets\n",
    "from tensorflow.keras.datasets import cifar10"
   ]
  },
  {
   "cell_type": "code",
   "execution_count": 8,
   "id": "176c8bae",
   "metadata": {},
   "outputs": [
    {
     "name": "stdout",
     "output_type": "stream",
     "text": [
      "Downloading data from https://www.cs.toronto.edu/~kriz/cifar-10-python.tar.gz\n",
      "170498071/170498071 [==============================] - 332s 2us/step\n"
     ]
    }
   ],
   "source": [
    "# load data\n",
    "\n",
    "(X_train, y_train), (X_test, y_test) = cifar10.load_data()"
   ]
  },
  {
   "cell_type": "code",
   "execution_count": 9,
   "id": "78e66538",
   "metadata": {},
   "outputs": [
    {
     "data": {
      "text/plain": [
       "((50000, 32, 32, 3), (50000, 1))"
      ]
     },
     "execution_count": 9,
     "metadata": {},
     "output_type": "execute_result"
    }
   ],
   "source": [
    "# check the shapes\n",
    "X_train.shape, y_train.shape"
   ]
  },
  {
   "cell_type": "code",
   "execution_count": 10,
   "id": "eff1714a",
   "metadata": {},
   "outputs": [
    {
     "data": {
      "text/plain": [
       "((10000, 32, 32, 3), (10000, 1))"
      ]
     },
     "execution_count": 10,
     "metadata": {},
     "output_type": "execute_result"
    }
   ],
   "source": [
    "X_test.shape, y_test.shape"
   ]
  },
  {
   "cell_type": "markdown",
   "id": "1f8bad04",
   "metadata": {},
   "source": [
    "- We can see the shape of X_train as (50000, 32, 32, 3) - indicates there are 50000 samples, width of 32 pixels and height of 32 pixels and 3 color channels maybe representing RGB as these are color image data"
   ]
  },
  {
   "cell_type": "code",
   "execution_count": 11,
   "id": "439d172f",
   "metadata": {},
   "outputs": [
    {
     "data": {
      "text/plain": [
       "array([[[ 59,  62,  63],\n",
       "        [ 43,  46,  45],\n",
       "        [ 50,  48,  43],\n",
       "        ...,\n",
       "        [158, 132, 108],\n",
       "        [152, 125, 102],\n",
       "        [148, 124, 103]],\n",
       "\n",
       "       [[ 16,  20,  20],\n",
       "        [  0,   0,   0],\n",
       "        [ 18,   8,   0],\n",
       "        ...,\n",
       "        [123,  88,  55],\n",
       "        [119,  83,  50],\n",
       "        [122,  87,  57]],\n",
       "\n",
       "       [[ 25,  24,  21],\n",
       "        [ 16,   7,   0],\n",
       "        [ 49,  27,   8],\n",
       "        ...,\n",
       "        [118,  84,  50],\n",
       "        [120,  84,  50],\n",
       "        [109,  73,  42]],\n",
       "\n",
       "       ...,\n",
       "\n",
       "       [[208, 170,  96],\n",
       "        [201, 153,  34],\n",
       "        [198, 161,  26],\n",
       "        ...,\n",
       "        [160, 133,  70],\n",
       "        [ 56,  31,   7],\n",
       "        [ 53,  34,  20]],\n",
       "\n",
       "       [[180, 139,  96],\n",
       "        [173, 123,  42],\n",
       "        [186, 144,  30],\n",
       "        ...,\n",
       "        [184, 148,  94],\n",
       "        [ 97,  62,  34],\n",
       "        [ 83,  53,  34]],\n",
       "\n",
       "       [[177, 144, 116],\n",
       "        [168, 129,  94],\n",
       "        [179, 142,  87],\n",
       "        ...,\n",
       "        [216, 184, 140],\n",
       "        [151, 118,  84],\n",
       "        [123,  92,  72]]], dtype=uint8)"
      ]
     },
     "execution_count": 11,
     "metadata": {},
     "output_type": "execute_result"
    }
   ],
   "source": [
    "sample_image = X_train[0]\n",
    "sample_image"
   ]
  },
  {
   "cell_type": "code",
   "execution_count": 12,
   "id": "d47e10c9",
   "metadata": {},
   "outputs": [
    {
     "data": {
      "text/plain": [
       "(255, 0)"
      ]
     },
     "execution_count": 12,
     "metadata": {},
     "output_type": "execute_result"
    }
   ],
   "source": [
    "sample_image.max(), sample_image.min()"
   ]
  },
  {
   "cell_type": "markdown",
   "id": "8ecf0f2d",
   "metadata": {},
   "source": [
    "- the values in each pixel ranges from 0 to 255\n",
    "- later on we will need to normalize the data, maybe between 0 and 1 for the model to train easier and faster way"
   ]
  },
  {
   "cell_type": "markdown",
   "id": "80701f2c",
   "metadata": {},
   "source": [
    "### Preprocessing Data"
   ]
  },
  {
   "cell_type": "code",
   "execution_count": 13,
   "id": "00c5cf53",
   "metadata": {},
   "outputs": [
    {
     "data": {
      "text/plain": [
       "<matplotlib.image.AxesImage at 0x21e3bbb6430>"
      ]
     },
     "execution_count": 13,
     "metadata": {},
     "output_type": "execute_result"
    },
    {
     "data": {
      "image/png": "[encoded data removed]",
      "text/plain": [
       "<Figure size 432x288 with 1 Axes>"
      ]
     },
     "metadata": {
      "needs_background": "light"
     },
     "output_type": "display_data"
    }
   ],
   "source": [
    "# plotting this sample image\n",
    "plt.imshow(sample_image)"
   ]
  },
  {
   "cell_type": "markdown",
   "id": "4a804fea",
   "metadata": {},
   "source": [
    "- From the image above, it seems to be a frog but not very clear."
   ]
  },
  {
   "cell_type": "code",
   "execution_count": 18,
   "id": "8b09e422",
   "metadata": {},
   "outputs": [
    {
     "data": {
      "text/plain": [
       "array([6], dtype=uint8)"
      ]
     },
     "execution_count": 18,
     "metadata": {},
     "output_type": "execute_result"
    }
   ],
   "source": [
    "y_train[0]"
   ]
  },
  {
   "cell_type": "markdown",
   "id": "214c64fc",
   "metadata": {},
   "source": [
    "- Yes, 6 represents frog"
   ]
  },
  {
   "cell_type": "code",
   "execution_count": 14,
   "id": "f29fdb81",
   "metadata": {},
   "outputs": [
    {
     "data": {
      "text/plain": [
       "array([[6],\n",
       "       [9],\n",
       "       [9],\n",
       "       ...,\n",
       "       [9],\n",
       "       [1],\n",
       "       [1]], dtype=uint8)"
      ]
     },
     "execution_count": 14,
     "metadata": {},
     "output_type": "execute_result"
    }
   ],
   "source": [
    "# check the target data\n",
    "y_train"
   ]
  },
  {
   "cell_type": "code",
   "execution_count": 17,
   "id": "a5e215eb",
   "metadata": {},
   "outputs": [
    {
     "data": {
      "text/plain": [
       "(9, 0)"
      ]
     },
     "execution_count": 17,
     "metadata": {},
     "output_type": "execute_result"
    }
   ],
   "source": [
    "y_train.max(), y_train.min()"
   ]
  },
  {
   "cell_type": "markdown",
   "id": "4944af11",
   "metadata": {},
   "source": [
    "- We can see the target data is listed in integer numeric values\n",
    "- these values cannot be used as it is as the model will treat these values as a continuous value and will predict accordingly\n",
    "- We will encode these target values using one-hot encoding using keras"
   ]
  },
  {
   "cell_type": "code",
   "execution_count": 19,
   "id": "a88f50c2",
   "metadata": {},
   "outputs": [],
   "source": [
    "# one hot encoding\n",
    "from tensorflow.keras.utils import to_categorical"
   ]
  },
  {
   "cell_type": "code",
   "execution_count": 20,
   "id": "e86b81ea",
   "metadata": {},
   "outputs": [
    {
     "data": {
      "text/plain": [
       "(50000, 1)"
      ]
     },
     "execution_count": 20,
     "metadata": {},
     "output_type": "execute_result"
    }
   ],
   "source": [
    "# check the shape of the target \n",
    "y_train.shape"
   ]
  },
  {
   "cell_type": "code",
   "execution_count": 21,
   "id": "22e4b959",
   "metadata": {},
   "outputs": [],
   "source": [
    "# lets encode our target data \n",
    "# passing the number of class explicitly\n",
    "# otherwise model will automatically identify these class if not provided\n",
    "y_cat_train = to_categorical(y_train, 10)\n",
    "\n",
    "y_cat_test = to_categorical(y_test, 10)"
   ]
  },
  {
   "cell_type": "markdown",
   "id": "30ca51e0",
   "metadata": {},
   "source": [
    "- Now we can see the integer numeric data is now converted into an binary value array of 10 elements \n",
    "- for the first sample image, the value is 5, so the index position 5 has 1 indicating 5"
   ]
  },
  {
   "cell_type": "markdown",
   "id": "1d0053e6",
   "metadata": {},
   "source": [
    "### Processing Training Data\n",
    "- We can use scikit learn preprocessing like MinMaxScaler to normalize the data, but we know that the value in a pixel will be between 0 and 255\n",
    "- So, we can just divide the value by 255, that will basically give a value between 0 and 1 which is what we are looking for"
   ]
  },
  {
   "cell_type": "code",
   "execution_count": 22,
   "id": "ef21fa87",
   "metadata": {},
   "outputs": [],
   "source": [
    "# normalizing the train and test data\n",
    "X_train = X_train/255\n",
    "X_test = X_test/255"
   ]
  },
  {
   "cell_type": "code",
   "execution_count": 23,
   "id": "05e29a80",
   "metadata": {},
   "outputs": [
    {
     "data": {
      "text/plain": [
       "(1.0, 0.0)"
      ]
     },
     "execution_count": 23,
     "metadata": {},
     "output_type": "execute_result"
    }
   ],
   "source": [
    "# check one of a sample\n",
    "X_train[0].max(), X_train[0].min()"
   ]
  },
  {
   "cell_type": "code",
   "execution_count": 24,
   "id": "34bbdfb6",
   "metadata": {},
   "outputs": [],
   "source": [
    "scaled_sample_image = X_train[0]"
   ]
  },
  {
   "cell_type": "code",
   "execution_count": 25,
   "id": "8cd77e84",
   "metadata": {},
   "outputs": [
    {
     "data": {
      "text/plain": [
       "<matplotlib.image.AxesImage at 0x21e3b8eef40>"
      ]
     },
     "execution_count": 25,
     "metadata": {},
     "output_type": "execute_result"
    },
    {
     "data": {
      "image/png": "[encoded data removed]",
      "text/plain": [
       "<Figure size 432x288 with 1 Axes>"
      ]
     },
     "metadata": {
      "needs_background": "light"
     },
     "output_type": "display_data"
    }
   ],
   "source": [
    "# plot and check the image\n",
    "plt.imshow(scaled_sample_image)"
   ]
  },
  {
   "cell_type": "markdown",
   "id": "2925ff0b",
   "metadata": {},
   "source": [
    "- There is no change in the original image and the scaled image as we have just only scaled the values and not altering the values"
   ]
  },
  {
   "cell_type": "code",
   "execution_count": 27,
   "id": "e18ea851",
   "metadata": {},
   "outputs": [
    {
     "data": {
      "text/plain": [
       "((50000, 32, 32, 3), (10000, 32, 32, 3))"
      ]
     },
     "execution_count": 27,
     "metadata": {},
     "output_type": "execute_result"
    }
   ],
   "source": [
    "# check the shape \n",
    "X_train.shape, X_test.shape"
   ]
  },
  {
   "cell_type": "markdown",
   "id": "0ec90fa5",
   "metadata": {},
   "source": [
    "- We dont need to reshape our data as it is already in the format that the model is expecting"
   ]
  },
  {
   "cell_type": "markdown",
   "id": "13c0bc6a",
   "metadata": {},
   "source": [
    "## Training/Fitting the model"
   ]
  },
  {
   "cell_type": "code",
   "execution_count": 28,
   "id": "e1d41cfb",
   "metadata": {},
   "outputs": [],
   "source": [
    "# import libraries\n",
    "\n",
    "from tensorflow.keras.models import Sequential\n",
    "from tensorflow.keras.layers import Dense, MaxPool2D, Flatten, Conv2D"
   ]
  },
  {
   "cell_type": "code",
   "execution_count": 29,
   "id": "aa0117d2",
   "metadata": {},
   "outputs": [],
   "source": [
    "# initialize the model\n",
    "model = Sequential()\n",
    "\n",
    "# add layers\n",
    "model.add(Conv2D(filters=32,                # number of filter kernels\n",
    "                 kernel_size=(4,4),         # size of filter kernel\n",
    "                 strides=(1,1),             # stride -- like in terms of how many pixels to move to cover\n",
    "                 padding = 'VALID',         # https://stackoverflow.com/questions/37674306/what-is-the-difference-between-same-and-valid-padding-in-tf-nn-max-pool-of-t\n",
    "                 input_shape = (32, 32, 3),    # input shape of the data\n",
    "                 activation = 'relu'))      # activation function\n",
    "\n",
    "# add the max pool layer\n",
    "model.add(MaxPool2D(pool_size=(2,2)))\n",
    "\n",
    "\n",
    "# add another layer of Conv2D as the data is a complex one\n",
    "\n",
    "model.add(Conv2D(filters=32,                # number of filter kernels\n",
    "                 kernel_size=(4,4),         # size of filter kernel\n",
    "                 strides=(1,1),             # stride -- like in terms of how many pixels to move to cover\n",
    "                 padding = 'VALID',         # https://stackoverflow.com/questions/37674306/what-is-the-difference-between-same-and-valid-padding-in-tf-nn-max-pool-of-t\n",
    "                 input_shape = (32, 32, 3),    # input shape of the data\n",
    "                 activation = 'relu'))      # activation function\n",
    "\n",
    "# add the max pool layer\n",
    "model.add(MaxPool2D(pool_size=(2,2)))\n",
    "\n",
    "# flatten the data, before passing to Dense layer\n",
    "# this will convert 32x32x3 data into an array containing 3072 elements which is a hugh number\n",
    "model.add(Flatten())\n",
    "\n",
    "# add Dense layer\n",
    "model.add(Dense(256, activation = 'relu'))\n",
    "\n",
    "#output layer\n",
    "model.add(Dense(10, activation='softmax')) # units = 10-> 10 target labels\n",
    "# normally use softmax for multiclass classification \n",
    "\n",
    "\n",
    "# compile the model\n",
    "model.compile(optimizer='rmsprop',     # can use adam as well\n",
    "              loss='categorical_crossentropy', # for multiclass classification\n",
    "             metrics=['accuracy']       # additional metrics we can pass that we want to see while training\n",
    "             )                          # this will get reported in model history\n",
    "\n",
    "# https://keras.io/metrics/  -- to check all available metrics from keras"
   ]
  },
  {
   "cell_type": "code",
   "execution_count": 30,
   "id": "4810462e",
   "metadata": {},
   "outputs": [
    {
     "name": "stdout",
     "output_type": "stream",
     "text": [
      "Model: \"sequential\"\n",
      "_________________________________________________________________\n",
      " Layer (type)                Output Shape              Param #   \n",
      "=================================================================\n",
      " conv2d (Conv2D)             (None, 29, 29, 32)        1568      \n",
      "                                                                 \n",
      " max_pooling2d (MaxPooling2D  (None, 14, 14, 32)       0         \n",
      " )                                                               \n",
      "                                                                 \n",
      " conv2d_1 (Conv2D)           (None, 11, 11, 32)        16416     \n",
      "                                                                 \n",
      " max_pooling2d_1 (MaxPooling  (None, 5, 5, 32)         0         \n",
      " 2D)                                                             \n",
      "                                                                 \n",
      " flatten (Flatten)           (None, 800)               0         \n",
      "                                                                 \n",
      " dense (Dense)               (None, 256)               205056    \n",
      "                                                                 \n",
      " dense_1 (Dense)             (None, 10)                2570      \n",
      "                                                                 \n",
      "=================================================================\n",
      "Total params: 225,610\n",
      "Trainable params: 225,610\n",
      "Non-trainable params: 0\n",
      "_________________________________________________________________\n"
     ]
    }
   ],
   "source": [
    "model.summary()"
   ]
  },
  {
   "cell_type": "markdown",
   "id": "2a4affc9",
   "metadata": {},
   "source": [
    "### Adding Early Stopping"
   ]
  },
  {
   "cell_type": "code",
   "execution_count": 31,
   "id": "e956afc5",
   "metadata": {},
   "outputs": [],
   "source": [
    "from tensorflow.keras.callbacks import EarlyStopping"
   ]
  },
  {
   "cell_type": "code",
   "execution_count": 32,
   "id": "f1792ab0",
   "metadata": {},
   "outputs": [],
   "source": [
    "early_stop = EarlyStopping(monitor='val_loss', # we can also provide the accuracy as we have provided in the metrics \n",
    "                           patience=2)"
   ]
  },
  {
   "cell_type": "code",
   "execution_count": 33,
   "id": "f74a70a3",
   "metadata": {},
   "outputs": [
    {
     "name": "stdout",
     "output_type": "stream",
     "text": [
      "Epoch 1/15\n",
      "1563/1563 [==============================] - 36s 21ms/step - loss: 1.5218 - accuracy: 0.4521 - val_loss: 1.3659 - val_accuracy: 0.5143\n",
      "Epoch 2/15\n",
      "1563/1563 [==============================] - 32s 20ms/step - loss: 1.1624 - accuracy: 0.5916 - val_loss: 1.3911 - val_accuracy: 0.5368\n",
      "Epoch 3/15\n",
      "1563/1563 [==============================] - 32s 21ms/step - loss: 1.0116 - accuracy: 0.6494 - val_loss: 1.0955 - val_accuracy: 0.6313\n",
      "Epoch 4/15\n",
      "1563/1563 [==============================] - 34s 22ms/step - loss: 0.9087 - accuracy: 0.6850 - val_loss: 1.0397 - val_accuracy: 0.6496\n",
      "Epoch 5/15\n",
      "1563/1563 [==============================] - 32s 21ms/step - loss: 0.8284 - accuracy: 0.7173 - val_loss: 0.9640 - val_accuracy: 0.6820\n",
      "Epoch 6/15\n",
      "1563/1563 [==============================] - 34s 21ms/step - loss: 0.7650 - accuracy: 0.7400 - val_loss: 0.9692 - val_accuracy: 0.6857\n",
      "Epoch 7/15\n",
      "1563/1563 [==============================] - 33s 21ms/step - loss: 0.7096 - accuracy: 0.7595 - val_loss: 1.1230 - val_accuracy: 0.6592\n"
     ]
    },
    {
     "data": {
      "text/plain": [
       "<keras.callbacks.History at 0x21e3c028bb0>"
      ]
     },
     "execution_count": 33,
     "metadata": {},
     "output_type": "execute_result"
    }
   ],
   "source": [
    "# training the model\n",
    "model.fit(X_train,\n",
    "          y_cat_train,\n",
    "          epochs=15,\n",
    "          validation_data=(X_test, y_cat_test),\n",
    "          callbacks=[early_stop]\n",
    "         )"
   ]
  },
  {
   "cell_type": "markdown",
   "id": "d6a528e9",
   "metadata": {},
   "source": [
    "- Model Early Stopped"
   ]
  },
  {
   "cell_type": "markdown",
   "id": "0938984e",
   "metadata": {},
   "source": [
    "### Model Evaluation"
   ]
  },
  {
   "cell_type": "code",
   "execution_count": 34,
   "id": "39bb0ec4",
   "metadata": {},
   "outputs": [
    {
     "data": {
      "text/html": [
       "<div>\n",
       "<style scoped>\n",
       "    .dataframe tbody tr th:only-of-type {\n",
       "        vertical-align: middle;\n",
       "    }\n",
       "\n",
       "    .dataframe tbody tr th {\n",
       "        vertical-align: top;\n",
       "    }\n",
       "\n",
       "    .dataframe thead th {\n",
       "        text-align: right;\n",
       "    }\n",
       "</style>\n",
       "<table border=\"1\" class=\"dataframe\">\n",
       "  <thead>\n",
       "    <tr style=\"text-align: right;\">\n",
       "      <th></th>\n",
       "      <th>loss</th>\n",
       "      <th>accuracy</th>\n",
       "      <th>val_loss</th>\n",
       "      <th>val_accuracy</th>\n",
       "    </tr>\n",
       "  </thead>\n",
       "  <tbody>\n",
       "    <tr>\n",
       "      <th>0</th>\n",
       "      <td>1.521761</td>\n",
       "      <td>0.45208</td>\n",
       "      <td>1.365876</td>\n",
       "      <td>0.5143</td>\n",
       "    </tr>\n",
       "    <tr>\n",
       "      <th>1</th>\n",
       "      <td>1.162397</td>\n",
       "      <td>0.59156</td>\n",
       "      <td>1.391146</td>\n",
       "      <td>0.5368</td>\n",
       "    </tr>\n",
       "    <tr>\n",
       "      <th>2</th>\n",
       "      <td>1.011584</td>\n",
       "      <td>0.64938</td>\n",
       "      <td>1.095472</td>\n",
       "      <td>0.6313</td>\n",
       "    </tr>\n",
       "    <tr>\n",
       "      <th>3</th>\n",
       "      <td>0.908705</td>\n",
       "      <td>0.68498</td>\n",
       "      <td>1.039683</td>\n",
       "      <td>0.6496</td>\n",
       "    </tr>\n",
       "    <tr>\n",
       "      <th>4</th>\n",
       "      <td>0.828413</td>\n",
       "      <td>0.71734</td>\n",
       "      <td>0.963978</td>\n",
       "      <td>0.6820</td>\n",
       "    </tr>\n",
       "    <tr>\n",
       "      <th>5</th>\n",
       "      <td>0.764995</td>\n",
       "      <td>0.74002</td>\n",
       "      <td>0.969221</td>\n",
       "      <td>0.6857</td>\n",
       "    </tr>\n",
       "    <tr>\n",
       "      <th>6</th>\n",
       "      <td>0.709646</td>\n",
       "      <td>0.75950</td>\n",
       "      <td>1.123025</td>\n",
       "      <td>0.6592</td>\n",
       "    </tr>\n",
       "  </tbody>\n",
       "</table>\n",
       "</div>"
      ],
      "text/plain": [
       "       loss  accuracy  val_loss  val_accuracy\n",
       "0  1.521761   0.45208  1.365876        0.5143\n",
       "1  1.162397   0.59156  1.391146        0.5368\n",
       "2  1.011584   0.64938  1.095472        0.6313\n",
       "3  0.908705   0.68498  1.039683        0.6496\n",
       "4  0.828413   0.71734  0.963978        0.6820\n",
       "5  0.764995   0.74002  0.969221        0.6857\n",
       "6  0.709646   0.75950  1.123025        0.6592"
      ]
     },
     "execution_count": 34,
     "metadata": {},
     "output_type": "execute_result"
    }
   ],
   "source": [
    "metrics = pd.DataFrame(model.history.history)\n",
    "metrics"
   ]
  },
  {
   "cell_type": "markdown",
   "id": "e936d71d",
   "metadata": {},
   "source": [
    "- now we can see val_accuracy in the history as we have added as part of the metrics"
   ]
  },
  {
   "cell_type": "code",
   "execution_count": 35,
   "id": "260470bd",
   "metadata": {},
   "outputs": [
    {
     "data": {
      "text/plain": [
       "<AxesSubplot:>"
      ]
     },
     "execution_count": 35,
     "metadata": {},
     "output_type": "execute_result"
    },
    {
     "data": {
      "image/png": "[encoded data removed]",
      "text/plain": [
       "<Figure size 432x288 with 1 Axes>"
      ]
     },
     "metadata": {
      "needs_background": "light"
     },
     "output_type": "display_data"
    }
   ],
   "source": [
    "# plot and compare the metrics\n",
    "metrics[['loss', 'val_loss']].plot()"
   ]
  },
  {
   "cell_type": "code",
   "execution_count": 36,
   "id": "bfd1b9bf",
   "metadata": {},
   "outputs": [
    {
     "data": {
      "text/plain": [
       "<AxesSubplot:>"
      ]
     },
     "execution_count": 36,
     "metadata": {},
     "output_type": "execute_result"
    },
    {
     "data": {
      "image/png": "[encoded data removed]",
      "text/plain": [
       "<Figure size 432x288 with 1 Axes>"
      ]
     },
     "metadata": {
      "needs_background": "light"
     },
     "output_type": "display_data"
    }
   ],
   "source": [
    "# plot and compare the metrics\n",
    "metrics[['accuracy', 'val_accuracy']].plot()"
   ]
  },
  {
   "cell_type": "markdown",
   "id": "e0210347",
   "metadata": {},
   "source": [
    "- We can the training loss kept reducing but the validation loss kind of remain same for at least 2 epochs, so the early stop was called\n",
    "- Simlarly in the accuracy metrics also, the training accuracy kind of kept increasing even about to reach 100% but the validation accuracy remains unchanged."
   ]
  },
  {
   "cell_type": "code",
   "execution_count": 41,
   "id": "9e7335ae",
   "metadata": {},
   "outputs": [
    {
     "data": {
      "text/plain": [
       "<bound method Model.evaluate of <keras.engine.sequential.Sequential object at 0x0000021E3B834040>>"
      ]
     },
     "execution_count": 41,
     "metadata": {},
     "output_type": "execute_result"
    }
   ],
   "source": [
    "model.evaluate"
   ]
  },
  {
   "cell_type": "code",
   "execution_count": 42,
   "id": "bcf2781b",
   "metadata": {},
   "outputs": [],
   "source": [
    "### Check the evaluation metrics\n",
    "from sklearn.metrics import classification_report, confusion_matrix"
   ]
  },
  {
   "cell_type": "code",
   "execution_count": 43,
   "id": "4bec44ae",
   "metadata": {},
   "outputs": [
    {
     "name": "stdout",
     "output_type": "stream",
     "text": [
      "313/313 [==============================] - 2s 7ms/step\n"
     ]
    }
   ],
   "source": [
    "# get model predictions\n",
    "predict_x=model.predict(X_test) \n",
    "test_preds=np.argmax(predict_x,axis=1)"
   ]
  },
  {
   "cell_type": "code",
   "execution_count": 44,
   "id": "54d55749",
   "metadata": {},
   "outputs": [
    {
     "data": {
      "text/plain": [
       "array([3, 1, 8, ..., 5, 1, 7], dtype=int64)"
      ]
     },
     "execution_count": 44,
     "metadata": {},
     "output_type": "execute_result"
    }
   ],
   "source": [
    "test_preds"
   ]
  },
  {
   "cell_type": "code",
   "execution_count": 45,
   "id": "d7612b84",
   "metadata": {},
   "outputs": [
    {
     "data": {
      "text/plain": [
       "array([1.5382755e-03, 6.1139923e-05, 2.1474423e-02, 8.7393188e-01,\n",
       "       2.3161909e-02, 6.8380564e-02, 9.9163083e-03, 1.2852075e-03,\n",
       "       2.1594508e-04, 3.4395573e-05], dtype=float32)"
      ]
     },
     "execution_count": 45,
     "metadata": {},
     "output_type": "execute_result"
    }
   ],
   "source": [
    "predict_x[0]"
   ]
  },
  {
   "cell_type": "code",
   "execution_count": 46,
   "id": "957a8578",
   "metadata": {},
   "outputs": [
    {
     "name": "stdout",
     "output_type": "stream",
     "text": [
      "              precision    recall  f1-score   support\n",
      "\n",
      "           0       0.65      0.75      0.69      1000\n",
      "           1       0.91      0.68      0.78      1000\n",
      "           2       0.66      0.46      0.54      1000\n",
      "           3       0.36      0.72      0.48      1000\n",
      "           4       0.71      0.56      0.62      1000\n",
      "           5       0.62      0.42      0.50      1000\n",
      "           6       0.84      0.69      0.76      1000\n",
      "           7       0.69      0.76      0.72      1000\n",
      "           8       0.77      0.78      0.77      1000\n",
      "           9       0.76      0.78      0.77      1000\n",
      "\n",
      "    accuracy                           0.66     10000\n",
      "   macro avg       0.70      0.66      0.66     10000\n",
      "weighted avg       0.70      0.66      0.66     10000\n",
      "\n"
     ]
    }
   ],
   "source": [
    "print(classification_report(y_test, test_preds))"
   ]
  },
  {
   "cell_type": "markdown",
   "id": "9233cac4",
   "metadata": {},
   "source": [
    "- Here in the above report, we can see that scores for label 3 and label 5 are very poor. \n",
    "- This might be because, label 3 represent cat and label 5 represents dog. This seems little hard for the model to classify accurately\n",
    "- But considering the overall accuracy of 0.66 is shouldnt be that bad.\n",
    "- As the actual probability for accurately classifying a label is around 10% since we have 10 labels."
   ]
  },
  {
   "cell_type": "code",
   "execution_count": 47,
   "id": "410bbab0",
   "metadata": {},
   "outputs": [
    {
     "name": "stdout",
     "output_type": "stream",
     "text": [
      "[[750   5  25  46  11  12   4  17  84  46]\n",
      " [ 57 678  14  47   3   7   7  16  48 123]\n",
      " [103   4 462 193  67  49  42  58  14   8]\n",
      " [ 27   2  37 721  34  78  29  47  12  13]\n",
      " [ 39   0  53 195 556  30  21  82  21   3]\n",
      " [ 23   2  31 398  26 416  16  75   6   7]\n",
      " [  8   2  47 171  41  21 690  13   6   1]\n",
      " [ 21   1  13 100  44  38   4 759   6  14]\n",
      " [ 87  16  11  48   3   9   5  11 781  29]\n",
      " [ 47  33   5  61   0   7   3  25  40 779]]\n"
     ]
    }
   ],
   "source": [
    "print(confusion_matrix(y_test, test_preds))"
   ]
  },
  {
   "cell_type": "code",
   "execution_count": 48,
   "id": "94372a10",
   "metadata": {},
   "outputs": [
    {
     "data": {
      "image/png": "[encoded data removed]",
      "text/plain": [
       "<Figure size 720x576 with 2 Axes>"
      ]
     },
     "metadata": {
      "needs_background": "light"
     },
     "output_type": "display_data"
    }
   ],
   "source": [
    "plt.figure(figsize=(10,8))\n",
    "sns.heatmap(confusion_matrix(y_test, test_preds), annot=True)\n",
    "plt.show();"
   ]
  },
  {
   "cell_type": "markdown",
   "id": "c7a039d4",
   "metadata": {},
   "source": [
    "## For new data"
   ]
  },
  {
   "cell_type": "code",
   "execution_count": 49,
   "id": "06de2382",
   "metadata": {},
   "outputs": [
    {
     "data": {
      "text/plain": [
       "(0.984313725490196, 0.06274509803921569)"
      ]
     },
     "execution_count": 49,
     "metadata": {},
     "output_type": "execute_result"
    }
   ],
   "source": [
    "new_data = X_test[8]\n",
    "new_data.max(), new_data.min()"
   ]
  },
  {
   "cell_type": "code",
   "execution_count": 50,
   "id": "f155b039",
   "metadata": {},
   "outputs": [
    {
     "data": {
      "text/plain": [
       "<matplotlib.image.AxesImage at 0x21ea8fedd30>"
      ]
     },
     "execution_count": 50,
     "metadata": {},
     "output_type": "execute_result"
    },
    {
     "data": {
      "image/png": "[encoded data removed]",
      "text/plain": [
       "<Figure size 432x288 with 1 Axes>"
      ]
     },
     "metadata": {
      "needs_background": "light"
     },
     "output_type": "display_data"
    }
   ],
   "source": [
    "plt.imshow(new_data)"
   ]
  },
  {
   "cell_type": "code",
   "execution_count": 51,
   "id": "ba1fe672",
   "metadata": {},
   "outputs": [
    {
     "data": {
      "text/plain": [
       "(32, 32, 3)"
      ]
     },
     "execution_count": 51,
     "metadata": {},
     "output_type": "execute_result"
    }
   ],
   "source": [
    "new_data.shape"
   ]
  },
  {
   "cell_type": "markdown",
   "id": "49673448",
   "metadata": {},
   "source": [
    "- We should reshape new data to match with the input shape that we used to train our model i.e.\n",
    "- (number of samples, width, height, num_channels)\n",
    "- for one new data it will be (1, 32, 32, 3)"
   ]
  },
  {
   "cell_type": "code",
   "execution_count": 52,
   "id": "532d6697",
   "metadata": {},
   "outputs": [],
   "source": [
    "# reshape new data\n",
    "new_data = new_data.reshape(1,32,32,3)"
   ]
  },
  {
   "cell_type": "code",
   "execution_count": 53,
   "id": "63dbdb6d",
   "metadata": {
    "scrolled": false
   },
   "outputs": [
    {
     "name": "stdout",
     "output_type": "stream",
     "text": [
      "1/1 [==============================] - 0s 165ms/step\n"
     ]
    },
    {
     "data": {
      "text/plain": [
       "array([3], dtype=int64)"
      ]
     },
     "execution_count": 53,
     "metadata": {},
     "output_type": "execute_result"
    }
   ],
   "source": [
    "# predict using the model\n",
    "np.argmax(model.predict(new_data), axis = 1)"
   ]
  },
  {
   "cell_type": "code",
   "execution_count": 54,
   "id": "08e94ca5",
   "metadata": {},
   "outputs": [
    {
     "data": {
      "text/plain": [
       "array([3], dtype=uint8)"
      ]
     },
     "execution_count": 54,
     "metadata": {},
     "output_type": "execute_result"
    }
   ],
   "source": [
    "# true value\n",
    "y_test[8]"
   ]
  },
  {
   "cell_type": "code",
   "execution_count": null,
   "id": "feb617d4",
   "metadata": {},
   "outputs": [],
   "source": []
  }
 ],
 "metadata": {
  "kernelspec": {
   "display_name": "Python 3 (ipykernel)",
   "language": "python",
   "name": "python3"
  },
  "language_info": {
   "codemirror_mode": {
    "name": "ipython",
    "version": 3
   },
   "file_extension": ".py",
   "mimetype": "text/x-python",
   "name": "python",
   "nbconvert_exporter": "python",
   "pygments_lexer": "ipython3",
   "version": "3.9.5"
  }
 },
 "nbformat": 4,
 "nbformat_minor": 5
}
