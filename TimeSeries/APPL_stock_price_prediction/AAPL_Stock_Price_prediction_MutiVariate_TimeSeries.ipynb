{
 "cells": [
  {
   "cell_type": "code",
   "execution_count": 1,
   "id": "bc41fab7",
   "metadata": {},
   "outputs": [],
   "source": [
    "# import libraries\n",
    "\n",
    "import numpy as np\n",
    "import pandas as pd\n",
    "import matplotlib.pyplot as plt"
   ]
  },
  {
   "cell_type": "code",
   "execution_count": 2,
   "id": "f1f7f639",
   "metadata": {},
   "outputs": [
    {
     "data": {
      "text/html": [
       "<div>\n",
       "<style scoped>\n",
       "    .dataframe tbody tr th:only-of-type {\n",
       "        vertical-align: middle;\n",
       "    }\n",
       "\n",
       "    .dataframe tbody tr th {\n",
       "        vertical-align: top;\n",
       "    }\n",
       "\n",
       "    .dataframe thead th {\n",
       "        text-align: right;\n",
       "    }\n",
       "</style>\n",
       "<table border=\"1\" class=\"dataframe\">\n",
       "  <thead>\n",
       "    <tr style=\"text-align: right;\">\n",
       "      <th></th>\n",
       "      <th>Date</th>\n",
       "      <th>Open</th>\n",
       "      <th>High</th>\n",
       "      <th>Low</th>\n",
       "      <th>Close</th>\n",
       "      <th>Adj Close</th>\n",
       "      <th>Volume</th>\n",
       "    </tr>\n",
       "  </thead>\n",
       "  <tbody>\n",
       "    <tr>\n",
       "      <th>0</th>\n",
       "      <td>1980-12-12</td>\n",
       "      <td>0.128348</td>\n",
       "      <td>0.128906</td>\n",
       "      <td>0.128348</td>\n",
       "      <td>0.128348</td>\n",
       "      <td>0.100323</td>\n",
       "      <td>469033600</td>\n",
       "    </tr>\n",
       "    <tr>\n",
       "      <th>1</th>\n",
       "      <td>1980-12-15</td>\n",
       "      <td>0.122210</td>\n",
       "      <td>0.122210</td>\n",
       "      <td>0.121652</td>\n",
       "      <td>0.121652</td>\n",
       "      <td>0.095089</td>\n",
       "      <td>175884800</td>\n",
       "    </tr>\n",
       "    <tr>\n",
       "      <th>2</th>\n",
       "      <td>1980-12-16</td>\n",
       "      <td>0.113281</td>\n",
       "      <td>0.113281</td>\n",
       "      <td>0.112723</td>\n",
       "      <td>0.112723</td>\n",
       "      <td>0.088110</td>\n",
       "      <td>105728000</td>\n",
       "    </tr>\n",
       "    <tr>\n",
       "      <th>3</th>\n",
       "      <td>1980-12-17</td>\n",
       "      <td>0.115513</td>\n",
       "      <td>0.116071</td>\n",
       "      <td>0.115513</td>\n",
       "      <td>0.115513</td>\n",
       "      <td>0.090291</td>\n",
       "      <td>86441600</td>\n",
       "    </tr>\n",
       "    <tr>\n",
       "      <th>4</th>\n",
       "      <td>1980-12-18</td>\n",
       "      <td>0.118862</td>\n",
       "      <td>0.119420</td>\n",
       "      <td>0.118862</td>\n",
       "      <td>0.118862</td>\n",
       "      <td>0.092908</td>\n",
       "      <td>73449600</td>\n",
       "    </tr>\n",
       "  </tbody>\n",
       "</table>\n",
       "</div>"
      ],
      "text/plain": [
       "         Date      Open      High       Low     Close  Adj Close     Volume\n",
       "0  1980-12-12  0.128348  0.128906  0.128348  0.128348   0.100323  469033600\n",
       "1  1980-12-15  0.122210  0.122210  0.121652  0.121652   0.095089  175884800\n",
       "2  1980-12-16  0.113281  0.113281  0.112723  0.112723   0.088110  105728000\n",
       "3  1980-12-17  0.115513  0.116071  0.115513  0.115513   0.090291   86441600\n",
       "4  1980-12-18  0.118862  0.119420  0.118862  0.118862   0.092908   73449600"
      ]
     },
     "execution_count": 2,
     "metadata": {},
     "output_type": "execute_result"
    }
   ],
   "source": [
    "# fetch data\n",
    "data_path = 'AAPL.csv'\n",
    "data = pd.read_csv(data_path)\n",
    "\n",
    "data.head()"
   ]
  },
  {
   "cell_type": "code",
   "execution_count": 4,
   "id": "3f70d37c",
   "metadata": {},
   "outputs": [
    {
     "data": {
      "text/html": [
       "<div>\n",
       "<style scoped>\n",
       "    .dataframe tbody tr th:only-of-type {\n",
       "        vertical-align: middle;\n",
       "    }\n",
       "\n",
       "    .dataframe tbody tr th {\n",
       "        vertical-align: top;\n",
       "    }\n",
       "\n",
       "    .dataframe thead th {\n",
       "        text-align: right;\n",
       "    }\n",
       "</style>\n",
       "<table border=\"1\" class=\"dataframe\">\n",
       "  <thead>\n",
       "    <tr style=\"text-align: right;\">\n",
       "      <th></th>\n",
       "      <th>Date</th>\n",
       "      <th>Open</th>\n",
       "      <th>High</th>\n",
       "      <th>Low</th>\n",
       "      <th>Close</th>\n",
       "      <th>Adj Close</th>\n",
       "      <th>Volume</th>\n",
       "    </tr>\n",
       "  </thead>\n",
       "  <tbody>\n",
       "    <tr>\n",
       "      <th>10404</th>\n",
       "      <td>2022-03-18</td>\n",
       "      <td>160.509995</td>\n",
       "      <td>164.479996</td>\n",
       "      <td>159.759995</td>\n",
       "      <td>163.979996</td>\n",
       "      <td>163.979996</td>\n",
       "      <td>123351200</td>\n",
       "    </tr>\n",
       "    <tr>\n",
       "      <th>10405</th>\n",
       "      <td>2022-03-21</td>\n",
       "      <td>163.509995</td>\n",
       "      <td>166.350006</td>\n",
       "      <td>163.009995</td>\n",
       "      <td>165.380005</td>\n",
       "      <td>165.380005</td>\n",
       "      <td>95811400</td>\n",
       "    </tr>\n",
       "    <tr>\n",
       "      <th>10406</th>\n",
       "      <td>2022-03-22</td>\n",
       "      <td>165.509995</td>\n",
       "      <td>169.419998</td>\n",
       "      <td>164.910004</td>\n",
       "      <td>168.820007</td>\n",
       "      <td>168.820007</td>\n",
       "      <td>81532000</td>\n",
       "    </tr>\n",
       "    <tr>\n",
       "      <th>10407</th>\n",
       "      <td>2022-03-23</td>\n",
       "      <td>167.990005</td>\n",
       "      <td>172.639999</td>\n",
       "      <td>167.649994</td>\n",
       "      <td>170.210007</td>\n",
       "      <td>170.210007</td>\n",
       "      <td>98062700</td>\n",
       "    </tr>\n",
       "    <tr>\n",
       "      <th>10408</th>\n",
       "      <td>2022-03-24</td>\n",
       "      <td>171.059998</td>\n",
       "      <td>174.139999</td>\n",
       "      <td>170.210007</td>\n",
       "      <td>174.070007</td>\n",
       "      <td>174.070007</td>\n",
       "      <td>90018700</td>\n",
       "    </tr>\n",
       "  </tbody>\n",
       "</table>\n",
       "</div>"
      ],
      "text/plain": [
       "             Date        Open        High         Low       Close   Adj Close  \\\n",
       "10404  2022-03-18  160.509995  164.479996  159.759995  163.979996  163.979996   \n",
       "10405  2022-03-21  163.509995  166.350006  163.009995  165.380005  165.380005   \n",
       "10406  2022-03-22  165.509995  169.419998  164.910004  168.820007  168.820007   \n",
       "10407  2022-03-23  167.990005  172.639999  167.649994  170.210007  170.210007   \n",
       "10408  2022-03-24  171.059998  174.139999  170.210007  174.070007  174.070007   \n",
       "\n",
       "          Volume  \n",
       "10404  123351200  \n",
       "10405   95811400  \n",
       "10406   81532000  \n",
       "10407   98062700  \n",
       "10408   90018700  "
      ]
     },
     "execution_count": 4,
     "metadata": {},
     "output_type": "execute_result"
    }
   ],
   "source": [
    "data.tail()"
   ]
  },
  {
   "cell_type": "markdown",
   "id": "4ef7663d",
   "metadata": {},
   "source": [
    "### EDA "
   ]
  },
  {
   "cell_type": "code",
   "execution_count": 3,
   "id": "e1b7ba2c",
   "metadata": {},
   "outputs": [
    {
     "name": "stdout",
     "output_type": "stream",
     "text": [
      "<class 'pandas.core.frame.DataFrame'>\n",
      "RangeIndex: 10409 entries, 0 to 10408\n",
      "Data columns (total 7 columns):\n",
      " #   Column     Non-Null Count  Dtype  \n",
      "---  ------     --------------  -----  \n",
      " 0   Date       10409 non-null  object \n",
      " 1   Open       10409 non-null  float64\n",
      " 2   High       10409 non-null  float64\n",
      " 3   Low        10409 non-null  float64\n",
      " 4   Close      10409 non-null  float64\n",
      " 5   Adj Close  10409 non-null  float64\n",
      " 6   Volume     10409 non-null  int64  \n",
      "dtypes: float64(5), int64(1), object(1)\n",
      "memory usage: 569.4+ KB\n"
     ]
    }
   ],
   "source": [
    "data.info()"
   ]
  },
  {
   "cell_type": "code",
   "execution_count": 9,
   "id": "b46ed7e0",
   "metadata": {},
   "outputs": [
    {
     "data": {
      "text/plain": [
       "(1500, 7)"
      ]
     },
     "execution_count": 9,
     "metadata": {},
     "output_type": "execute_result"
    }
   ],
   "source": [
    "## lets use only the last 5 years data or maybe last 1500 data points\n",
    "\n",
    "# len(data) - 1500 = 8909\n",
    "split_data_at = 8909\n",
    "\n",
    "stock_data = data.iloc[split_data_at:]\n",
    "stock_data.shape"
   ]
  },
  {
   "cell_type": "markdown",
   "id": "6ed1ae17",
   "metadata": {},
   "source": [
    "- Lets use the average of the low and the high and volume of trades per day to predict the stock price"
   ]
  },
  {
   "cell_type": "code",
   "execution_count": 11,
   "id": "0b8e6a34",
   "metadata": {},
   "outputs": [
    {
     "name": "stderr",
     "output_type": "stream",
     "text": [
      "C:\\Users\\budha\\AppData\\Local\\Temp\\ipykernel_19484\\1318826724.py:3: SettingWithCopyWarning: \n",
      "A value is trying to be set on a copy of a slice from a DataFrame.\n",
      "Try using .loc[row_indexer,col_indexer] = value instead\n",
      "\n",
      "See the caveats in the documentation: https://pandas.pydata.org/pandas-docs/stable/user_guide/indexing.html#returning-a-view-versus-a-copy\n",
      "  stock_data[\"Average\"] = (stock_data[\"High\"] + stock_data[\"Low\"])/2\n"
     ]
    },
    {
     "data": {
      "text/html": [
       "<div>\n",
       "<style scoped>\n",
       "    .dataframe tbody tr th:only-of-type {\n",
       "        vertical-align: middle;\n",
       "    }\n",
       "\n",
       "    .dataframe tbody tr th {\n",
       "        vertical-align: top;\n",
       "    }\n",
       "\n",
       "    .dataframe thead th {\n",
       "        text-align: right;\n",
       "    }\n",
       "</style>\n",
       "<table border=\"1\" class=\"dataframe\">\n",
       "  <thead>\n",
       "    <tr style=\"text-align: right;\">\n",
       "      <th></th>\n",
       "      <th>Date</th>\n",
       "      <th>Open</th>\n",
       "      <th>High</th>\n",
       "      <th>Low</th>\n",
       "      <th>Close</th>\n",
       "      <th>Adj Close</th>\n",
       "      <th>Volume</th>\n",
       "      <th>Average</th>\n",
       "    </tr>\n",
       "  </thead>\n",
       "  <tbody>\n",
       "    <tr>\n",
       "      <th>8909</th>\n",
       "      <td>2016-04-12</td>\n",
       "      <td>27.334999</td>\n",
       "      <td>27.625000</td>\n",
       "      <td>27.165001</td>\n",
       "      <td>27.610001</td>\n",
       "      <td>25.528584</td>\n",
       "      <td>108929200</td>\n",
       "      <td>27.395001</td>\n",
       "    </tr>\n",
       "    <tr>\n",
       "      <th>8910</th>\n",
       "      <td>2016-04-13</td>\n",
       "      <td>27.700001</td>\n",
       "      <td>28.084999</td>\n",
       "      <td>27.700001</td>\n",
       "      <td>28.010000</td>\n",
       "      <td>25.898418</td>\n",
       "      <td>133029200</td>\n",
       "      <td>27.892500</td>\n",
       "    </tr>\n",
       "  </tbody>\n",
       "</table>\n",
       "</div>"
      ],
      "text/plain": [
       "            Date       Open       High        Low      Close  Adj Close  \\\n",
       "8909  2016-04-12  27.334999  27.625000  27.165001  27.610001  25.528584   \n",
       "8910  2016-04-13  27.700001  28.084999  27.700001  28.010000  25.898418   \n",
       "\n",
       "         Volume    Average  \n",
       "8909  108929200  27.395001  \n",
       "8910  133029200  27.892500  "
      ]
     },
     "execution_count": 11,
     "metadata": {},
     "output_type": "execute_result"
    }
   ],
   "source": [
    "import math\n",
    "\n",
    "stock_data[\"Average\"] = (stock_data[\"High\"] + stock_data[\"Low\"])/2\n",
    "stock_data.head(2)"
   ]
  },
  {
   "cell_type": "code",
   "execution_count": 20,
   "id": "2acf86c4",
   "metadata": {},
   "outputs": [],
   "source": [
    "# reset index of stock data\n",
    "stock_data = stock_data.reset_index(drop = True)"
   ]
  },
  {
   "cell_type": "code",
   "execution_count": 21,
   "id": "d7f0a3c3",
   "metadata": {},
   "outputs": [],
   "source": [
    "# prepare our input data\n",
    "# we will be taking input features as Volume and Average\n",
    "\n",
    "input_data = stock_data.iloc[:, [6,7]].values"
   ]
  },
  {
   "cell_type": "code",
   "execution_count": 23,
   "id": "54480835",
   "metadata": {},
   "outputs": [
    {
     "data": {
      "image/png": "[encoded data removed]",
      "text/plain": [
       "<Figure size 720x576 with 1 Axes>"
      ]
     },
     "metadata": {
      "needs_background": "light"
     },
     "output_type": "display_data"
    }
   ],
   "source": [
    "# plot the volume data and check\n",
    "plt.figure(figsize= (10,8))\n",
    "plt.plot(stock_data['Volume'])\n",
    "plt.ylabel('Volume of stock traded')\n",
    "plt.xlabel('Time')\n",
    "plt.show();"
   ]
  },
  {
   "cell_type": "code",
   "execution_count": 24,
   "id": "b6b41bb4",
   "metadata": {},
   "outputs": [
    {
     "data": {
      "image/png": "[encoded data removed]",
      "text/plain": [
       "<Figure size 720x576 with 1 Axes>"
      ]
     },
     "metadata": {
      "needs_background": "light"
     },
     "output_type": "display_data"
    }
   ],
   "source": [
    "# plot the volume data and check\n",
    "plt.figure(figsize= (10,8))\n",
    "plt.plot(stock_data['Average'])\n",
    "plt.ylabel('Average price of stock')\n",
    "plt.xlabel('Time')\n",
    "plt.show();"
   ]
  },
  {
   "cell_type": "code",
   "execution_count": 26,
   "id": "a7ac487c",
   "metadata": {},
   "outputs": [],
   "source": [
    "## Scaling data between 0 and 1 range\n",
    "from sklearn.preprocessing import MinMaxScaler\n",
    "\n",
    "sc= MinMaxScaler(feature_range=(0,1))\n",
    "input_data[:,0:2] = sc.fit_transform(input_data[:,:])"
   ]
  },
  {
   "cell_type": "code",
   "execution_count": 28,
   "id": "b6cb4474",
   "metadata": {},
   "outputs": [
    {
     "data": {
      "text/plain": [
       "array([[0.16274038, 0.02959963],\n",
       "       [0.22047759, 0.03274197],\n",
       "       [0.14588973, 0.0331999 ],\n",
       "       [0.35158852, 0.0318656 ]])"
      ]
     },
     "execution_count": 28,
     "metadata": {},
     "output_type": "execute_result"
    }
   ],
   "source": [
    "# check input data\n",
    "input_data[:4]"
   ]
  },
  {
   "cell_type": "markdown",
   "id": "a446e4fe",
   "metadata": {},
   "source": [
    "- We will be creating the data that will go back to 50 business days in past for the prediction.\n",
    "- And uses 30% of the latest data for testing"
   ]
  },
  {
   "cell_type": "markdown",
   "id": "85392a77",
   "metadata": {},
   "source": [
    "For RNN LSTM to predict the data we need to convert the input data.\n",
    "\n",
    "Input data is in the form: [Volume of stocks traded, Average stock price] and we need to create a time series data.\n",
    "\n",
    "The time series data for today should contain the [Volume of stocks traded, Average stock price] for past 50 days and the target variable will be Apple’s stock price today and so on.\n",
    "\n",
    "As the stock price prediction is based on multiple input features, it is a multivariate regression problem.\n",
    "\n",
    "We loop through all the samples and for each day we go back 50 business days in the past and add the volume of the stocks traded an average stock price."
   ]
  },
  {
   "cell_type": "code",
   "execution_count": 29,
   "id": "173e86e2",
   "metadata": {},
   "outputs": [],
   "source": [
    "# set the look back period\n",
    "lookback= 50\n",
    "\n",
    "# set up test size\n",
    "test_size=int(.3 * len(stock_data))\n",
    "\n",
    "# intialize train and test data\n",
    "X=[]\n",
    "y=[]\n",
    "for i in range(len(stock_data)-lookback-1):\n",
    "    t=[]\n",
    "    for j in range(0,lookback):\n",
    "        \n",
    "        t.append(input_data[[(i+j)], :])\n",
    "    X.append(t)\n",
    "    y.append(input_data[i+ lookback,1])"
   ]
  },
  {
   "cell_type": "code",
   "execution_count": 36,
   "id": "6fcb4de7",
   "metadata": {
    "scrolled": true
   },
   "outputs": [
    {
     "data": {
      "text/plain": [
       "[[array([[0.16274038, 0.02959963]]),\n",
       "  array([[0.22047759, 0.03274197]]),\n",
       "  array([[0.14588973, 0.0331999 ]]),\n",
       "  array([[0.35158852, 0.0318656 ]]),\n",
       "  array([[0.48462369, 0.02701785]]),\n",
       "  array([[0.21211744, 0.02570723]]),\n",
       "  array([[0.19511826, 0.02564406]]),\n",
       "  array([[0.2041406 , 0.02430185]]),\n",
       "  array([[0.22455801, 0.02323599]]),\n",
       "  array([[0.17040002, 0.02249383]]),\n",
       "  array([[0.43857479, 0.02174377]]),\n",
       "  array([[1.        , 0.01004287]]),\n",
       "  array([[0.68990178, 0.00825852]]),\n",
       "  array([[0.55850817, 0.00438981]]),\n",
       "  array([[0.36329025, 0.00379766]]),\n",
       "  array([[0.44638584, 0.00611888]]),\n",
       "  array([[0.2949198 , 0.00635575]]),\n",
       "  array([[0.24571139, 0.00401083]]),\n",
       "  array([[0.32054841, 0.00286601]]),\n",
       "  array([[0.21740243, 0.00370291]]),\n",
       "  array([[0.22459347, 0.00316603]]),\n",
       "  array([[0.17698829, 0.00344237]]),\n",
       "  array([[6.33094111e-01, 4.57929688e-04]]),\n",
       "  array([[0.32718843, 0.        ]]),\n",
       "  array([[0.4888239 , 0.00345026]]),\n",
       "  array([[0.35137673, 0.00476879]]),\n",
       "  array([[0.30485635, 0.00586624]]),\n",
       "  array([[0.1934997 , 0.00516355]]),\n",
       "  array([[0.20867812, 0.00653734]]),\n",
       "  array([[0.26610485, 0.00883489]]),\n",
       "  array([[0.23852131, 0.01046921]]),\n",
       "  array([[0.26754421, 0.01277466]]),\n",
       "  array([[0.44159341, 0.01397475]]),\n",
       "  array([[0.25003043, 0.01425109]]),\n",
       "  array([[0.30720225, 0.01385632]]),\n",
       "  array([[0.18134086, 0.01279045]]),\n",
       "  array([[0.28692858, 0.01010603]]),\n",
       "  array([[0.17493563, 0.01109295]]),\n",
       "  array([[0.12498551, 0.01403002]]),\n",
       "  array([[0.11652377, 0.01354841]]),\n",
       "  array([[0.10156097, 0.01308257]]),\n",
       "  array([[0.1566945 , 0.01324838]]),\n",
       "  array([[0.2056777 , 0.01275887]]),\n",
       "  array([[0.26612306, 0.01148772]]),\n",
       "  array([[0.20777636, 0.01070608]]),\n",
       "  array([[0.18394647, 0.01087189]]),\n",
       "  array([[0.20197773, 0.00959284]]),\n",
       "  array([[0.48641283, 0.00811641]]),\n",
       "  array([[0.23154206, 0.00784007]]),\n",
       "  array([[0.2424139 , 0.00739004]])],\n",
       " [array([[0.22047759, 0.03274197]]),\n",
       "  array([[0.14588973, 0.0331999 ]]),\n",
       "  array([[0.35158852, 0.0318656 ]]),\n",
       "  array([[0.48462369, 0.02701785]]),\n",
       "  array([[0.21211744, 0.02570723]]),\n",
       "  array([[0.19511826, 0.02564406]]),\n",
       "  array([[0.2041406 , 0.02430185]]),\n",
       "  array([[0.22455801, 0.02323599]]),\n",
       "  array([[0.17040002, 0.02249383]]),\n",
       "  array([[0.43857479, 0.02174377]]),\n",
       "  array([[1.        , 0.01004287]]),\n",
       "  array([[0.68990178, 0.00825852]]),\n",
       "  array([[0.55850817, 0.00438981]]),\n",
       "  array([[0.36329025, 0.00379766]]),\n",
       "  array([[0.44638584, 0.00611888]]),\n",
       "  array([[0.2949198 , 0.00635575]]),\n",
       "  array([[0.24571139, 0.00401083]]),\n",
       "  array([[0.32054841, 0.00286601]]),\n",
       "  array([[0.21740243, 0.00370291]]),\n",
       "  array([[0.22459347, 0.00316603]]),\n",
       "  array([[0.17698829, 0.00344237]]),\n",
       "  array([[6.33094111e-01, 4.57929688e-04]]),\n",
       "  array([[0.32718843, 0.        ]]),\n",
       "  array([[0.4888239 , 0.00345026]]),\n",
       "  array([[0.35137673, 0.00476879]]),\n",
       "  array([[0.30485635, 0.00586624]]),\n",
       "  array([[0.1934997 , 0.00516355]]),\n",
       "  array([[0.20867812, 0.00653734]]),\n",
       "  array([[0.26610485, 0.00883489]]),\n",
       "  array([[0.23852131, 0.01046921]]),\n",
       "  array([[0.26754421, 0.01277466]]),\n",
       "  array([[0.44159341, 0.01397475]]),\n",
       "  array([[0.25003043, 0.01425109]]),\n",
       "  array([[0.30720225, 0.01385632]]),\n",
       "  array([[0.18134086, 0.01279045]]),\n",
       "  array([[0.28692858, 0.01010603]]),\n",
       "  array([[0.17493563, 0.01109295]]),\n",
       "  array([[0.12498551, 0.01403002]]),\n",
       "  array([[0.11652377, 0.01354841]]),\n",
       "  array([[0.10156097, 0.01308257]]),\n",
       "  array([[0.1566945 , 0.01324838]]),\n",
       "  array([[0.2056777 , 0.01275887]]),\n",
       "  array([[0.26612306, 0.01148772]]),\n",
       "  array([[0.20777636, 0.01070608]]),\n",
       "  array([[0.18394647, 0.01087189]]),\n",
       "  array([[0.20197773, 0.00959284]]),\n",
       "  array([[0.48641283, 0.00811641]]),\n",
       "  array([[0.23154206, 0.00784007]]),\n",
       "  array([[0.2424139 , 0.00739004]]),\n",
       "  array([[0.18177976, 0.00834537]])]]"
      ]
     },
     "execution_count": 36,
     "metadata": {},
     "output_type": "execute_result"
    }
   ],
   "source": [
    "X[:2]"
   ]
  },
  {
   "cell_type": "code",
   "execution_count": 37,
   "id": "9b015a77",
   "metadata": {},
   "outputs": [
    {
     "data": {
      "text/plain": [
       "[0.00834537380495709, 0.007792700043039391]"
      ]
     },
     "execution_count": 37,
     "metadata": {},
     "output_type": "execute_result"
    }
   ],
   "source": [
    "y[:2]"
   ]
  },
  {
   "cell_type": "markdown",
   "id": "0188ba65",
   "metadata": {},
   "source": [
    "LSTM expects the input data in a specific 3D format of batch size, time steps, no. of input features.\n",
    "\n",
    "In our case timesteps or the widow size is 50, number of input features is 2(volume of stocks traded and the average stock price).\n",
    "\n",
    "We can transform the input data into LSTM’s expected structure using numpy.reshape(). We need to first convert input data X into an array and then use the reshape()"
   ]
  },
  {
   "cell_type": "code",
   "execution_count": 38,
   "id": "54932c12",
   "metadata": {},
   "outputs": [],
   "source": [
    "# convert into numpy arrays\n",
    "\n",
    "X, y= np.array(X), np.array(y)\n",
    "X_test = X[:test_size+lookback]"
   ]
  },
  {
   "cell_type": "code",
   "execution_count": 39,
   "id": "44799c73",
   "metadata": {},
   "outputs": [
    {
     "data": {
      "text/plain": [
       "450"
      ]
     },
     "execution_count": 39,
     "metadata": {},
     "output_type": "execute_result"
    }
   ],
   "source": [
    "test_size"
   ]
  },
  {
   "cell_type": "code",
   "execution_count": 40,
   "id": "86875e03",
   "metadata": {},
   "outputs": [
    {
     "data": {
      "text/plain": [
       "(500, 50, 1, 2)"
      ]
     },
     "execution_count": 40,
     "metadata": {},
     "output_type": "execute_result"
    }
   ],
   "source": [
    "X_test.shape"
   ]
  },
  {
   "cell_type": "code",
   "execution_count": 41,
   "id": "3ce0b724",
   "metadata": {},
   "outputs": [
    {
     "data": {
      "text/plain": [
       "(1449, 50, 1, 2)"
      ]
     },
     "execution_count": 41,
     "metadata": {},
     "output_type": "execute_result"
    }
   ],
   "source": [
    "X.shape"
   ]
  },
  {
   "cell_type": "code",
   "execution_count": 42,
   "id": "e1605010",
   "metadata": {},
   "outputs": [
    {
     "name": "stdout",
     "output_type": "stream",
     "text": [
      "(1449, 50, 2)\n",
      "(500, 50, 2)\n"
     ]
    }
   ],
   "source": [
    "# reshape\n",
    "\n",
    "X = X.reshape(X.shape[0],lookback, 2)\n",
    "X_test = X_test.reshape(X_test.shape[0],lookback, 2)\n",
    "print(X.shape)\n",
    "print(X_test.shape)"
   ]
  },
  {
   "cell_type": "markdown",
   "id": "cbb9a4ba",
   "metadata": {},
   "source": [
    "### Create Model"
   ]
  },
  {
   "cell_type": "code",
   "execution_count": 44,
   "id": "75452d54",
   "metadata": {},
   "outputs": [],
   "source": [
    "import tensorflow as tf"
   ]
  },
  {
   "cell_type": "code",
   "execution_count": 46,
   "id": "75ed2436",
   "metadata": {},
   "outputs": [
    {
     "name": "stdout",
     "output_type": "stream",
     "text": [
      "Model: \"sequential_1\"\n",
      "_________________________________________________________________\n",
      " Layer (type)                Output Shape              Param #   \n",
      "=================================================================\n",
      " lstm_3 (LSTM)               (None, 50, 32)            4480      \n",
      "                                                                 \n",
      " lstm_4 (LSTM)               (None, 50, 32)            8320      \n",
      "                                                                 \n",
      " lstm_5 (LSTM)               (None, 32)                8320      \n",
      "                                                                 \n",
      " dense_1 (Dense)             (None, 1)                 33        \n",
      "                                                                 \n",
      "=================================================================\n",
      "Total params: 21,153\n",
      "Trainable params: 21,153\n",
      "Non-trainable params: 0\n",
      "_________________________________________________________________\n"
     ]
    }
   ],
   "source": [
    "model = tf.keras.models.Sequential([\n",
    "    \n",
    "    tf.keras.layers.LSTM(32, return_sequences=True, input_shape=(X.shape[1],2)),\n",
    "    tf.keras.layers.LSTM(32, return_sequences=True),\n",
    "    tf.keras.layers.LSTM(32),\n",
    "    tf.keras.layers.Dense(1)\n",
    "])\n",
    "\n",
    "model.summary()"
   ]
  },
  {
   "cell_type": "code",
   "execution_count": 47,
   "id": "07e7b51e",
   "metadata": {},
   "outputs": [
    {
     "name": "stdout",
     "output_type": "stream",
     "text": [
      "Epoch 1/100\n",
      "46/46 [==============================] - 26s 88ms/step - loss: 0.0143 - mae: 0.0974\n",
      "Epoch 2/100\n",
      "46/46 [==============================] - 4s 78ms/step - loss: 4.7976e-04 - mae: 0.0229\n",
      "Epoch 3/100\n",
      "46/46 [==============================] - 3s 63ms/step - loss: 4.2498e-04 - mae: 0.0206\n",
      "Epoch 4/100\n",
      "46/46 [==============================] - 3s 66ms/step - loss: 4.0509e-04 - mae: 0.0197\n",
      "Epoch 5/100\n",
      "46/46 [==============================] - 3s 63ms/step - loss: 3.8790e-04 - mae: 0.0194\n",
      "Epoch 6/100\n",
      "46/46 [==============================] - 3s 72ms/step - loss: 4.0403e-04 - mae: 0.0198\n",
      "Epoch 7/100\n",
      "46/46 [==============================] - 3s 72ms/step - loss: 3.7928e-04 - mae: 0.0190\n",
      "Epoch 8/100\n",
      "46/46 [==============================] - 4s 77ms/step - loss: 3.8197e-04 - mae: 0.0191\n",
      "Epoch 9/100\n",
      "46/46 [==============================] - 4s 81ms/step - loss: 3.4332e-04 - mae: 0.0179\n",
      "Epoch 10/100\n",
      "46/46 [==============================] - 3s 74ms/step - loss: 3.3180e-04 - mae: 0.0175\n",
      "Epoch 11/100\n",
      "46/46 [==============================] - 3s 68ms/step - loss: 3.5626e-04 - mae: 0.0183\n",
      "Epoch 12/100\n",
      "46/46 [==============================] - 3s 63ms/step - loss: 3.1515e-04 - mae: 0.0174\n",
      "Epoch 13/100\n",
      "46/46 [==============================] - 3s 69ms/step - loss: 3.3379e-04 - mae: 0.0181\n",
      "Epoch 14/100\n",
      "46/46 [==============================] - 3s 75ms/step - loss: 2.9007e-04 - mae: 0.0167\n",
      "Epoch 15/100\n",
      "46/46 [==============================] - 3s 75ms/step - loss: 3.0063e-04 - mae: 0.0169\n",
      "Epoch 16/100\n",
      "46/46 [==============================] - 3s 75ms/step - loss: 2.7723e-04 - mae: 0.0161\n",
      "Epoch 17/100\n",
      "46/46 [==============================] - 3s 68ms/step - loss: 2.6540e-04 - mae: 0.0157\n",
      "Epoch 18/100\n",
      "46/46 [==============================] - 3s 68ms/step - loss: 3.1212e-04 - mae: 0.0172\n",
      "Epoch 19/100\n",
      "46/46 [==============================] - 3s 69ms/step - loss: 2.7594e-04 - mae: 0.0159\n",
      "Epoch 20/100\n",
      "46/46 [==============================] - 3s 66ms/step - loss: 2.5491e-04 - mae: 0.0152\n",
      "Epoch 21/100\n",
      "46/46 [==============================] - 3s 65ms/step - loss: 2.5850e-04 - mae: 0.0155\n",
      "Epoch 22/100\n",
      "46/46 [==============================] - 3s 63ms/step - loss: 2.6783e-04 - mae: 0.0158\n",
      "Epoch 23/100\n",
      "46/46 [==============================] - 3s 59ms/step - loss: 2.2825e-04 - mae: 0.0145\n",
      "Epoch 24/100\n",
      "46/46 [==============================] - 3s 60ms/step - loss: 2.2593e-04 - mae: 0.0143\n",
      "Epoch 25/100\n",
      "46/46 [==============================] - 3s 63ms/step - loss: 2.5320e-04 - mae: 0.0155\n",
      "Epoch 26/100\n",
      "46/46 [==============================] - 3s 60ms/step - loss: 2.0523e-04 - mae: 0.0138\n",
      "Epoch 27/100\n",
      "46/46 [==============================] - 3s 59ms/step - loss: 2.2350e-04 - mae: 0.0145\n",
      "Epoch 28/100\n",
      "46/46 [==============================] - 3s 66ms/step - loss: 2.2868e-04 - mae: 0.0145\n",
      "Epoch 29/100\n",
      "46/46 [==============================] - 3s 64ms/step - loss: 2.1977e-04 - mae: 0.0142\n",
      "Epoch 30/100\n",
      "46/46 [==============================] - 3s 72ms/step - loss: 2.2011e-04 - mae: 0.0143\n",
      "Epoch 31/100\n",
      "46/46 [==============================] - 3s 64ms/step - loss: 2.1204e-04 - mae: 0.0139\n",
      "Epoch 32/100\n",
      "46/46 [==============================] - 3s 60ms/step - loss: 1.9921e-04 - mae: 0.0134\n",
      "Epoch 33/100\n",
      "46/46 [==============================] - 3s 61ms/step - loss: 1.9765e-04 - mae: 0.0133\n",
      "Epoch 34/100\n",
      "46/46 [==============================] - 3s 60ms/step - loss: 2.0012e-04 - mae: 0.0134\n",
      "Epoch 35/100\n",
      "46/46 [==============================] - 3s 57ms/step - loss: 2.1378e-04 - mae: 0.0137\n",
      "Epoch 36/100\n",
      "46/46 [==============================] - 3s 57ms/step - loss: 2.2453e-04 - mae: 0.0146\n",
      "Epoch 37/100\n",
      "46/46 [==============================] - 3s 61ms/step - loss: 2.1178e-04 - mae: 0.0143\n",
      "Epoch 38/100\n",
      "46/46 [==============================] - 2s 54ms/step - loss: 2.0395e-04 - mae: 0.0138\n",
      "Epoch 39/100\n",
      "46/46 [==============================] - 3s 66ms/step - loss: 1.8679e-04 - mae: 0.0129\n",
      "Epoch 40/100\n",
      "46/46 [==============================] - 3s 62ms/step - loss: 1.7867e-04 - mae: 0.0126\n",
      "Epoch 41/100\n",
      "46/46 [==============================] - 3s 66ms/step - loss: 2.1263e-04 - mae: 0.0140\n",
      "Epoch 42/100\n",
      "46/46 [==============================] - 3s 76ms/step - loss: 2.1264e-04 - mae: 0.0141\n",
      "Epoch 43/100\n",
      "46/46 [==============================] - 3s 61ms/step - loss: 1.5699e-04 - mae: 0.0117\n",
      "Epoch 44/100\n",
      "46/46 [==============================] - 3s 72ms/step - loss: 2.0719e-04 - mae: 0.0138\n",
      "Epoch 45/100\n",
      "46/46 [==============================] - 3s 68ms/step - loss: 1.6101e-04 - mae: 0.0122\n",
      "Epoch 46/100\n",
      "46/46 [==============================] - 3s 69ms/step - loss: 2.0299e-04 - mae: 0.0136\n",
      "Epoch 47/100\n",
      "46/46 [==============================] - 4s 78ms/step - loss: 1.6550e-04 - mae: 0.0123\n",
      "Epoch 48/100\n",
      "46/46 [==============================] - 4s 77ms/step - loss: 1.5722e-04 - mae: 0.0118\n",
      "Epoch 49/100\n",
      "46/46 [==============================] - 3s 62ms/step - loss: 1.6136e-04 - mae: 0.0120\n",
      "Epoch 50/100\n",
      "46/46 [==============================] - 3s 71ms/step - loss: 1.7538e-04 - mae: 0.0125\n",
      "Epoch 51/100\n",
      "46/46 [==============================] - 4s 77ms/step - loss: 1.6685e-04 - mae: 0.0120\n",
      "Epoch 52/100\n",
      "46/46 [==============================] - 4s 78ms/step - loss: 1.6029e-04 - mae: 0.0122\n",
      "Epoch 53/100\n",
      "46/46 [==============================] - 3s 65ms/step - loss: 1.4826e-04 - mae: 0.0114\n",
      "Epoch 54/100\n",
      "46/46 [==============================] - 3s 62ms/step - loss: 1.5479e-04 - mae: 0.0118\n",
      "Epoch 55/100\n",
      "46/46 [==============================] - 3s 65ms/step - loss: 1.4855e-04 - mae: 0.0114\n",
      "Epoch 56/100\n",
      "46/46 [==============================] - 3s 70ms/step - loss: 1.4045e-04 - mae: 0.0111\n",
      "Epoch 57/100\n",
      "46/46 [==============================] - 3s 73ms/step - loss: 1.4692e-04 - mae: 0.0114\n",
      "Epoch 58/100\n",
      "46/46 [==============================] - 3s 69ms/step - loss: 1.5069e-04 - mae: 0.0115\n",
      "Epoch 59/100\n",
      "46/46 [==============================] - 3s 70ms/step - loss: 1.4657e-04 - mae: 0.0115\n",
      "Epoch 60/100\n",
      "46/46 [==============================] - 3s 69ms/step - loss: 1.4228e-04 - mae: 0.0112\n",
      "Epoch 61/100\n",
      "46/46 [==============================] - 3s 68ms/step - loss: 1.2817e-04 - mae: 0.0109\n",
      "Epoch 62/100\n",
      "46/46 [==============================] - 3s 68ms/step - loss: 1.3357e-04 - mae: 0.0112\n",
      "Epoch 63/100\n",
      "46/46 [==============================] - 3s 65ms/step - loss: 1.2315e-04 - mae: 0.0108\n",
      "Epoch 64/100\n",
      "46/46 [==============================] - 3s 71ms/step - loss: 1.1968e-04 - mae: 0.0105\n",
      "Epoch 65/100\n",
      "46/46 [==============================] - 3s 68ms/step - loss: 1.1803e-04 - mae: 0.0104\n",
      "Epoch 66/100\n",
      "46/46 [==============================] - 3s 69ms/step - loss: 1.1349e-04 - mae: 0.0100\n",
      "Epoch 67/100\n",
      "46/46 [==============================] - 3s 67ms/step - loss: 1.1075e-04 - mae: 0.0102\n",
      "Epoch 68/100\n",
      "46/46 [==============================] - 3s 68ms/step - loss: 1.0631e-04 - mae: 0.0100\n",
      "Epoch 69/100\n",
      "46/46 [==============================] - 3s 70ms/step - loss: 1.2693e-04 - mae: 0.0109\n",
      "Epoch 70/100\n",
      "46/46 [==============================] - 4s 98ms/step - loss: 1.0778e-04 - mae: 0.0101\n",
      "Epoch 71/100\n",
      "46/46 [==============================] - 4s 90ms/step - loss: 1.2055e-04 - mae: 0.0108\n",
      "Epoch 72/100\n",
      "46/46 [==============================] - 4s 80ms/step - loss: 1.4683e-04 - mae: 0.0120\n",
      "Epoch 73/100\n",
      "46/46 [==============================] - 3s 60ms/step - loss: 9.5941e-05 - mae: 0.0093\n",
      "Epoch 74/100\n",
      "46/46 [==============================] - 3s 68ms/step - loss: 8.8871e-05 - mae: 0.0090\n",
      "Epoch 75/100\n",
      "46/46 [==============================] - 3s 63ms/step - loss: 9.6302e-05 - mae: 0.0093\n",
      "Epoch 76/100\n",
      "46/46 [==============================] - 3s 68ms/step - loss: 9.6171e-05 - mae: 0.0095\n",
      "Epoch 77/100\n",
      "46/46 [==============================] - 3s 64ms/step - loss: 9.2491e-05 - mae: 0.0091\n",
      "Epoch 78/100\n",
      "46/46 [==============================] - 3s 71ms/step - loss: 9.3485e-05 - mae: 0.0091\n",
      "Epoch 79/100\n",
      "46/46 [==============================] - 4s 82ms/step - loss: 9.5738e-05 - mae: 0.0094\n",
      "Epoch 80/100\n",
      "46/46 [==============================] - 5s 115ms/step - loss: 1.0673e-04 - mae: 0.0101\n",
      "Epoch 81/100\n",
      "46/46 [==============================] - 5s 109ms/step - loss: 7.9273e-05 - mae: 0.0086\n",
      "Epoch 82/100\n",
      "46/46 [==============================] - 4s 82ms/step - loss: 1.0055e-04 - mae: 0.0099\n",
      "Epoch 83/100\n"
     ]
    },
    {
     "name": "stdout",
     "output_type": "stream",
     "text": [
      "46/46 [==============================] - 3s 66ms/step - loss: 8.8562e-05 - mae: 0.0093\n",
      "Epoch 84/100\n",
      "46/46 [==============================] - 3s 70ms/step - loss: 7.8393e-05 - mae: 0.0086\n",
      "Epoch 85/100\n",
      "46/46 [==============================] - 3s 68ms/step - loss: 8.7738e-05 - mae: 0.0087\n",
      "Epoch 86/100\n",
      "46/46 [==============================] - 3s 70ms/step - loss: 7.6378e-05 - mae: 0.0083\n",
      "Epoch 87/100\n",
      "46/46 [==============================] - 3s 68ms/step - loss: 7.2717e-05 - mae: 0.0082\n",
      "Epoch 88/100\n",
      "46/46 [==============================] - 3s 61ms/step - loss: 9.5048e-05 - mae: 0.0094\n",
      "Epoch 89/100\n",
      "46/46 [==============================] - 3s 73ms/step - loss: 1.1749e-04 - mae: 0.0104\n",
      "Epoch 90/100\n",
      "46/46 [==============================] - 4s 80ms/step - loss: 7.0469e-05 - mae: 0.0081\n",
      "Epoch 91/100\n",
      "46/46 [==============================] - 4s 87ms/step - loss: 7.9244e-05 - mae: 0.0086\n",
      "Epoch 92/100\n",
      "46/46 [==============================] - 3s 70ms/step - loss: 7.5093e-05 - mae: 0.0084\n",
      "Epoch 93/100\n",
      "46/46 [==============================] - 3s 72ms/step - loss: 9.0692e-05 - mae: 0.0091\n",
      "Epoch 94/100\n",
      "46/46 [==============================] - 3s 62ms/step - loss: 7.8072e-05 - mae: 0.0085\n",
      "Epoch 95/100\n",
      "46/46 [==============================] - 3s 59ms/step - loss: 7.7616e-05 - mae: 0.0087\n",
      "Epoch 96/100\n",
      "46/46 [==============================] - 3s 62ms/step - loss: 1.0950e-04 - mae: 0.0102\n",
      "Epoch 97/100\n",
      "46/46 [==============================] - 3s 70ms/step - loss: 7.3560e-05 - mae: 0.0083\n",
      "Epoch 98/100\n",
      "46/46 [==============================] - 3s 64ms/step - loss: 6.3157e-05 - mae: 0.0075\n",
      "Epoch 99/100\n",
      "46/46 [==============================] - 3s 57ms/step - loss: 7.6379e-05 - mae: 0.0084\n",
      "Epoch 100/100\n",
      "46/46 [==============================] - 3s 61ms/step - loss: 7.8326e-05 - mae: 0.0087\n"
     ]
    },
    {
     "data": {
      "text/plain": [
       "<keras.callbacks.History at 0x1896c2ecee0>"
      ]
     },
     "execution_count": 47,
     "metadata": {},
     "output_type": "execute_result"
    }
   ],
   "source": [
    "# compile model\n",
    "\n",
    "model.compile(optimizer='adam',\n",
    "             loss=tf.keras.losses.Huber(),\n",
    "             metrics = ['mae'])\n",
    "\n",
    "# fit model\n",
    "num_epochs = 100\n",
    "model.fit(X, y, epochs=num_epochs, batch_size=32)"
   ]
  },
  {
   "cell_type": "markdown",
   "id": "782a7d33",
   "metadata": {},
   "source": [
    "## Get predictions"
   ]
  },
  {
   "cell_type": "code",
   "execution_count": 48,
   "id": "f022a551",
   "metadata": {},
   "outputs": [
    {
     "name": "stdout",
     "output_type": "stream",
     "text": [
      "16/16 [==============================] - 2s 22ms/step\n"
     ]
    }
   ],
   "source": [
    "predicted_value= model.predict(X_test)"
   ]
  },
  {
   "cell_type": "markdown",
   "id": "906aaaf9",
   "metadata": {},
   "source": [
    "### Plotting the predicted values against the true values and check"
   ]
  },
  {
   "cell_type": "code",
   "execution_count": 50,
   "id": "0d0d4b65",
   "metadata": {},
   "outputs": [
    {
     "data": {
      "image/png": "[encoded data removed]",
      "text/plain": [
       "<Figure size 720x576 with 1 Axes>"
      ]
     },
     "metadata": {
      "needs_background": "light"
     },
     "output_type": "display_data"
    }
   ],
   "source": [
    "plt.figure(figsize=(10,8))\n",
    "plt.plot(predicted_value, color= 'red')\n",
    "plt.plot(input_data[lookback:test_size+(2*lookback),1], color='green')\n",
    "plt.title(\"Opening price of stocks sold\")\n",
    "plt.xlabel(\"Time (latest-> oldest)\")\n",
    "plt.ylabel(\"Stock Opening Price\")\n",
    "plt.show()"
   ]
  },
  {
   "cell_type": "code",
   "execution_count": 52,
   "id": "f61b6b49",
   "metadata": {},
   "outputs": [
    {
     "name": "stdout",
     "output_type": "stream",
     "text": [
      "(500,)\n"
     ]
    }
   ],
   "source": [
    "true_values = input_data[lookback:test_size+(2*lookback),1]\n",
    "print(true_values.shape)"
   ]
  },
  {
   "cell_type": "code",
   "execution_count": 54,
   "id": "0ea602d9",
   "metadata": {},
   "outputs": [
    {
     "data": {
      "text/plain": [
       "(500,)"
      ]
     },
     "execution_count": 54,
     "metadata": {},
     "output_type": "execute_result"
    }
   ],
   "source": [
    "results = predicted_value.squeeze()\n",
    "results.shape"
   ]
  },
  {
   "cell_type": "markdown",
   "id": "89d0929f",
   "metadata": {},
   "source": [
    "### Evaluation metrics"
   ]
  },
  {
   "cell_type": "code",
   "execution_count": 56,
   "id": "91066693",
   "metadata": {},
   "outputs": [
    {
     "name": "stdout",
     "output_type": "stream",
     "text": [
      "Mean Squared error :2.1943104002275504e-05\n",
      "Mean Absolute error :0.0033887235913425684\n"
     ]
    }
   ],
   "source": [
    "print('Mean Squared error :{}'.format(tf.metrics.mean_squared_error(true_values, results)))\n",
    "print('Mean Absolute error :{}'.format(tf.metrics.mean_absolute_error(true_values, results)))"
   ]
  },
  {
   "cell_type": "markdown",
   "id": "9c3fdb3b",
   "metadata": {},
   "source": [
    "## USING tf.data.Dataset"
   ]
  },
  {
   "cell_type": "code",
   "execution_count": 196,
   "id": "f8b4fa6d",
   "metadata": {},
   "outputs": [
    {
     "data": {
      "text/html": [
       "<div>\n",
       "<style scoped>\n",
       "    .dataframe tbody tr th:only-of-type {\n",
       "        vertical-align: middle;\n",
       "    }\n",
       "\n",
       "    .dataframe tbody tr th {\n",
       "        vertical-align: top;\n",
       "    }\n",
       "\n",
       "    .dataframe thead th {\n",
       "        text-align: right;\n",
       "    }\n",
       "</style>\n",
       "<table border=\"1\" class=\"dataframe\">\n",
       "  <thead>\n",
       "    <tr style=\"text-align: right;\">\n",
       "      <th></th>\n",
       "      <th>Volume</th>\n",
       "      <th>Average</th>\n",
       "    </tr>\n",
       "  </thead>\n",
       "  <tbody>\n",
       "    <tr>\n",
       "      <th>0</th>\n",
       "      <td>108929200</td>\n",
       "      <td>27.395001</td>\n",
       "    </tr>\n",
       "    <tr>\n",
       "      <th>1</th>\n",
       "      <td>133029200</td>\n",
       "      <td>27.892500</td>\n",
       "    </tr>\n",
       "    <tr>\n",
       "      <th>2</th>\n",
       "      <td>101895600</td>\n",
       "      <td>27.965000</td>\n",
       "    </tr>\n",
       "    <tr>\n",
       "      <th>3</th>\n",
       "      <td>187756000</td>\n",
       "      <td>27.753751</td>\n",
       "    </tr>\n",
       "    <tr>\n",
       "      <th>4</th>\n",
       "      <td>243286000</td>\n",
       "      <td>26.986250</td>\n",
       "    </tr>\n",
       "  </tbody>\n",
       "</table>\n",
       "</div>"
      ],
      "text/plain": [
       "      Volume    Average\n",
       "0  108929200  27.395001\n",
       "1  133029200  27.892500\n",
       "2  101895600  27.965000\n",
       "3  187756000  27.753751\n",
       "4  243286000  26.986250"
      ]
     },
     "execution_count": 196,
     "metadata": {},
     "output_type": "execute_result"
    }
   ],
   "source": [
    "stock_data[['Volume','Average']].head()"
   ]
  },
  {
   "cell_type": "code",
   "execution_count": 70,
   "id": "8707fd01",
   "metadata": {},
   "outputs": [
    {
     "data": {
      "text/plain": [
       "array([[1.08929200e+08, 2.73950005e+01],\n",
       "       [1.33029200e+08, 2.78925000e+01],\n",
       "       [1.01895600e+08, 2.79650000e+01]])"
      ]
     },
     "execution_count": 70,
     "metadata": {},
     "output_type": "execute_result"
    }
   ],
   "source": [
    "d = stock_data[['Volume','Average']].values\n",
    "d[:3]"
   ]
  },
  {
   "cell_type": "markdown",
   "id": "05c9741a",
   "metadata": {},
   "source": [
    "## scale the input values"
   ]
  },
  {
   "cell_type": "code",
   "execution_count": 197,
   "id": "4591e170",
   "metadata": {},
   "outputs": [],
   "source": [
    "# scale the input values\n",
    "\n",
    "sc= MinMaxScaler(feature_range=(0,1))\n",
    "input_data = sc.fit_transform(d[:,:])"
   ]
  },
  {
   "cell_type": "code",
   "execution_count": 229,
   "id": "e42d580b",
   "metadata": {},
   "outputs": [
    {
     "data": {
      "text/plain": [
       "1500"
      ]
     },
     "execution_count": 229,
     "metadata": {},
     "output_type": "execute_result"
    }
   ],
   "source": [
    "len(input_data)"
   ]
  },
  {
   "cell_type": "code",
   "execution_count": 198,
   "id": "24f22f29",
   "metadata": {},
   "outputs": [],
   "source": [
    "split_time = 1000\n",
    "\n",
    "train_series = input_data[:split_time]\n",
    "valid_series = input_data[split_time:]"
   ]
  },
  {
   "cell_type": "code",
   "execution_count": 199,
   "id": "8ab132a4",
   "metadata": {},
   "outputs": [
    {
     "name": "stdout",
     "output_type": "stream",
     "text": [
      "1000\n",
      "500\n"
     ]
    }
   ],
   "source": [
    "# set train and test time series\n",
    "train_time = range(1, split_time + 1)\n",
    "print(len(train_time))\n",
    "\n",
    "valid_time = np.array(range(split_time, (split_time + (len(d) - split_time))))\n",
    "print(len(valid_time))"
   ]
  },
  {
   "cell_type": "code",
   "execution_count": 200,
   "id": "e35ade4f",
   "metadata": {},
   "outputs": [
    {
     "data": {
      "text/plain": [
       "array([[0.16274038, 0.02959963],\n",
       "       [0.22047759, 0.03274197],\n",
       "       [0.14588973, 0.0331999 ],\n",
       "       [0.35158852, 0.0318656 ],\n",
       "       [0.48462369, 0.02701785],\n",
       "       [0.21211744, 0.02570723],\n",
       "       [0.19511826, 0.02564406],\n",
       "       [0.2041406 , 0.02430185],\n",
       "       [0.22455801, 0.02323599],\n",
       "       [0.17040002, 0.02249383]])"
      ]
     },
     "execution_count": 200,
     "metadata": {},
     "output_type": "execute_result"
    }
   ],
   "source": [
    "sample_data = train_series[:10]\n",
    "sample_data"
   ]
  },
  {
   "cell_type": "code",
   "execution_count": 97,
   "id": "7cce4419",
   "metadata": {},
   "outputs": [
    {
     "name": "stdout",
     "output_type": "stream",
     "text": [
      "0\n",
      "1\n",
      "2\n",
      "3\n",
      "4\n",
      "5\n",
      "6\n",
      "7\n",
      "8\n",
      "9\n"
     ]
    }
   ],
   "source": [
    "test = tf.data.Dataset.range(10)\n",
    "for i in test:\n",
    "    print(i.numpy())"
   ]
  },
  {
   "cell_type": "code",
   "execution_count": 106,
   "id": "bc1ad0a1",
   "metadata": {},
   "outputs": [
    {
     "name": "stdout",
     "output_type": "stream",
     "text": [
      "0 1 2 3 \n",
      "1 2 3 4 \n",
      "2 3 4 5 \n",
      "3 4 5 6 \n",
      "4 5 6 7 \n",
      "5 6 7 8 \n",
      "6 7 8 9 \n"
     ]
    }
   ],
   "source": [
    "datasets = test.window(size=4, shift = 1, drop_remainder=True)\n",
    "datasets.flat_map(lambda window: window.batch(3))\n",
    "for data in datasets:\n",
    "    for i in data:\n",
    "        print(i.numpy(), end = ' ')\n",
    "    print()"
   ]
  },
  {
   "cell_type": "code",
   "execution_count": 116,
   "id": "f89a61b8",
   "metadata": {},
   "outputs": [
    {
     "name": "stdout",
     "output_type": "stream",
     "text": [
      "[1.08929200e+08 2.73950005e+01] [1.330292e+08 2.789250e+01] [1.018956e+08 2.796500e+01] \n",
      "[1.330292e+08 2.789250e+01] [1.018956e+08 2.796500e+01] [1.8775600e+08 2.7753751e+01] \n",
      "[1.018956e+08 2.796500e+01] [1.8775600e+08 2.7753751e+01] [2.432860e+08 2.698625e+01] \n",
      "[1.8775600e+08 2.7753751e+01] [2.432860e+08 2.698625e+01] [1.29539600e+08 2.67787505e+01] \n",
      "[2.432860e+08 2.698625e+01] [1.29539600e+08 2.67787505e+01] [1.2244400e+08 2.6768749e+01] \n",
      "[1.29539600e+08 2.67787505e+01] [1.2244400e+08 2.6768749e+01] [1.26210000e+08 2.65562495e+01] \n",
      "[1.2244400e+08 2.6768749e+01] [1.26210000e+08 2.65562495e+01] [1.3473240e+08 2.6387501e+01] \n",
      "[1.26210000e+08 2.65562495e+01] [1.3473240e+08 2.6387501e+01] [1.12126400e+08 2.62700005e+01] \n"
     ]
    }
   ],
   "source": [
    "datasets = tf.data.Dataset.from_tensor_slices(sample_data)\n",
    "datasets = datasets.window(size=3, shift = 1, drop_remainder=True)\n",
    "datasets.flat_map(lambda window: window.batch(3))\n",
    "for data in datasets:\n",
    "    for i in data:\n",
    "        print(i.numpy(), end = ' ')\n",
    "    print()"
   ]
  },
  {
   "cell_type": "code",
   "execution_count": 115,
   "id": "6d27fe5b",
   "metadata": {},
   "outputs": [
    {
     "name": "stdout",
     "output_type": "stream",
     "text": [
      "[[1.08929200e+08 2.73950005e+01]\n",
      " [1.33029200e+08 2.78925000e+01]] 27.965 \n",
      "[[1.330292e+08 2.789250e+01]\n",
      " [1.018956e+08 2.796500e+01]] 27.753751 \n",
      "[[1.0189560e+08 2.7965000e+01]\n",
      " [1.8775600e+08 2.7753751e+01]] 26.98625 \n",
      "[[1.8775600e+08 2.7753751e+01]\n",
      " [2.4328600e+08 2.6986250e+01]] 26.7787505 \n",
      "[[2.43286000e+08 2.69862500e+01]\n",
      " [1.29539600e+08 2.67787505e+01]] 26.768749 \n",
      "[[1.29539600e+08 2.67787505e+01]\n",
      " [1.22444000e+08 2.67687490e+01]] 26.5562495 \n",
      "[[1.22444000e+08 2.67687490e+01]\n",
      " [1.26210000e+08 2.65562495e+01]] 26.387501 \n",
      "[[1.26210000e+08 2.65562495e+01]\n",
      " [1.34732400e+08 2.63875010e+01]] 26.270000500000002 \n"
     ]
    },
    {
     "data": {
      "text/plain": [
       "tensorflow.python.data.ops.dataset_ops.MapDataset"
      ]
     },
     "execution_count": 115,
     "metadata": {},
     "output_type": "execute_result"
    }
   ],
   "source": [
    "datasets = tf.data.Dataset.from_tensor_slices(sample_data)\n",
    "datasets = datasets.window(size=3, shift = 1, drop_remainder=True)\n",
    "datasets = datasets.flat_map(lambda window: window.batch(3))\n",
    "datasets = datasets.map(lambda w : (w[:-1], w[-1][1]))\n",
    "\n",
    "for data in datasets:\n",
    "    for i in data:\n",
    "        print(i.numpy(), end = ' ')\n",
    "    print()\n",
    "type(datasets)"
   ]
  },
  {
   "cell_type": "markdown",
   "id": "7097757a",
   "metadata": {},
   "source": [
    "### function to generate train and test data"
   ]
  },
  {
   "cell_type": "code",
   "execution_count": 201,
   "id": "e4f1306e",
   "metadata": {},
   "outputs": [],
   "source": [
    "def generate_windowed_datasets(series, batch_size, buffer_size, window_size):\n",
    "    \n",
    "    datasets = tf.data.Dataset.from_tensor_slices(series)\n",
    "    datasets = datasets.window(size=window_size + 1, shift = 1, drop_remainder=True)\n",
    "    datasets = datasets.flat_map(lambda window: window.batch(window_size + 1))\n",
    "    datasets = datasets.map(lambda w : (w[:-1], w[-1][1]))\n",
    "    datasets = datasets.shuffle(buffer_size=buffer_size)\n",
    "    datasets = datasets.batch(batch_size=batch_size).prefetch(1)\n",
    "    return datasets    "
   ]
  },
  {
   "cell_type": "code",
   "execution_count": 202,
   "id": "83b450ab",
   "metadata": {},
   "outputs": [],
   "source": [
    "# define hyper parameters\n",
    "\n",
    "window_size = 50\n",
    "buffer_size = 1000\n",
    "batch_size = 32"
   ]
  },
  {
   "cell_type": "code",
   "execution_count": 203,
   "id": "79f38e22",
   "metadata": {},
   "outputs": [],
   "source": [
    "# create train and valid datasets\n",
    "\n",
    "train_dataset = generate_windowed_datasets(train_series, batch_size, buffer_size, window_size)"
   ]
  },
  {
   "cell_type": "code",
   "execution_count": 204,
   "id": "5a318c8b",
   "metadata": {},
   "outputs": [
    {
     "name": "stdout",
     "output_type": "stream",
     "text": [
      "Type: <class 'tuple'>\n",
      "length :2\n",
      "Feature Shape : (32, 50, 2)\n",
      "Label : (32,)\n"
     ]
    }
   ],
   "source": [
    "# check data in train_dataset\n",
    "\n",
    "for data in train_dataset.take(1):\n",
    "    print('Type: {}'.format(type(data)))\n",
    "    print('length :{}'.format(len(data)))\n",
    "    print('Feature Shape : {}'.format(data[0].shape))\n",
    "    print('Label : {}'.format(data[1].shape))"
   ]
  },
  {
   "cell_type": "markdown",
   "id": "aa7cba65",
   "metadata": {},
   "source": [
    "## Create Model"
   ]
  },
  {
   "cell_type": "code",
   "execution_count": 205,
   "id": "1c9f2373",
   "metadata": {},
   "outputs": [
    {
     "name": "stdout",
     "output_type": "stream",
     "text": [
      "Model: \"sequential\"\n",
      "_________________________________________________________________\n",
      " Layer (type)                Output Shape              Param #   \n",
      "=================================================================\n",
      " lstm (LSTM)                 (None, 50, 32)            4480      \n",
      "                                                                 \n",
      " lstm_1 (LSTM)               (None, 50, 32)            8320      \n",
      "                                                                 \n",
      " lstm_2 (LSTM)               (None, 32)                8320      \n",
      "                                                                 \n",
      " dense (Dense)               (None, 1)                 33        \n",
      "                                                                 \n",
      "=================================================================\n",
      "Total params: 21,153\n",
      "Trainable params: 21,153\n",
      "Non-trainable params: 0\n",
      "_________________________________________________________________\n"
     ]
    }
   ],
   "source": [
    "model_2 = tf.keras.models.Sequential([\n",
    "    \n",
    "    #tf.keras.layers.Lambda(lambda x:tf.expand_dims(x, axis = 0),  input_shape = [None, 2]),\n",
    "    tf.keras.layers.LSTM(32, return_sequences=True, input_shape = (50, 2)),\n",
    "    tf.keras.layers.LSTM(32, return_sequences=True),\n",
    "    tf.keras.layers.LSTM(32),\n",
    "    tf.keras.layers.Dense(1)\n",
    "])\n",
    "\n",
    "model_2.summary()"
   ]
  },
  {
   "cell_type": "code",
   "execution_count": 206,
   "id": "0fdd33c9",
   "metadata": {},
   "outputs": [],
   "source": [
    "## store the initial weights\n",
    "\n",
    "init_weights = model_2.get_weights()"
   ]
  },
  {
   "cell_type": "code",
   "execution_count": 208,
   "id": "4e29a936",
   "metadata": {},
   "outputs": [],
   "source": [
    "# clear session\n",
    "model_2.set_weights(init_weights)"
   ]
  },
  {
   "cell_type": "code",
   "execution_count": 209,
   "id": "c4db76b6",
   "metadata": {
    "scrolled": true
   },
   "outputs": [
    {
     "name": "stdout",
     "output_type": "stream",
     "text": [
      "Epoch 1/100\n",
      "30/30 [==============================] - 6s 46ms/step - loss: 0.0067 - mae: 0.0920 - lr: 0.0010\n",
      "Epoch 2/100\n",
      "30/30 [==============================] - 2s 49ms/step - loss: 0.0027 - mae: 0.0565 - lr: 0.0011\n",
      "Epoch 3/100\n",
      "30/30 [==============================] - 2s 48ms/step - loss: 0.0026 - mae: 0.0560 - lr: 0.0013\n",
      "Epoch 4/100\n",
      "30/30 [==============================] - 2s 49ms/step - loss: 0.0026 - mae: 0.0552 - lr: 0.0014\n",
      "Epoch 5/100\n",
      "30/30 [==============================] - 2s 49ms/step - loss: 0.0026 - mae: 0.0550 - lr: 0.0016\n",
      "Epoch 6/100\n",
      "30/30 [==============================] - 2s 49ms/step - loss: 0.0025 - mae: 0.0548 - lr: 0.0018\n",
      "Epoch 7/100\n",
      "30/30 [==============================] - 1s 44ms/step - loss: 0.0025 - mae: 0.0543 - lr: 0.0020\n",
      "Epoch 8/100\n",
      "30/30 [==============================] - 1s 46ms/step - loss: 0.0025 - mae: 0.0538 - lr: 0.0022\n",
      "Epoch 9/100\n",
      "30/30 [==============================] - 2s 49ms/step - loss: 0.0024 - mae: 0.0534 - lr: 0.0025\n",
      "Epoch 10/100\n",
      "30/30 [==============================] - 2s 50ms/step - loss: 0.0024 - mae: 0.0529 - lr: 0.0028\n",
      "Epoch 11/100\n",
      "30/30 [==============================] - 2s 46ms/step - loss: 0.0023 - mae: 0.0523 - lr: 0.0032\n",
      "Epoch 12/100\n",
      "30/30 [==============================] - 2s 48ms/step - loss: 0.0022 - mae: 0.0516 - lr: 0.0035\n",
      "Epoch 13/100\n",
      "30/30 [==============================] - 2s 48ms/step - loss: 0.0022 - mae: 0.0507 - lr: 0.0040\n",
      "Epoch 14/100\n",
      "30/30 [==============================] - 1s 44ms/step - loss: 0.0021 - mae: 0.0502 - lr: 0.0045\n",
      "Epoch 15/100\n",
      "30/30 [==============================] - 2s 50ms/step - loss: 0.0020 - mae: 0.0489 - lr: 0.0050\n",
      "Epoch 16/100\n",
      "30/30 [==============================] - 1s 44ms/step - loss: 0.0019 - mae: 0.0475 - lr: 0.0056\n",
      "Epoch 17/100\n",
      "30/30 [==============================] - 2s 46ms/step - loss: 0.0018 - mae: 0.0466 - lr: 0.0063\n",
      "Epoch 18/100\n",
      "30/30 [==============================] - 2s 47ms/step - loss: 0.0017 - mae: 0.0448 - lr: 0.0071\n",
      "Epoch 19/100\n",
      "30/30 [==============================] - 2s 46ms/step - loss: 0.0016 - mae: 0.0430 - lr: 0.0079\n",
      "Epoch 20/100\n",
      "30/30 [==============================] - 1s 44ms/step - loss: 0.0014 - mae: 0.0407 - lr: 0.0089\n",
      "Epoch 21/100\n",
      "30/30 [==============================] - 2s 49ms/step - loss: 0.0012 - mae: 0.0380 - lr: 0.0100\n",
      "Epoch 22/100\n",
      "30/30 [==============================] - 2s 46ms/step - loss: 0.0010 - mae: 0.0349 - lr: 0.0112\n",
      "Epoch 23/100\n",
      "30/30 [==============================] - 2s 46ms/step - loss: 8.3396e-04 - mae: 0.0318 - lr: 0.0126\n",
      "Epoch 24/100\n",
      "30/30 [==============================] - 1s 46ms/step - loss: 6.2710e-04 - mae: 0.0273 - lr: 0.0141\n",
      "Epoch 25/100\n",
      "30/30 [==============================] - 1s 45ms/step - loss: 4.4549e-04 - mae: 0.0232 - lr: 0.0158\n",
      "Epoch 26/100\n",
      "30/30 [==============================] - 1s 44ms/step - loss: 3.0304e-04 - mae: 0.0190 - lr: 0.0178\n",
      "Epoch 27/100\n",
      "30/30 [==============================] - 1s 45ms/step - loss: 2.1893e-04 - mae: 0.0157 - lr: 0.0200\n",
      "Epoch 28/100\n",
      "30/30 [==============================] - 1s 46ms/step - loss: 1.8408e-04 - mae: 0.0142 - lr: 0.0224\n",
      "Epoch 29/100\n",
      "30/30 [==============================] - 1s 45ms/step - loss: 1.6129e-04 - mae: 0.0131 - lr: 0.0251\n",
      "Epoch 30/100\n",
      "30/30 [==============================] - 1s 45ms/step - loss: 1.5249e-04 - mae: 0.0127 - lr: 0.0282\n",
      "Epoch 31/100\n",
      "30/30 [==============================] - 2s 46ms/step - loss: 1.4634e-04 - mae: 0.0127 - lr: 0.0316\n",
      "Epoch 32/100\n",
      "30/30 [==============================] - 2s 47ms/step - loss: 1.5355e-04 - mae: 0.0132 - lr: 0.0355\n",
      "Epoch 33/100\n",
      "30/30 [==============================] - 1s 45ms/step - loss: 1.4033e-04 - mae: 0.0127 - lr: 0.0398\n",
      "Epoch 34/100\n",
      "30/30 [==============================] - 2s 49ms/step - loss: 1.3883e-04 - mae: 0.0125 - lr: 0.0447\n",
      "Epoch 35/100\n",
      "30/30 [==============================] - 2s 49ms/step - loss: 1.4175e-04 - mae: 0.0129 - lr: 0.0501\n",
      "Epoch 36/100\n",
      "30/30 [==============================] - 2s 47ms/step - loss: 1.4637e-04 - mae: 0.0133 - lr: 0.0562\n",
      "Epoch 37/100\n",
      "30/30 [==============================] - 1s 44ms/step - loss: 1.3112e-04 - mae: 0.0124 - lr: 0.0631\n",
      "Epoch 38/100\n",
      "30/30 [==============================] - 2s 47ms/step - loss: 1.4296e-04 - mae: 0.0132 - lr: 0.0708\n",
      "Epoch 39/100\n",
      "30/30 [==============================] - 1s 45ms/step - loss: 1.4620e-04 - mae: 0.0132 - lr: 0.0794\n",
      "Epoch 40/100\n",
      "30/30 [==============================] - 1s 44ms/step - loss: 1.7602e-04 - mae: 0.0148 - lr: 0.0891\n",
      "Epoch 41/100\n",
      "30/30 [==============================] - 2s 46ms/step - loss: 1.4624e-04 - mae: 0.0131 - lr: 0.1000\n",
      "Epoch 42/100\n",
      "30/30 [==============================] - 2s 47ms/step - loss: 1.5459e-04 - mae: 0.0136 - lr: 0.1122\n",
      "Epoch 43/100\n",
      "30/30 [==============================] - 2s 46ms/step - loss: 1.4827e-04 - mae: 0.0136 - lr: 0.1259\n",
      "Epoch 44/100\n",
      "30/30 [==============================] - 2s 46ms/step - loss: 1.5047e-04 - mae: 0.0136 - lr: 0.1413\n",
      "Epoch 45/100\n",
      "30/30 [==============================] - 2s 46ms/step - loss: 1.5041e-04 - mae: 0.0135 - lr: 0.1585\n",
      "Epoch 46/100\n",
      "30/30 [==============================] - 1s 44ms/step - loss: 2.0477e-04 - mae: 0.0159 - lr: 0.1778\n",
      "Epoch 47/100\n",
      "30/30 [==============================] - 2s 46ms/step - loss: 1.8248e-04 - mae: 0.0151 - lr: 0.1995\n",
      "Epoch 48/100\n",
      "30/30 [==============================] - 2s 46ms/step - loss: 1.7531e-04 - mae: 0.0149 - lr: 0.2239\n",
      "Epoch 49/100\n",
      "30/30 [==============================] - 2s 48ms/step - loss: 2.2430e-04 - mae: 0.0170 - lr: 0.2512\n",
      "Epoch 50/100\n",
      "30/30 [==============================] - 2s 46ms/step - loss: 1.3361e-04 - mae: 0.0127 - lr: 0.2818\n",
      "Epoch 51/100\n",
      "30/30 [==============================] - 2s 48ms/step - loss: 1.8002e-04 - mae: 0.0149 - lr: 0.3162\n",
      "Epoch 52/100\n",
      "30/30 [==============================] - 2s 49ms/step - loss: 2.8511e-04 - mae: 0.0195 - lr: 0.3548\n",
      "Epoch 53/100\n",
      "30/30 [==============================] - 2s 48ms/step - loss: 2.7405e-04 - mae: 0.0185 - lr: 0.3981\n",
      "Epoch 54/100\n",
      "30/30 [==============================] - 2s 48ms/step - loss: 2.4140e-04 - mae: 0.0179 - lr: 0.4467\n",
      "Epoch 55/100\n",
      "30/30 [==============================] - 2s 46ms/step - loss: 1.7489e-04 - mae: 0.0149 - lr: 0.5012\n",
      "Epoch 56/100\n",
      "30/30 [==============================] - 2s 48ms/step - loss: 3.2536e-04 - mae: 0.0209 - lr: 0.5623\n",
      "Epoch 57/100\n",
      "30/30 [==============================] - 2s 47ms/step - loss: 2.4131e-04 - mae: 0.0178 - lr: 0.6310\n",
      "Epoch 58/100\n",
      "30/30 [==============================] - 2s 51ms/step - loss: 3.6973e-04 - mae: 0.0229 - lr: 0.7079\n",
      "Epoch 59/100\n",
      "30/30 [==============================] - 2s 51ms/step - loss: 3.5098e-04 - mae: 0.0216 - lr: 0.7943\n",
      "Epoch 60/100\n",
      "30/30 [==============================] - 2s 51ms/step - loss: 3.3528e-04 - mae: 0.0208 - lr: 0.8913\n",
      "Epoch 61/100\n",
      "30/30 [==============================] - 2s 51ms/step - loss: 4.9172e-04 - mae: 0.0266 - lr: 1.0000\n",
      "Epoch 62/100\n",
      "30/30 [==============================] - 2s 49ms/step - loss: 5.8880e-04 - mae: 0.0287 - lr: 1.1220\n",
      "Epoch 63/100\n",
      "30/30 [==============================] - 2s 48ms/step - loss: 1.4294e-04 - mae: 0.0134 - lr: 1.2589\n",
      "Epoch 64/100\n",
      "30/30 [==============================] - 2s 47ms/step - loss: 8.4758e-04 - mae: 0.0339 - lr: 1.4125\n",
      "Epoch 65/100\n",
      "30/30 [==============================] - 2s 48ms/step - loss: 3.1864e-04 - mae: 0.0203 - lr: 1.5849\n",
      "Epoch 66/100\n",
      "30/30 [==============================] - 2s 47ms/step - loss: 7.2108e-04 - mae: 0.0303 - lr: 1.7783\n",
      "Epoch 67/100\n",
      "30/30 [==============================] - 2s 48ms/step - loss: 4.6297e-04 - mae: 0.0251 - lr: 1.9953\n",
      "Epoch 68/100\n",
      "30/30 [==============================] - 2s 48ms/step - loss: 0.0011 - mae: 0.0398 - lr: 2.2387\n",
      "Epoch 69/100\n",
      "30/30 [==============================] - 2s 47ms/step - loss: 3.4143e-04 - mae: 0.0221 - lr: 2.5119\n",
      "Epoch 70/100\n",
      "30/30 [==============================] - 2s 48ms/step - loss: 0.0090 - mae: 0.1085 - lr: 2.8184\n",
      "Epoch 71/100\n",
      "30/30 [==============================] - 2s 46ms/step - loss: 14.7406 - mae: 15.1465 - lr: 3.1623\n",
      "Epoch 72/100\n",
      "30/30 [==============================] - 2s 46ms/step - loss: 11.8527 - mae: 12.3356 - lr: 3.5481\n",
      "Epoch 73/100\n",
      "30/30 [==============================] - 2s 46ms/step - loss: 29.8843 - mae: 30.3843 - lr: 3.9811\n",
      "Epoch 74/100\n",
      "30/30 [==============================] - 2s 47ms/step - loss: 37.3885 - mae: 37.8867 - lr: 4.4668\n",
      "Epoch 75/100\n",
      "30/30 [==============================] - 2s 50ms/step - loss: 36.9958 - mae: 37.4840 - lr: 5.0119\n",
      "Epoch 76/100\n",
      "30/30 [==============================] - 2s 51ms/step - loss: 32.7778 - mae: 33.2778 - lr: 5.6234\n",
      "Epoch 77/100\n",
      "30/30 [==============================] - 2s 45ms/step - loss: 47.2745 - mae: 47.7618 - lr: 6.3096\n",
      "Epoch 78/100\n",
      "30/30 [==============================] - 2s 50ms/step - loss: 30.7142 - mae: 31.2017 - lr: 7.0795\n",
      "Epoch 79/100\n",
      "30/30 [==============================] - 2s 48ms/step - loss: 57.1577 - mae: 57.6577 - lr: 7.9433\n",
      "Epoch 80/100\n",
      "30/30 [==============================] - 2s 48ms/step - loss: 67.8767 - mae: 68.3767 - lr: 8.9125\n",
      "Epoch 81/100\n",
      "30/30 [==============================] - 2s 48ms/step - loss: 49.6577 - mae: 50.1567 - lr: 10.0000\n",
      "Epoch 82/100\n",
      "30/30 [==============================] - 2s 46ms/step - loss: 106.1185 - mae: 106.6185 - lr: 11.2202\n",
      "Epoch 83/100\n",
      "30/30 [==============================] - 2s 47ms/step - loss: 59.2366 - mae: 59.7366 - lr: 12.5893\n",
      "Epoch 84/100\n",
      "30/30 [==============================] - 2s 48ms/step - loss: 62.4882 - mae: 62.9882 - lr: 14.1254\n",
      "Epoch 85/100\n",
      "30/30 [==============================] - 2s 46ms/step - loss: 24.3092 - mae: 24.8092 - lr: 15.8489\n",
      "Epoch 86/100\n",
      "30/30 [==============================] - 2s 50ms/step - loss: 27.6932 - mae: 28.1779 - lr: 17.7828\n",
      "Epoch 87/100\n",
      "30/30 [==============================] - 2s 48ms/step - loss: 31.4950 - mae: 31.9950 - lr: 19.9526\n",
      "Epoch 88/100\n",
      "30/30 [==============================] - 2s 46ms/step - loss: 110.7317 - mae: 111.2317 - lr: 22.3872\n",
      "Epoch 89/100\n",
      "30/30 [==============================] - 2s 49ms/step - loss: 118.6258 - mae: 119.1258 - lr: 25.1189\n",
      "Epoch 90/100\n",
      "30/30 [==============================] - 2s 47ms/step - loss: 78.1091 - mae: 78.6086 - lr: 28.1838\n",
      "Epoch 91/100\n",
      "30/30 [==============================] - 2s 54ms/step - loss: 165.9020 - mae: 166.4020 - lr: 31.6228\n",
      "Epoch 92/100\n",
      "30/30 [==============================] - 2s 47ms/step - loss: 149.5357 - mae: 150.0357 - lr: 35.4813\n",
      "Epoch 93/100\n",
      "30/30 [==============================] - 2s 49ms/step - loss: 233.8160 - mae: 234.3160 - lr: 39.8107\n",
      "Epoch 94/100\n",
      "30/30 [==============================] - 2s 46ms/step - loss: 407.2925 - mae: 407.7925 - lr: 44.6684\n",
      "Epoch 95/100\n",
      "30/30 [==============================] - 2s 48ms/step - loss: 271.7345 - mae: 272.2345 - lr: 50.1187\n",
      "Epoch 96/100\n",
      "30/30 [==============================] - 2s 47ms/step - loss: 442.9197 - mae: 443.4197 - lr: 56.2341\n",
      "Epoch 97/100\n",
      "30/30 [==============================] - 2s 53ms/step - loss: 194.2123 - mae: 194.7123 - lr: 63.0957\n",
      "Epoch 98/100\n",
      "30/30 [==============================] - 2s 46ms/step - loss: 222.1927 - mae: 222.6927 - lr: 70.7946\n",
      "Epoch 99/100\n",
      "30/30 [==============================] - 2s 47ms/step - loss: 572.5883 - mae: 573.0883 - lr: 79.4328\n",
      "Epoch 100/100\n",
      "30/30 [==============================] - 2s 50ms/step - loss: 587.9487 - mae: 588.4487 - lr: 89.1251\n"
     ]
    },
    {
     "data": {
      "text/plain": [
       "<keras.callbacks.History at 0x18926f355b0>"
      ]
     },
     "execution_count": 209,
     "metadata": {},
     "output_type": "execute_result"
    }
   ],
   "source": [
    "#tf.keras.backend.clear_session()\n",
    "\n",
    "## set up the learning rate parameter\n",
    "lr_schedule = tf.keras.callbacks.LearningRateScheduler(lambda epoch : 1e-3 * 10 ** (epoch/20))\n",
    "\n",
    "# compile the model\n",
    "model_2.compile(optimizer=tf.keras.optimizers.SGD(momentum=0.9),\n",
    "             loss=tf.keras.losses.Huber(),\n",
    "             metrics = ['mae'])\n",
    "\n",
    "# fit the model\n",
    "model_2.fit(train_dataset, epochs=100, callbacks=[lr_schedule])"
   ]
  },
  {
   "cell_type": "code",
   "execution_count": 210,
   "id": "23029eaa",
   "metadata": {},
   "outputs": [
    {
     "data": {
      "text/html": [
       "<div>\n",
       "<style scoped>\n",
       "    .dataframe tbody tr th:only-of-type {\n",
       "        vertical-align: middle;\n",
       "    }\n",
       "\n",
       "    .dataframe tbody tr th {\n",
       "        vertical-align: top;\n",
       "    }\n",
       "\n",
       "    .dataframe thead th {\n",
       "        text-align: right;\n",
       "    }\n",
       "</style>\n",
       "<table border=\"1\" class=\"dataframe\">\n",
       "  <thead>\n",
       "    <tr style=\"text-align: right;\">\n",
       "      <th></th>\n",
       "      <th>loss</th>\n",
       "      <th>mae</th>\n",
       "      <th>lr</th>\n",
       "    </tr>\n",
       "  </thead>\n",
       "  <tbody>\n",
       "    <tr>\n",
       "      <th>0</th>\n",
       "      <td>0.006654</td>\n",
       "      <td>0.092044</td>\n",
       "      <td>0.001000</td>\n",
       "    </tr>\n",
       "    <tr>\n",
       "      <th>1</th>\n",
       "      <td>0.002731</td>\n",
       "      <td>0.056542</td>\n",
       "      <td>0.001122</td>\n",
       "    </tr>\n",
       "    <tr>\n",
       "      <th>2</th>\n",
       "      <td>0.002614</td>\n",
       "      <td>0.056045</td>\n",
       "      <td>0.001259</td>\n",
       "    </tr>\n",
       "    <tr>\n",
       "      <th>3</th>\n",
       "      <td>0.002585</td>\n",
       "      <td>0.055231</td>\n",
       "      <td>0.001413</td>\n",
       "    </tr>\n",
       "    <tr>\n",
       "      <th>4</th>\n",
       "      <td>0.002557</td>\n",
       "      <td>0.054975</td>\n",
       "      <td>0.001585</td>\n",
       "    </tr>\n",
       "    <tr>\n",
       "      <th>...</th>\n",
       "      <td>...</td>\n",
       "      <td>...</td>\n",
       "      <td>...</td>\n",
       "    </tr>\n",
       "    <tr>\n",
       "      <th>95</th>\n",
       "      <td>442.919739</td>\n",
       "      <td>443.419739</td>\n",
       "      <td>56.234131</td>\n",
       "    </tr>\n",
       "    <tr>\n",
       "      <th>96</th>\n",
       "      <td>194.212341</td>\n",
       "      <td>194.712326</td>\n",
       "      <td>63.095734</td>\n",
       "    </tr>\n",
       "    <tr>\n",
       "      <th>97</th>\n",
       "      <td>222.192657</td>\n",
       "      <td>222.692657</td>\n",
       "      <td>70.794579</td>\n",
       "    </tr>\n",
       "    <tr>\n",
       "      <th>98</th>\n",
       "      <td>572.588318</td>\n",
       "      <td>573.088318</td>\n",
       "      <td>79.432823</td>\n",
       "    </tr>\n",
       "    <tr>\n",
       "      <th>99</th>\n",
       "      <td>587.948730</td>\n",
       "      <td>588.448730</td>\n",
       "      <td>89.125092</td>\n",
       "    </tr>\n",
       "  </tbody>\n",
       "</table>\n",
       "<p>100 rows × 3 columns</p>\n",
       "</div>"
      ],
      "text/plain": [
       "          loss         mae         lr\n",
       "0     0.006654    0.092044   0.001000\n",
       "1     0.002731    0.056542   0.001122\n",
       "2     0.002614    0.056045   0.001259\n",
       "3     0.002585    0.055231   0.001413\n",
       "4     0.002557    0.054975   0.001585\n",
       "..         ...         ...        ...\n",
       "95  442.919739  443.419739  56.234131\n",
       "96  194.212341  194.712326  63.095734\n",
       "97  222.192657  222.692657  70.794579\n",
       "98  572.588318  573.088318  79.432823\n",
       "99  587.948730  588.448730  89.125092\n",
       "\n",
       "[100 rows x 3 columns]"
      ]
     },
     "execution_count": 210,
     "metadata": {},
     "output_type": "execute_result"
    }
   ],
   "source": [
    "metrics = pd.DataFrame(model_2.history.history)\n",
    "metrics"
   ]
  },
  {
   "cell_type": "code",
   "execution_count": 211,
   "id": "cc39bee8",
   "metadata": {},
   "outputs": [
    {
     "data": {
      "image/png": "[encoded data removed]",
      "text/plain": [
       "<Figure size 576x432 with 1 Axes>"
      ]
     },
     "metadata": {
      "needs_background": "light"
     },
     "output_type": "display_data"
    }
   ],
   "source": [
    "plt.figure(figsize=(8,6))\n",
    "plt.semilogx(metrics['lr'], metrics['loss'])\n",
    "plt.grid(True)\n",
    "plt.show()"
   ]
  },
  {
   "cell_type": "code",
   "execution_count": 1,
   "id": "ae9e0488",
   "metadata": {},
   "outputs": [
    {
     "ename": "NameError",
     "evalue": "name 'plt' is not defined",
     "output_type": "error",
     "traceback": [
      "\u001b[1;31m---------------------------------------------------------------------------\u001b[0m",
      "\u001b[1;31mNameError\u001b[0m                                 Traceback (most recent call last)",
      "Input \u001b[1;32mIn [1]\u001b[0m, in \u001b[0;36m<cell line: 1>\u001b[1;34m()\u001b[0m\n\u001b[1;32m----> 1\u001b[0m \u001b[43mplt\u001b[49m\u001b[38;5;241m.\u001b[39mfigure(figsize\u001b[38;5;241m=\u001b[39m(\u001b[38;5;241m8\u001b[39m,\u001b[38;5;241m6\u001b[39m))\n\u001b[0;32m      2\u001b[0m plt\u001b[38;5;241m.\u001b[39msemilogx(metrics[\u001b[38;5;124m'\u001b[39m\u001b[38;5;124mlr\u001b[39m\u001b[38;5;124m'\u001b[39m], metrics[\u001b[38;5;124m'\u001b[39m\u001b[38;5;124mloss\u001b[39m\u001b[38;5;124m'\u001b[39m])\n\u001b[0;32m      3\u001b[0m plt\u001b[38;5;241m.\u001b[39mgrid(\u001b[38;5;28;01mTrue\u001b[39;00m)\n",
      "\u001b[1;31mNameError\u001b[0m: name 'plt' is not defined"
     ]
    }
   ],
   "source": [
    "plt.figure(figsize=(8,6))\n",
    "plt.semilogx(metrics['lr'], metrics['loss'])\n",
    "plt.grid(True)\n",
    "plt.axis([1e-2, 1, 0, 0.002])\n",
    "plt.show()"
   ]
  },
  {
   "cell_type": "code",
   "execution_count": 218,
   "id": "3a3b926a",
   "metadata": {
    "scrolled": true
   },
   "outputs": [
    {
     "name": "stdout",
     "output_type": "stream",
     "text": [
      "Epoch 1/100\n",
      "30/30 [==============================] - 7s 45ms/step - loss: 0.0036 - mae: 0.0668\n",
      "Epoch 2/100\n",
      "30/30 [==============================] - 2s 49ms/step - loss: 0.0022 - mae: 0.0507\n",
      "Epoch 3/100\n",
      "30/30 [==============================] - 1s 45ms/step - loss: 0.0017 - mae: 0.0444\n",
      "Epoch 4/100\n",
      "30/30 [==============================] - 2s 50ms/step - loss: 0.0011 - mae: 0.0364\n",
      "Epoch 5/100\n",
      "30/30 [==============================] - 2s 49ms/step - loss: 6.2865e-04 - mae: 0.0273\n",
      "Epoch 6/100\n",
      "30/30 [==============================] - 2s 50ms/step - loss: 3.2189e-04 - mae: 0.0196\n",
      "Epoch 7/100\n",
      "30/30 [==============================] - 2s 50ms/step - loss: 2.1000e-04 - mae: 0.0154\n",
      "Epoch 8/100\n",
      "30/30 [==============================] - 1s 45ms/step - loss: 1.6073e-04 - mae: 0.0131\n",
      "Epoch 9/100\n",
      "30/30 [==============================] - 2s 45ms/step - loss: 1.5246e-04 - mae: 0.0128\n",
      "Epoch 10/100\n",
      "30/30 [==============================] - 2s 47ms/step - loss: 1.4765e-04 - mae: 0.0128\n",
      "Epoch 11/100\n",
      "30/30 [==============================] - 2s 46ms/step - loss: 1.3634e-04 - mae: 0.0123\n",
      "Epoch 12/100\n",
      "30/30 [==============================] - 1s 45ms/step - loss: 1.3333e-04 - mae: 0.0122\n",
      "Epoch 13/100\n",
      "30/30 [==============================] - 1s 46ms/step - loss: 1.3064e-04 - mae: 0.0121\n",
      "Epoch 14/100\n",
      "30/30 [==============================] - 1s 45ms/step - loss: 1.3336e-04 - mae: 0.0124\n",
      "Epoch 15/100\n",
      "30/30 [==============================] - 2s 48ms/step - loss: 1.3461e-04 - mae: 0.0124\n",
      "Epoch 16/100\n",
      "30/30 [==============================] - 2s 47ms/step - loss: 1.2992e-04 - mae: 0.0122\n",
      "Epoch 17/100\n",
      "30/30 [==============================] - 2s 49ms/step - loss: 1.2841e-04 - mae: 0.0122\n",
      "Epoch 18/100\n",
      "30/30 [==============================] - 2s 48ms/step - loss: 1.2832e-04 - mae: 0.0122\n",
      "Epoch 19/100\n",
      "30/30 [==============================] - 2s 46ms/step - loss: 1.2522e-04 - mae: 0.0120\n",
      "Epoch 20/100\n",
      "30/30 [==============================] - 2s 47ms/step - loss: 1.3211e-04 - mae: 0.0123\n",
      "Epoch 21/100\n",
      "30/30 [==============================] - 2s 47ms/step - loss: 1.3073e-04 - mae: 0.0124\n",
      "Epoch 22/100\n",
      "30/30 [==============================] - 2s 47ms/step - loss: 1.3032e-04 - mae: 0.0125\n",
      "Epoch 23/100\n",
      "30/30 [==============================] - 2s 48ms/step - loss: 1.2574e-04 - mae: 0.0121\n",
      "Epoch 24/100\n",
      "30/30 [==============================] - 2s 47ms/step - loss: 1.2307e-04 - mae: 0.0120\n",
      "Epoch 25/100\n",
      "30/30 [==============================] - 2s 49ms/step - loss: 1.3565e-04 - mae: 0.0127\n",
      "Epoch 26/100\n",
      "30/30 [==============================] - 2s 48ms/step - loss: 1.2869e-04 - mae: 0.0124\n",
      "Epoch 27/100\n",
      "30/30 [==============================] - 2s 47ms/step - loss: 1.2298e-04 - mae: 0.0119\n",
      "Epoch 28/100\n",
      "30/30 [==============================] - 2s 46ms/step - loss: 1.2629e-04 - mae: 0.0122\n",
      "Epoch 29/100\n",
      "30/30 [==============================] - 2s 49ms/step - loss: 1.2565e-04 - mae: 0.0121\n",
      "Epoch 30/100\n",
      "30/30 [==============================] - 2s 48ms/step - loss: 1.2430e-04 - mae: 0.0121\n",
      "Epoch 31/100\n",
      "30/30 [==============================] - 1s 45ms/step - loss: 1.2453e-04 - mae: 0.0122\n",
      "Epoch 32/100\n",
      "30/30 [==============================] - 2s 46ms/step - loss: 1.2197e-04 - mae: 0.0119\n",
      "Epoch 33/100\n",
      "30/30 [==============================] - 2s 48ms/step - loss: 1.3055e-04 - mae: 0.0125\n",
      "Epoch 34/100\n",
      "30/30 [==============================] - 1s 46ms/step - loss: 1.2963e-04 - mae: 0.0123\n",
      "Epoch 35/100\n",
      "30/30 [==============================] - 1s 45ms/step - loss: 1.2434e-04 - mae: 0.0122\n",
      "Epoch 36/100\n",
      "30/30 [==============================] - 2s 47ms/step - loss: 1.2266e-04 - mae: 0.0120\n",
      "Epoch 37/100\n",
      "30/30 [==============================] - 2s 48ms/step - loss: 1.2766e-04 - mae: 0.0123\n",
      "Epoch 38/100\n",
      "30/30 [==============================] - 2s 48ms/step - loss: 1.1868e-04 - mae: 0.0118\n",
      "Epoch 39/100\n",
      "30/30 [==============================] - 1s 44ms/step - loss: 1.2043e-04 - mae: 0.0118\n",
      "Epoch 40/100\n",
      "30/30 [==============================] - 2s 46ms/step - loss: 1.2169e-04 - mae: 0.0119\n",
      "Epoch 41/100\n",
      "30/30 [==============================] - 2s 47ms/step - loss: 1.2437e-04 - mae: 0.0123\n",
      "Epoch 42/100\n",
      "30/30 [==============================] - 2s 48ms/step - loss: 1.2268e-04 - mae: 0.0121\n",
      "Epoch 43/100\n",
      "30/30 [==============================] - 2s 49ms/step - loss: 1.2645e-04 - mae: 0.0123\n",
      "Epoch 44/100\n",
      "30/30 [==============================] - 2s 47ms/step - loss: 1.1872e-04 - mae: 0.0117\n",
      "Epoch 45/100\n",
      "30/30 [==============================] - 2s 47ms/step - loss: 1.1918e-04 - mae: 0.0118\n",
      "Epoch 46/100\n",
      "30/30 [==============================] - 2s 47ms/step - loss: 1.2566e-04 - mae: 0.0122\n",
      "Epoch 47/100\n",
      "30/30 [==============================] - 2s 46ms/step - loss: 1.2349e-04 - mae: 0.0120\n",
      "Epoch 48/100\n",
      "30/30 [==============================] - 2s 48ms/step - loss: 1.2105e-04 - mae: 0.0120\n",
      "Epoch 49/100\n",
      "30/30 [==============================] - 2s 48ms/step - loss: 1.2419e-04 - mae: 0.0121\n",
      "Epoch 50/100\n",
      "30/30 [==============================] - 2s 49ms/step - loss: 1.2067e-04 - mae: 0.0119\n",
      "Epoch 51/100\n",
      "30/30 [==============================] - 2s 48ms/step - loss: 1.1602e-04 - mae: 0.0116\n",
      "Epoch 52/100\n",
      "30/30 [==============================] - 2s 47ms/step - loss: 1.1660e-04 - mae: 0.0118\n",
      "Epoch 53/100\n",
      "30/30 [==============================] - 1s 46ms/step - loss: 1.1473e-04 - mae: 0.0116\n",
      "Epoch 54/100\n",
      "30/30 [==============================] - 2s 47ms/step - loss: 1.1843e-04 - mae: 0.0118\n",
      "Epoch 55/100\n",
      "30/30 [==============================] - 2s 48ms/step - loss: 1.1563e-04 - mae: 0.0117\n",
      "Epoch 56/100\n",
      "30/30 [==============================] - 2s 46ms/step - loss: 1.2546e-04 - mae: 0.0123\n",
      "Epoch 57/100\n",
      "30/30 [==============================] - 2s 47ms/step - loss: 1.2086e-04 - mae: 0.0120\n",
      "Epoch 58/100\n",
      "30/30 [==============================] - 1s 44ms/step - loss: 1.1640e-04 - mae: 0.0117\n",
      "Epoch 59/100\n",
      "30/30 [==============================] - 2s 46ms/step - loss: 1.1849e-04 - mae: 0.0120\n",
      "Epoch 60/100\n",
      "30/30 [==============================] - 2s 48ms/step - loss: 1.1609e-04 - mae: 0.0117\n",
      "Epoch 61/100\n",
      "30/30 [==============================] - 2s 49ms/step - loss: 1.1294e-04 - mae: 0.0115\n",
      "Epoch 62/100\n",
      "30/30 [==============================] - 2s 46ms/step - loss: 1.1331e-04 - mae: 0.0115\n",
      "Epoch 63/100\n",
      "30/30 [==============================] - 1s 45ms/step - loss: 1.1534e-04 - mae: 0.0116\n",
      "Epoch 64/100\n",
      "30/30 [==============================] - 2s 51ms/step - loss: 1.1462e-04 - mae: 0.0116\n",
      "Epoch 65/100\n",
      "30/30 [==============================] - 1s 45ms/step - loss: 1.2601e-04 - mae: 0.0122\n",
      "Epoch 66/100\n",
      "30/30 [==============================] - 2s 46ms/step - loss: 1.1379e-04 - mae: 0.0115\n",
      "Epoch 67/100\n",
      "30/30 [==============================] - 2s 46ms/step - loss: 1.1397e-04 - mae: 0.0116\n",
      "Epoch 68/100\n",
      "30/30 [==============================] - 2s 47ms/step - loss: 1.1252e-04 - mae: 0.0115\n",
      "Epoch 69/100\n",
      "30/30 [==============================] - 1s 45ms/step - loss: 1.1461e-04 - mae: 0.0116\n",
      "Epoch 70/100\n",
      "30/30 [==============================] - 2s 46ms/step - loss: 1.1346e-04 - mae: 0.0115\n",
      "Epoch 71/100\n",
      "30/30 [==============================] - 2s 47ms/step - loss: 1.1372e-04 - mae: 0.0116\n",
      "Epoch 72/100\n",
      "30/30 [==============================] - 2s 46ms/step - loss: 1.1370e-04 - mae: 0.0115\n",
      "Epoch 73/100\n",
      "30/30 [==============================] - 2s 47ms/step - loss: 1.1551e-04 - mae: 0.0116\n",
      "Epoch 74/100\n",
      "30/30 [==============================] - 2s 47ms/step - loss: 1.1143e-04 - mae: 0.0115\n",
      "Epoch 75/100\n",
      "30/30 [==============================] - 2s 47ms/step - loss: 1.1137e-04 - mae: 0.0114\n",
      "Epoch 76/100\n",
      "30/30 [==============================] - 1s 43ms/step - loss: 1.1052e-04 - mae: 0.0113\n",
      "Epoch 77/100\n",
      "30/30 [==============================] - 2s 47ms/step - loss: 1.1099e-04 - mae: 0.0113\n",
      "Epoch 78/100\n",
      "30/30 [==============================] - 2s 47ms/step - loss: 1.1488e-04 - mae: 0.0117\n",
      "Epoch 79/100\n",
      "30/30 [==============================] - 1s 44ms/step - loss: 1.1093e-04 - mae: 0.0115\n",
      "Epoch 80/100\n",
      "30/30 [==============================] - 2s 47ms/step - loss: 1.1232e-04 - mae: 0.0116\n",
      "Epoch 81/100\n",
      "30/30 [==============================] - 2s 47ms/step - loss: 1.1167e-04 - mae: 0.0114\n",
      "Epoch 82/100\n",
      "30/30 [==============================] - 2s 48ms/step - loss: 1.2127e-04 - mae: 0.0120\n",
      "Epoch 83/100\n",
      "30/30 [==============================] - 2s 46ms/step - loss: 1.0888e-04 - mae: 0.0113\n",
      "Epoch 84/100\n",
      "30/30 [==============================] - 2s 48ms/step - loss: 1.1159e-04 - mae: 0.0116\n",
      "Epoch 85/100\n",
      "30/30 [==============================] - 2s 46ms/step - loss: 1.0782e-04 - mae: 0.0112\n",
      "Epoch 86/100\n",
      "30/30 [==============================] - 2s 48ms/step - loss: 1.1333e-04 - mae: 0.0116\n",
      "Epoch 87/100\n",
      "30/30 [==============================] - 2s 46ms/step - loss: 1.1015e-04 - mae: 0.0114\n",
      "Epoch 88/100\n",
      "30/30 [==============================] - 2s 47ms/step - loss: 1.1288e-04 - mae: 0.0114\n",
      "Epoch 89/100\n",
      "30/30 [==============================] - 2s 47ms/step - loss: 1.0966e-04 - mae: 0.0114\n",
      "Epoch 90/100\n",
      "30/30 [==============================] - 2s 46ms/step - loss: 1.1278e-04 - mae: 0.0115\n",
      "Epoch 91/100\n",
      "30/30 [==============================] - 1s 46ms/step - loss: 1.0828e-04 - mae: 0.0112\n",
      "Epoch 92/100\n",
      "30/30 [==============================] - 2s 46ms/step - loss: 1.1118e-04 - mae: 0.0114\n",
      "Epoch 93/100\n",
      "30/30 [==============================] - 2s 49ms/step - loss: 1.1466e-04 - mae: 0.0116\n",
      "Epoch 94/100\n",
      "30/30 [==============================] - 2s 48ms/step - loss: 1.1027e-04 - mae: 0.0114\n",
      "Epoch 95/100\n",
      "30/30 [==============================] - 2s 51ms/step - loss: 1.0781e-04 - mae: 0.0113\n",
      "Epoch 96/100\n",
      "30/30 [==============================] - 1s 44ms/step - loss: 1.1108e-04 - mae: 0.0115\n",
      "Epoch 97/100\n",
      "30/30 [==============================] - 1s 45ms/step - loss: 1.1125e-04 - mae: 0.0114\n",
      "Epoch 98/100\n",
      "30/30 [==============================] - 2s 49ms/step - loss: 1.1244e-04 - mae: 0.0116\n",
      "Epoch 99/100\n",
      "30/30 [==============================] - 2s 49ms/step - loss: 1.1326e-04 - mae: 0.0116\n",
      "Epoch 100/100\n",
      "30/30 [==============================] - 1s 44ms/step - loss: 1.1065e-04 - mae: 0.0115\n"
     ]
    },
    {
     "data": {
      "text/plain": [
       "<keras.callbacks.History at 0x1892f7c27f0>"
      ]
     },
     "execution_count": 218,
     "metadata": {},
     "output_type": "execute_result"
    }
   ],
   "source": [
    "# clear session\n",
    "model_2.set_weights(init_weights)\n",
    "tf.keras.backend.clear_session()\n",
    "\n",
    "## set up the learning rate parameter\n",
    "\n",
    "#lr_schedule = tf.keras.callbacks.LearningRateScheduler(lambda epoch : 1e-2 * 10 ** (epoch/20))\n",
    "# set leraning rate\n",
    "learning_rate = 3e-2\n",
    "\n",
    "# compile the model\n",
    "model_2.compile(optimizer=tf.keras.optimizers.SGD(learning_rate=learning_rate, momentum=0.9),\n",
    "             loss=tf.keras.losses.Huber(),\n",
    "             metrics = ['mae'])\n",
    "\n",
    "# fit the model\n",
    "model_2.fit(train_dataset, epochs=100)"
   ]
  },
  {
   "cell_type": "code",
   "execution_count": 219,
   "id": "e7388ace",
   "metadata": {},
   "outputs": [
    {
     "data": {
      "text/html": [
       "<div>\n",
       "<style scoped>\n",
       "    .dataframe tbody tr th:only-of-type {\n",
       "        vertical-align: middle;\n",
       "    }\n",
       "\n",
       "    .dataframe tbody tr th {\n",
       "        vertical-align: top;\n",
       "    }\n",
       "\n",
       "    .dataframe thead th {\n",
       "        text-align: right;\n",
       "    }\n",
       "</style>\n",
       "<table border=\"1\" class=\"dataframe\">\n",
       "  <thead>\n",
       "    <tr style=\"text-align: right;\">\n",
       "      <th></th>\n",
       "      <th>loss</th>\n",
       "      <th>mae</th>\n",
       "    </tr>\n",
       "  </thead>\n",
       "  <tbody>\n",
       "    <tr>\n",
       "      <th>0</th>\n",
       "      <td>0.003568</td>\n",
       "      <td>0.066828</td>\n",
       "    </tr>\n",
       "    <tr>\n",
       "      <th>1</th>\n",
       "      <td>0.002177</td>\n",
       "      <td>0.050689</td>\n",
       "    </tr>\n",
       "    <tr>\n",
       "      <th>2</th>\n",
       "      <td>0.001655</td>\n",
       "      <td>0.044419</td>\n",
       "    </tr>\n",
       "    <tr>\n",
       "      <th>3</th>\n",
       "      <td>0.001123</td>\n",
       "      <td>0.036439</td>\n",
       "    </tr>\n",
       "    <tr>\n",
       "      <th>4</th>\n",
       "      <td>0.000629</td>\n",
       "      <td>0.027272</td>\n",
       "    </tr>\n",
       "    <tr>\n",
       "      <th>...</th>\n",
       "      <td>...</td>\n",
       "      <td>...</td>\n",
       "    </tr>\n",
       "    <tr>\n",
       "      <th>95</th>\n",
       "      <td>0.000111</td>\n",
       "      <td>0.011534</td>\n",
       "    </tr>\n",
       "    <tr>\n",
       "      <th>96</th>\n",
       "      <td>0.000111</td>\n",
       "      <td>0.011376</td>\n",
       "    </tr>\n",
       "    <tr>\n",
       "      <th>97</th>\n",
       "      <td>0.000112</td>\n",
       "      <td>0.011621</td>\n",
       "    </tr>\n",
       "    <tr>\n",
       "      <th>98</th>\n",
       "      <td>0.000113</td>\n",
       "      <td>0.011619</td>\n",
       "    </tr>\n",
       "    <tr>\n",
       "      <th>99</th>\n",
       "      <td>0.000111</td>\n",
       "      <td>0.011455</td>\n",
       "    </tr>\n",
       "  </tbody>\n",
       "</table>\n",
       "<p>100 rows × 2 columns</p>\n",
       "</div>"
      ],
      "text/plain": [
       "        loss       mae\n",
       "0   0.003568  0.066828\n",
       "1   0.002177  0.050689\n",
       "2   0.001655  0.044419\n",
       "3   0.001123  0.036439\n",
       "4   0.000629  0.027272\n",
       "..       ...       ...\n",
       "95  0.000111  0.011534\n",
       "96  0.000111  0.011376\n",
       "97  0.000112  0.011621\n",
       "98  0.000113  0.011619\n",
       "99  0.000111  0.011455\n",
       "\n",
       "[100 rows x 2 columns]"
      ]
     },
     "execution_count": 219,
     "metadata": {},
     "output_type": "execute_result"
    }
   ],
   "source": [
    "history = pd.DataFrame(model_2.history.history)\n",
    "history"
   ]
  },
  {
   "cell_type": "code",
   "execution_count": 220,
   "id": "12bb2819",
   "metadata": {},
   "outputs": [],
   "source": [
    "# plot loss and accuracy values \n",
    "def plot_metrics(df, num_epochs):\n",
    "\t\n",
    "\tepoch_range = range(num_epochs)\n",
    "\tplt.figure(figsize=(8,6))\n",
    "\tplt.plot(epoch_range, df['loss'], label = 'training_loss')\n",
    "\tplt.plot(epoch_range, df['mae'], label = 'mae')\n",
    "# \tplt.plot(epoch_range, df['accuracy'], label = 'training_accuracy')\n",
    "# \tplt.plot(epoch_range, df['val_accuracy'], label = 'validation_accuracy')\n",
    "\tplt.legend(loc='best')\n",
    "\tplt.show()"
   ]
  },
  {
   "cell_type": "code",
   "execution_count": 221,
   "id": "bd1073fa",
   "metadata": {},
   "outputs": [
    {
     "data": {
      "image/png": "[encoded data removed]",
      "text/plain": [
       "<Figure size 576x432 with 1 Axes>"
      ]
     },
     "metadata": {
      "needs_background": "light"
     },
     "output_type": "display_data"
    }
   ],
   "source": [
    "plot_metrics(history, 100)"
   ]
  },
  {
   "cell_type": "markdown",
   "id": "3b8009f7",
   "metadata": {},
   "source": [
    "### prepare validation data and predict"
   ]
  },
  {
   "cell_type": "code",
   "execution_count": 223,
   "id": "9a6f81af",
   "metadata": {},
   "outputs": [],
   "source": [
    "# function to generate validation data and predict on it \n",
    "def prediction(model, series, batch_size, window_size):\n",
    "    \n",
    "    datasets = tf.data.Dataset.from_tensor_slices(series)\n",
    "    datasets = datasets.window(size=window_size, shift = 1, drop_remainder=True)\n",
    "    datasets = datasets.flat_map(lambda window: window.batch(window_size))\n",
    "    datasets = datasets.batch(batch_size=batch_size).prefetch(1)\n",
    "    \n",
    "    prediction = model.predict(datasets)\n",
    "    return prediction"
   ]
  },
  {
   "cell_type": "code",
   "execution_count": 236,
   "id": "c2e10a83",
   "metadata": {},
   "outputs": [
    {
     "name": "stdout",
     "output_type": "stream",
     "text": [
      "16/16 [==============================] - 0s 21ms/step\n",
      "(500,)\n"
     ]
    }
   ],
   "source": [
    "## generate forecast data\n",
    "\n",
    "forecast_data = input_data[split_time-window_size:-1]\n",
    "predictions = prediction(model_2, forecast_data, batch_size, window_size)\n",
    "\n",
    "results = predictions.squeeze()\n",
    "print(results.shape)"
   ]
  },
  {
   "cell_type": "code",
   "execution_count": 243,
   "id": "b05a722d",
   "metadata": {},
   "outputs": [
    {
     "data": {
      "text/plain": [
       "(500,)"
      ]
     },
     "execution_count": 243,
     "metadata": {},
     "output_type": "execute_result"
    }
   ],
   "source": [
    "# get true results\n",
    "# these are the average price values that are in the 2nd column of every data item\n",
    "\n",
    "true_values = valid_series[:, 1]\n",
    "true_values.shape"
   ]
  },
  {
   "cell_type": "markdown",
   "id": "71e97fa9",
   "metadata": {},
   "source": [
    "## Evaluation metrics"
   ]
  },
  {
   "cell_type": "code",
   "execution_count": 244,
   "id": "d0ad0539",
   "metadata": {},
   "outputs": [
    {
     "name": "stdout",
     "output_type": "stream",
     "text": [
      "Mean Squared error :0.006710787769407034\n",
      "Mean Absolute error :0.06727644801139832\n"
     ]
    }
   ],
   "source": [
    "print('Mean Squared error :{}'.format(tf.metrics.mean_squared_error(true_values, results)))\n",
    "print('Mean Absolute error :{}'.format(tf.metrics.mean_absolute_error(true_values, results)))"
   ]
  },
  {
   "cell_type": "code",
   "execution_count": 245,
   "id": "16180cf7",
   "metadata": {},
   "outputs": [],
   "source": [
    "def plot_series(time, series, format=\"-\", start=0, end=None):\n",
    "    \"\"\"\n",
    "    Visualizes time series data\n",
    "\n",
    "    Args:\n",
    "      time (array of int) - contains the time steps\n",
    "      series (array of int) - contains the measurements for each time step\n",
    "      format - line style when plotting the graph\n",
    "      start - first time step to plot\n",
    "      end - last time step to plot\n",
    "    \"\"\"\n",
    "\n",
    "    # Setup dimensions of the graph figure\n",
    "    plt.figure(figsize=(10, 6))\n",
    "    \n",
    "    if type(series) is tuple:\n",
    "\n",
    "      for series_num in series:\n",
    "        # Plot the time series data\n",
    "        plt.plot(time[start:end], series_num[start:end], format)\n",
    "\n",
    "    else:\n",
    "      # Plot the time series data\n",
    "      plt.plot(time[start:end], series[start:end], format)\n",
    "\n",
    "    # Label the x-axis\n",
    "    plt.xlabel(\"Time\")\n",
    "\n",
    "    # Label the y-axis\n",
    "    plt.ylabel(\"Value\")\n",
    "\n",
    "    # Overlay a grid on the graph\n",
    "    plt.grid(True)\n",
    "\n",
    "    # Draw the graph on screen\n",
    "    plt.show()"
   ]
  },
  {
   "cell_type": "code",
   "execution_count": 246,
   "id": "a6ce278f",
   "metadata": {},
   "outputs": [
    {
     "data": {
      "image/png": "[encoded data removed]",
      "text/plain": [
       "<Figure size 720x432 with 1 Axes>"
      ]
     },
     "metadata": {
      "needs_background": "light"
     },
     "output_type": "display_data"
    }
   ],
   "source": [
    "plot_series(valid_time, (true_values, results))"
   ]
  },
  {
   "cell_type": "code",
   "execution_count": 248,
   "id": "21d06d22",
   "metadata": {},
   "outputs": [
    {
     "data": {
      "image/png": "[encoded data removed]",
      "text/plain": [
       "<Figure size 720x432 with 1 Axes>"
      ]
     },
     "metadata": {
      "needs_background": "light"
     },
     "output_type": "display_data"
    }
   ],
   "source": [
    "plot_series(valid_time, valid_series)"
   ]
  },
  {
   "cell_type": "code",
   "execution_count": 250,
   "id": "dcdd2f1e",
   "metadata": {},
   "outputs": [
    {
     "data": {
      "text/plain": [
       "[<matplotlib.lines.Line2D at 0x18926e097c0>,\n",
       " <matplotlib.lines.Line2D at 0x18926dfc8b0>]"
      ]
     },
     "execution_count": 250,
     "metadata": {},
     "output_type": "execute_result"
    },
    {
     "data": {
      "image/png": "[encoded data removed]",
      "text/plain": [
       "<Figure size 720x576 with 1 Axes>"
      ]
     },
     "metadata": {
      "needs_background": "light"
     },
     "output_type": "display_data"
    }
   ],
   "source": [
    "plt.figure(figsize=(10, 8))\n",
    "plt.plot(input_data)"
   ]
  },
  {
   "cell_type": "markdown",
   "id": "ae383fd2",
   "metadata": {},
   "source": [
    "## using adam optimizer"
   ]
  },
  {
   "cell_type": "code",
   "execution_count": 251,
   "id": "8b155d7d",
   "metadata": {},
   "outputs": [
    {
     "name": "stdout",
     "output_type": "stream",
     "text": [
      "Epoch 1/100\n",
      "30/30 [==============================] - 6s 45ms/step - loss: 0.0026 - mae: 0.0493\n",
      "Epoch 2/100\n",
      "30/30 [==============================] - 2s 50ms/step - loss: 1.7765e-04 - mae: 0.0143\n",
      "Epoch 3/100\n",
      "30/30 [==============================] - 1s 43ms/step - loss: 1.1940e-04 - mae: 0.0118\n",
      "Epoch 4/100\n",
      "30/30 [==============================] - 1s 45ms/step - loss: 1.1842e-04 - mae: 0.0114\n",
      "Epoch 5/100\n",
      "30/30 [==============================] - 2s 49ms/step - loss: 1.0827e-04 - mae: 0.0111\n",
      "Epoch 6/100\n",
      "30/30 [==============================] - 2s 47ms/step - loss: 9.2231e-05 - mae: 0.0102\n",
      "Epoch 7/100\n",
      "30/30 [==============================] - 2s 46ms/step - loss: 1.0280e-04 - mae: 0.0108\n",
      "Epoch 8/100\n",
      "30/30 [==============================] - 2s 47ms/step - loss: 9.3921e-05 - mae: 0.0104\n",
      "Epoch 9/100\n",
      "30/30 [==============================] - 2s 46ms/step - loss: 8.1822e-05 - mae: 0.0095\n",
      "Epoch 10/100\n",
      "30/30 [==============================] - 2s 49ms/step - loss: 7.5950e-05 - mae: 0.0092\n",
      "Epoch 11/100\n",
      "30/30 [==============================] - 2s 47ms/step - loss: 7.4240e-05 - mae: 0.0090\n",
      "Epoch 12/100\n",
      "30/30 [==============================] - 2s 46ms/step - loss: 7.1718e-05 - mae: 0.0087\n",
      "Epoch 13/100\n",
      "30/30 [==============================] - 2s 49ms/step - loss: 8.4062e-05 - mae: 0.0095\n",
      "Epoch 14/100\n",
      "30/30 [==============================] - 2s 49ms/step - loss: 7.2522e-05 - mae: 0.0088\n",
      "Epoch 15/100\n",
      "30/30 [==============================] - 2s 49ms/step - loss: 7.5269e-05 - mae: 0.0092\n",
      "Epoch 16/100\n",
      "30/30 [==============================] - 2s 47ms/step - loss: 6.9389e-05 - mae: 0.0087\n",
      "Epoch 17/100\n",
      "30/30 [==============================] - 2s 46ms/step - loss: 7.2879e-05 - mae: 0.0090\n",
      "Epoch 18/100\n",
      "30/30 [==============================] - 1s 45ms/step - loss: 6.6688e-05 - mae: 0.0086\n",
      "Epoch 19/100\n",
      "30/30 [==============================] - 1s 43ms/step - loss: 6.5243e-05 - mae: 0.0083\n",
      "Epoch 20/100\n",
      "30/30 [==============================] - 1s 44ms/step - loss: 6.5827e-05 - mae: 0.0084\n",
      "Epoch 21/100\n",
      "30/30 [==============================] - 2s 48ms/step - loss: 6.0220e-05 - mae: 0.0080\n",
      "Epoch 22/100\n",
      "30/30 [==============================] - 2s 49ms/step - loss: 6.4227e-05 - mae: 0.0083\n",
      "Epoch 23/100\n",
      "30/30 [==============================] - 2s 49ms/step - loss: 6.0423e-05 - mae: 0.0080\n",
      "Epoch 24/100\n",
      "30/30 [==============================] - 2s 47ms/step - loss: 7.0000e-05 - mae: 0.0087\n",
      "Epoch 25/100\n",
      "30/30 [==============================] - 2s 46ms/step - loss: 7.1052e-05 - mae: 0.0086\n",
      "Epoch 26/100\n",
      "30/30 [==============================] - 2s 47ms/step - loss: 6.2228e-05 - mae: 0.0082\n",
      "Epoch 27/100\n",
      "30/30 [==============================] - 1s 44ms/step - loss: 6.2610e-05 - mae: 0.0082\n",
      "Epoch 28/100\n",
      "30/30 [==============================] - 2s 47ms/step - loss: 6.8232e-05 - mae: 0.0086\n",
      "Epoch 29/100\n",
      "30/30 [==============================] - 2s 48ms/step - loss: 5.8172e-05 - mae: 0.0079\n",
      "Epoch 30/100\n",
      "30/30 [==============================] - 2s 48ms/step - loss: 5.9898e-05 - mae: 0.0080\n",
      "Epoch 31/100\n",
      "30/30 [==============================] - 2s 48ms/step - loss: 6.7271e-05 - mae: 0.0086\n",
      "Epoch 32/100\n",
      "30/30 [==============================] - 2s 48ms/step - loss: 5.2844e-05 - mae: 0.0076\n",
      "Epoch 33/100\n",
      "30/30 [==============================] - 2s 51ms/step - loss: 5.1350e-05 - mae: 0.0072\n",
      "Epoch 34/100\n",
      "30/30 [==============================] - 2s 48ms/step - loss: 5.3619e-05 - mae: 0.0075\n",
      "Epoch 35/100\n",
      "30/30 [==============================] - 2s 47ms/step - loss: 6.1922e-05 - mae: 0.0083\n",
      "Epoch 36/100\n",
      "30/30 [==============================] - 2s 46ms/step - loss: 5.2927e-05 - mae: 0.0073\n",
      "Epoch 37/100\n",
      "30/30 [==============================] - 2s 47ms/step - loss: 5.5282e-05 - mae: 0.0076\n",
      "Epoch 38/100\n",
      "30/30 [==============================] - 1s 45ms/step - loss: 5.0560e-05 - mae: 0.0072\n",
      "Epoch 39/100\n",
      "30/30 [==============================] - 1s 44ms/step - loss: 6.5146e-05 - mae: 0.0085\n",
      "Epoch 40/100\n",
      "30/30 [==============================] - 2s 47ms/step - loss: 4.7877e-05 - mae: 0.0071\n",
      "Epoch 41/100\n",
      "30/30 [==============================] - 1s 43ms/step - loss: 5.2128e-05 - mae: 0.0073\n",
      "Epoch 42/100\n",
      "30/30 [==============================] - 2s 46ms/step - loss: 5.4753e-05 - mae: 0.0076\n",
      "Epoch 43/100\n",
      "30/30 [==============================] - 1s 44ms/step - loss: 4.6095e-05 - mae: 0.0070\n",
      "Epoch 44/100\n",
      "30/30 [==============================] - 2s 46ms/step - loss: 6.0297e-05 - mae: 0.0081\n",
      "Epoch 45/100\n",
      "30/30 [==============================] - 2s 45ms/step - loss: 5.8237e-05 - mae: 0.0079\n",
      "Epoch 46/100\n",
      "30/30 [==============================] - 2s 46ms/step - loss: 4.6652e-05 - mae: 0.0070\n",
      "Epoch 47/100\n",
      "30/30 [==============================] - 2s 48ms/step - loss: 4.9704e-05 - mae: 0.0072\n",
      "Epoch 48/100\n",
      "30/30 [==============================] - 2s 49ms/step - loss: 4.6504e-05 - mae: 0.0070\n",
      "Epoch 49/100\n",
      "30/30 [==============================] - 1s 44ms/step - loss: 4.9936e-05 - mae: 0.0074\n",
      "Epoch 50/100\n",
      "30/30 [==============================] - 2s 48ms/step - loss: 5.4281e-05 - mae: 0.0076\n",
      "Epoch 51/100\n",
      "30/30 [==============================] - 2s 48ms/step - loss: 4.2258e-05 - mae: 0.0066\n",
      "Epoch 52/100\n",
      "30/30 [==============================] - 1s 45ms/step - loss: 4.7432e-05 - mae: 0.0071\n",
      "Epoch 53/100\n",
      "30/30 [==============================] - 2s 49ms/step - loss: 4.5339e-05 - mae: 0.0068\n",
      "Epoch 54/100\n",
      "30/30 [==============================] - 2s 48ms/step - loss: 4.3149e-05 - mae: 0.0068\n",
      "Epoch 55/100\n",
      "30/30 [==============================] - 2s 47ms/step - loss: 4.4963e-05 - mae: 0.0070\n",
      "Epoch 56/100\n",
      "30/30 [==============================] - 2s 48ms/step - loss: 4.4263e-05 - mae: 0.0068\n",
      "Epoch 57/100\n",
      "30/30 [==============================] - 2s 47ms/step - loss: 4.0035e-05 - mae: 0.0063\n",
      "Epoch 58/100\n",
      "30/30 [==============================] - 2s 49ms/step - loss: 4.4343e-05 - mae: 0.0068\n",
      "Epoch 59/100\n",
      "30/30 [==============================] - 2s 48ms/step - loss: 4.6208e-05 - mae: 0.0070\n",
      "Epoch 60/100\n",
      "30/30 [==============================] - 2s 50ms/step - loss: 4.6778e-05 - mae: 0.0070\n",
      "Epoch 61/100\n",
      "30/30 [==============================] - 2s 49ms/step - loss: 4.2444e-05 - mae: 0.0066\n",
      "Epoch 62/100\n",
      "30/30 [==============================] - 2s 46ms/step - loss: 4.2671e-05 - mae: 0.0066\n",
      "Epoch 63/100\n",
      "30/30 [==============================] - 2s 46ms/step - loss: 4.0921e-05 - mae: 0.0063\n",
      "Epoch 64/100\n",
      "30/30 [==============================] - 2s 47ms/step - loss: 3.9149e-05 - mae: 0.0062\n",
      "Epoch 65/100\n",
      "30/30 [==============================] - 2s 48ms/step - loss: 4.5302e-05 - mae: 0.0071\n",
      "Epoch 66/100\n",
      "30/30 [==============================] - 2s 47ms/step - loss: 5.1082e-05 - mae: 0.0074\n",
      "Epoch 67/100\n",
      "30/30 [==============================] - 2s 47ms/step - loss: 3.8161e-05 - mae: 0.0063\n",
      "Epoch 68/100\n",
      "30/30 [==============================] - 2s 46ms/step - loss: 3.9547e-05 - mae: 0.0064\n",
      "Epoch 69/100\n",
      "30/30 [==============================] - 2s 46ms/step - loss: 4.1274e-05 - mae: 0.0065\n",
      "Epoch 70/100\n",
      "30/30 [==============================] - 2s 47ms/step - loss: 3.8612e-05 - mae: 0.0062\n",
      "Epoch 71/100\n",
      "30/30 [==============================] - 2s 46ms/step - loss: 3.8772e-05 - mae: 0.0063\n",
      "Epoch 72/100\n",
      "30/30 [==============================] - 2s 46ms/step - loss: 3.9511e-05 - mae: 0.0063\n",
      "Epoch 73/100\n",
      "30/30 [==============================] - 1s 45ms/step - loss: 3.8344e-05 - mae: 0.0063\n",
      "Epoch 74/100\n",
      "30/30 [==============================] - 2s 48ms/step - loss: 3.4817e-05 - mae: 0.0059\n",
      "Epoch 75/100\n",
      "30/30 [==============================] - 2s 46ms/step - loss: 4.2186e-05 - mae: 0.0068\n",
      "Epoch 76/100\n",
      "30/30 [==============================] - 1s 46ms/step - loss: 3.5389e-05 - mae: 0.0059\n",
      "Epoch 77/100\n",
      "30/30 [==============================] - 2s 46ms/step - loss: 3.9648e-05 - mae: 0.0065\n",
      "Epoch 78/100\n",
      "30/30 [==============================] - 1s 46ms/step - loss: 3.8282e-05 - mae: 0.0063\n",
      "Epoch 79/100\n",
      "30/30 [==============================] - 2s 48ms/step - loss: 3.8608e-05 - mae: 0.0064\n",
      "Epoch 80/100\n",
      "30/30 [==============================] - 2s 48ms/step - loss: 4.6496e-05 - mae: 0.0072\n",
      "Epoch 81/100\n",
      "30/30 [==============================] - 2s 46ms/step - loss: 5.1807e-05 - mae: 0.0075\n",
      "Epoch 82/100\n",
      "30/30 [==============================] - 1s 45ms/step - loss: 4.1828e-05 - mae: 0.0066\n",
      "Epoch 83/100\n"
     ]
    },
    {
     "name": "stdout",
     "output_type": "stream",
     "text": [
      "30/30 [==============================] - 1s 44ms/step - loss: 4.0819e-05 - mae: 0.0067\n",
      "Epoch 84/100\n",
      "30/30 [==============================] - 1s 45ms/step - loss: 3.9223e-05 - mae: 0.0066\n",
      "Epoch 85/100\n",
      "30/30 [==============================] - 2s 47ms/step - loss: 3.6140e-05 - mae: 0.0060\n",
      "Epoch 86/100\n",
      "30/30 [==============================] - 2s 46ms/step - loss: 3.4972e-05 - mae: 0.0060\n",
      "Epoch 87/100\n",
      "30/30 [==============================] - 2s 47ms/step - loss: 3.3279e-05 - mae: 0.0058\n",
      "Epoch 88/100\n",
      "30/30 [==============================] - 2s 46ms/step - loss: 3.7888e-05 - mae: 0.0065\n",
      "Epoch 89/100\n",
      "30/30 [==============================] - 2s 46ms/step - loss: 4.2215e-05 - mae: 0.0068\n",
      "Epoch 90/100\n",
      "30/30 [==============================] - 2s 47ms/step - loss: 3.7406e-05 - mae: 0.0063\n",
      "Epoch 91/100\n",
      "30/30 [==============================] - 2s 52ms/step - loss: 3.9316e-05 - mae: 0.0065\n",
      "Epoch 92/100\n",
      "30/30 [==============================] - 2s 52ms/step - loss: 3.2395e-05 - mae: 0.0058\n",
      "Epoch 93/100\n",
      "30/30 [==============================] - 1s 45ms/step - loss: 3.1420e-05 - mae: 0.0058\n",
      "Epoch 94/100\n",
      "30/30 [==============================] - 1s 46ms/step - loss: 3.9430e-05 - mae: 0.0064\n",
      "Epoch 95/100\n",
      "30/30 [==============================] - 2s 47ms/step - loss: 3.5503e-05 - mae: 0.0061\n",
      "Epoch 96/100\n",
      "30/30 [==============================] - 2s 49ms/step - loss: 3.1206e-05 - mae: 0.0057\n",
      "Epoch 97/100\n",
      "30/30 [==============================] - 2s 49ms/step - loss: 3.1539e-05 - mae: 0.0057\n",
      "Epoch 98/100\n",
      "30/30 [==============================] - 1s 46ms/step - loss: 3.3067e-05 - mae: 0.0058\n",
      "Epoch 99/100\n",
      "30/30 [==============================] - 2s 47ms/step - loss: 3.1107e-05 - mae: 0.0056\n",
      "Epoch 100/100\n",
      "30/30 [==============================] - 2s 48ms/step - loss: 3.1793e-05 - mae: 0.0057\n"
     ]
    },
    {
     "data": {
      "text/plain": [
       "<keras.callbacks.History at 0x18919182e50>"
      ]
     },
     "execution_count": 251,
     "metadata": {},
     "output_type": "execute_result"
    }
   ],
   "source": [
    "model_adam = tf.keras.models.Sequential([\n",
    "    \n",
    "    #tf.keras.layers.Lambda(lambda x:tf.expand_dims(x, axis = 0),  input_shape = [None, 2]),\n",
    "    tf.keras.layers.LSTM(32, return_sequences=True, input_shape = (50, 2)),\n",
    "    tf.keras.layers.LSTM(32, return_sequences=True),\n",
    "    tf.keras.layers.LSTM(32),\n",
    "    tf.keras.layers.Dense(1)\n",
    "])\n",
    "\n",
    "model_adam.compile(optimizer='adam',loss=tf.keras.losses.Huber(), metrics = ['mae'])\n",
    "\n",
    "model_adam.fit(train_dataset, epochs=100)"
   ]
  },
  {
   "cell_type": "code",
   "execution_count": 254,
   "id": "ec82b412",
   "metadata": {},
   "outputs": [
    {
     "data": {
      "image/png": "[encoded data removed]",
      "text/plain": [
       "<Figure size 576x432 with 1 Axes>"
      ]
     },
     "metadata": {
      "needs_background": "light"
     },
     "output_type": "display_data"
    }
   ],
   "source": [
    "history = pd.DataFrame(model_adam.history.history)\n",
    "plot_metrics(history, 100)"
   ]
  },
  {
   "cell_type": "code",
   "execution_count": 256,
   "id": "c06d9ac9",
   "metadata": {},
   "outputs": [
    {
     "name": "stdout",
     "output_type": "stream",
     "text": [
      "16/16 [==============================] - 1s 21ms/step\n",
      "(500,)\n"
     ]
    }
   ],
   "source": [
    "## generate forecast data\n",
    "\n",
    "forecast_data = input_data[split_time-window_size:-1]\n",
    "predictions = prediction(model_adam, forecast_data, batch_size, window_size)\n",
    "\n",
    "results = predictions.squeeze()\n",
    "print(results.shape)"
   ]
  },
  {
   "cell_type": "code",
   "execution_count": 257,
   "id": "7e0aae44",
   "metadata": {},
   "outputs": [
    {
     "name": "stdout",
     "output_type": "stream",
     "text": [
      "Mean Squared error :0.0008728860411792994\n",
      "Mean Absolute error :0.024086104705929756\n"
     ]
    }
   ],
   "source": [
    "print('Mean Squared error :{}'.format(tf.metrics.mean_squared_error(true_values, results)))\n",
    "print('Mean Absolute error :{}'.format(tf.metrics.mean_absolute_error(true_values, results)))"
   ]
  },
  {
   "cell_type": "code",
   "execution_count": 258,
   "id": "a11251ad",
   "metadata": {},
   "outputs": [
    {
     "data": {
      "image/png": "[encoded data removed]",
      "text/plain": [
       "<Figure size 720x432 with 1 Axes>"
      ]
     },
     "metadata": {
      "needs_background": "light"
     },
     "output_type": "display_data"
    }
   ],
   "source": [
    "plot_series(valid_time, (true_values, results))"
   ]
  },
  {
   "cell_type": "code",
   "execution_count": 260,
   "id": "d206a2db",
   "metadata": {},
   "outputs": [
    {
     "name": "stdout",
     "output_type": "stream",
     "text": [
      "User Current Version:- 3.9.5 (tags/v3.9.5:0a7dcbd, May  3 2021, 17:27:52) [MSC v.1928 64 bit (AMD64)]\n"
     ]
    }
   ],
   "source": [
    "import sys\n",
    "  \n",
    "  \n",
    "print(\"User Current Version:-\", sys.version)"
   ]
  },
  {
   "cell_type": "code",
   "execution_count": 261,
   "id": "87d58cbb",
   "metadata": {},
   "outputs": [
    {
     "data": {
      "text/plain": [
       "'2.9.1'"
      ]
     },
     "execution_count": 261,
     "metadata": {},
     "output_type": "execute_result"
    }
   ],
   "source": [
    "tf.__version__"
   ]
  }
 ],
 "metadata": {
  "kernelspec": {
   "display_name": "Python 3 (ipykernel)",
   "language": "python",
   "name": "python3"
  },
  "language_info": {
   "codemirror_mode": {
    "name": "ipython",
    "version": 3
   },
   "file_extension": ".py",
   "mimetype": "text/x-python",
   "name": "python",
   "nbconvert_exporter": "python",
   "pygments_lexer": "ipython3",
   "version": "3.9.5"
  }
 },
 "nbformat": 4,
 "nbformat_minor": 5
}
