{
 "cells": [
  {
   "cell_type": "markdown",
   "id": "12569858",
   "metadata": {},
   "source": [
    "## RNN to predict sine wave data\n",
    "- This notebook, I'll explore RNN's technique to predict time sequence sine wave data\n",
    "- Also, implement LSTM to optimize the model performance\n",
    "- Evaluate and compare the model performance\n",
    "- Forecast sine wave data for the next data points"
   ]
  },
  {
   "cell_type": "code",
   "execution_count": 1,
   "id": "6f718481",
   "metadata": {},
   "outputs": [],
   "source": [
    "# import libraries\n",
    "\n",
    "import numpy as np\n",
    "import pandas as pd\n",
    "import matplotlib.pyplot as plt\n",
    "import seaborn as sns"
   ]
  },
  {
   "cell_type": "markdown",
   "id": "431018b4",
   "metadata": {},
   "source": [
    "### Generate Data "
   ]
  },
  {
   "cell_type": "code",
   "execution_count": 2,
   "id": "3eada65b",
   "metadata": {},
   "outputs": [],
   "source": [
    "x = np.linspace(1, 50, 501)"
   ]
  },
  {
   "cell_type": "code",
   "execution_count": 3,
   "id": "e96cd79a",
   "metadata": {},
   "outputs": [],
   "source": [
    "y = np.sin(x)"
   ]
  },
  {
   "cell_type": "code",
   "execution_count": 4,
   "id": "a936e962",
   "metadata": {},
   "outputs": [
    {
     "data": {
      "text/plain": [
       "[<matplotlib.lines.Line2D at 0x16c1f384e50>]"
      ]
     },
     "execution_count": 4,
     "metadata": {},
     "output_type": "execute_result"
    },
    {
     "data": {
      "image/png": "[encoded data removed]",
      "text/plain": [
       "<Figure size 432x288 with 1 Axes>"
      ]
     },
     "metadata": {
      "needs_background": "light"
     },
     "output_type": "display_data"
    }
   ],
   "source": [
    "plt.plot(x,y)"
   ]
  },
  {
   "cell_type": "code",
   "execution_count": 5,
   "id": "02568eab",
   "metadata": {},
   "outputs": [
    {
     "data": {
      "text/html": [
       "<div>\n",
       "<style scoped>\n",
       "    .dataframe tbody tr th:only-of-type {\n",
       "        vertical-align: middle;\n",
       "    }\n",
       "\n",
       "    .dataframe tbody tr th {\n",
       "        vertical-align: top;\n",
       "    }\n",
       "\n",
       "    .dataframe thead th {\n",
       "        text-align: right;\n",
       "    }\n",
       "</style>\n",
       "<table border=\"1\" class=\"dataframe\">\n",
       "  <thead>\n",
       "    <tr style=\"text-align: right;\">\n",
       "      <th></th>\n",
       "      <th>Sine</th>\n",
       "    </tr>\n",
       "  </thead>\n",
       "  <tbody>\n",
       "    <tr>\n",
       "      <th>1.000</th>\n",
       "      <td>0.841471</td>\n",
       "    </tr>\n",
       "    <tr>\n",
       "      <th>1.098</th>\n",
       "      <td>0.890298</td>\n",
       "    </tr>\n",
       "    <tr>\n",
       "      <th>1.196</th>\n",
       "      <td>0.930582</td>\n",
       "    </tr>\n",
       "    <tr>\n",
       "      <th>1.294</th>\n",
       "      <td>0.961936</td>\n",
       "    </tr>\n",
       "    <tr>\n",
       "      <th>1.392</th>\n",
       "      <td>0.984058</td>\n",
       "    </tr>\n",
       "  </tbody>\n",
       "</table>\n",
       "</div>"
      ],
      "text/plain": [
       "           Sine\n",
       "1.000  0.841471\n",
       "1.098  0.890298\n",
       "1.196  0.930582\n",
       "1.294  0.961936\n",
       "1.392  0.984058"
      ]
     },
     "execution_count": 5,
     "metadata": {},
     "output_type": "execute_result"
    }
   ],
   "source": [
    "# lets create a dataframe\n",
    "df = pd.DataFrame(data=y, index = x, columns = ['Sine'])\n",
    "df.head()"
   ]
  },
  {
   "cell_type": "markdown",
   "id": "470715e1",
   "metadata": {},
   "source": [
    "### Determining train and test data"
   ]
  },
  {
   "cell_type": "markdown",
   "id": "a729acfd",
   "metadata": {},
   "source": [
    "- Here, there is no as such test data like in other usual cases as the nature of this case is to forecast the next likely event\n",
    "- So, considering the training data, it contains both the training as well as the test data and will need to use it accordingly based on the time step\n",
    "- But still we will divide the data into training and test data, where the model training and validation will be done on the training data and the final validation can be done on the test data\n",
    "- We will need to decide the percentage of data that we want to keep for test, then accordingly we will find out the cut off point in the training data"
   ]
  },
  {
   "cell_type": "code",
   "execution_count": 6,
   "id": "753f34f0",
   "metadata": {},
   "outputs": [],
   "source": [
    "## lets say we want 10 percent of our data for test\n",
    "test_percent = 0.1"
   ]
  },
  {
   "cell_type": "code",
   "execution_count": 7,
   "id": "2de34831",
   "metadata": {},
   "outputs": [
    {
     "data": {
      "text/plain": [
       "501"
      ]
     },
     "execution_count": 7,
     "metadata": {},
     "output_type": "execute_result"
    }
   ],
   "source": [
    "# find the amount of obervations for the test data, i.e. 10 % of the original data\n",
    "\n",
    "# total data\n",
    "len(df)"
   ]
  },
  {
   "cell_type": "code",
   "execution_count": 8,
   "id": "ba00691d",
   "metadata": {},
   "outputs": [
    {
     "data": {
      "text/plain": [
       "50.1"
      ]
     },
     "execution_count": 8,
     "metadata": {},
     "output_type": "execute_result"
    }
   ],
   "source": [
    "# 10% of total data\n",
    "len(df) * test_percent"
   ]
  },
  {
   "cell_type": "markdown",
   "id": "edfde581",
   "metadata": {},
   "source": [
    "- So, we will use around 50 samples for test"
   ]
  },
  {
   "cell_type": "code",
   "execution_count": 9,
   "id": "3e982e57",
   "metadata": {},
   "outputs": [
    {
     "data": {
      "text/plain": [
       "451"
      ]
     },
     "execution_count": 9,
     "metadata": {},
     "output_type": "execute_result"
    }
   ],
   "source": [
    "# getting the cutoff point\n",
    "len(df) - int(len(df) * test_percent)"
   ]
  },
  {
   "cell_type": "markdown",
   "id": "d530142c",
   "metadata": {},
   "source": [
    "- So, basically we will use our first 451 samples as the train set and \n",
    "- last 50 samples as our test set"
   ]
  },
  {
   "cell_type": "code",
   "execution_count": 10,
   "id": "3db745a6",
   "metadata": {},
   "outputs": [],
   "source": [
    "train = df.iloc[:451]\n",
    "test = df.iloc[451:]"
   ]
  },
  {
   "cell_type": "code",
   "execution_count": 11,
   "id": "860a2ace",
   "metadata": {},
   "outputs": [
    {
     "data": {
      "text/html": [
       "<div>\n",
       "<style scoped>\n",
       "    .dataframe tbody tr th:only-of-type {\n",
       "        vertical-align: middle;\n",
       "    }\n",
       "\n",
       "    .dataframe tbody tr th {\n",
       "        vertical-align: top;\n",
       "    }\n",
       "\n",
       "    .dataframe thead th {\n",
       "        text-align: right;\n",
       "    }\n",
       "</style>\n",
       "<table border=\"1\" class=\"dataframe\">\n",
       "  <thead>\n",
       "    <tr style=\"text-align: right;\">\n",
       "      <th></th>\n",
       "      <th>Sine</th>\n",
       "    </tr>\n",
       "  </thead>\n",
       "  <tbody>\n",
       "    <tr>\n",
       "      <th>44.708</th>\n",
       "      <td>0.663661</td>\n",
       "    </tr>\n",
       "    <tr>\n",
       "      <th>44.806</th>\n",
       "      <td>0.733667</td>\n",
       "    </tr>\n",
       "    <tr>\n",
       "      <th>44.904</th>\n",
       "      <td>0.796632</td>\n",
       "    </tr>\n",
       "    <tr>\n",
       "      <th>45.002</th>\n",
       "      <td>0.851952</td>\n",
       "    </tr>\n",
       "    <tr>\n",
       "      <th>45.100</th>\n",
       "      <td>0.899097</td>\n",
       "    </tr>\n",
       "  </tbody>\n",
       "</table>\n",
       "</div>"
      ],
      "text/plain": [
       "            Sine\n",
       "44.708  0.663661\n",
       "44.806  0.733667\n",
       "44.904  0.796632\n",
       "45.002  0.851952\n",
       "45.100  0.899097"
      ]
     },
     "execution_count": 11,
     "metadata": {},
     "output_type": "execute_result"
    }
   ],
   "source": [
    "train.tail()"
   ]
  },
  {
   "cell_type": "code",
   "execution_count": 12,
   "id": "481506be",
   "metadata": {},
   "outputs": [
    {
     "data": {
      "text/html": [
       "<div>\n",
       "<style scoped>\n",
       "    .dataframe tbody tr th:only-of-type {\n",
       "        vertical-align: middle;\n",
       "    }\n",
       "\n",
       "    .dataframe tbody tr th {\n",
       "        vertical-align: top;\n",
       "    }\n",
       "\n",
       "    .dataframe thead th {\n",
       "        text-align: right;\n",
       "    }\n",
       "</style>\n",
       "<table border=\"1\" class=\"dataframe\">\n",
       "  <thead>\n",
       "    <tr style=\"text-align: right;\">\n",
       "      <th></th>\n",
       "      <th>Sine</th>\n",
       "    </tr>\n",
       "  </thead>\n",
       "  <tbody>\n",
       "    <tr>\n",
       "      <th>45.198</th>\n",
       "      <td>0.937614</td>\n",
       "    </tr>\n",
       "    <tr>\n",
       "      <th>45.296</th>\n",
       "      <td>0.967133</td>\n",
       "    </tr>\n",
       "    <tr>\n",
       "      <th>45.394</th>\n",
       "      <td>0.987371</td>\n",
       "    </tr>\n",
       "    <tr>\n",
       "      <th>45.492</th>\n",
       "      <td>0.998134</td>\n",
       "    </tr>\n",
       "    <tr>\n",
       "      <th>45.590</th>\n",
       "      <td>0.999319</td>\n",
       "    </tr>\n",
       "  </tbody>\n",
       "</table>\n",
       "</div>"
      ],
      "text/plain": [
       "            Sine\n",
       "45.198  0.937614\n",
       "45.296  0.967133\n",
       "45.394  0.987371\n",
       "45.492  0.998134\n",
       "45.590  0.999319"
      ]
     },
     "execution_count": 12,
     "metadata": {},
     "output_type": "execute_result"
    }
   ],
   "source": [
    "test.head()"
   ]
  },
  {
   "cell_type": "code",
   "execution_count": 13,
   "id": "058ec6eb",
   "metadata": {},
   "outputs": [
    {
     "data": {
      "text/plain": [
       "(451, 50)"
      ]
     },
     "execution_count": 13,
     "metadata": {},
     "output_type": "execute_result"
    }
   ],
   "source": [
    "len(train), len(test)"
   ]
  },
  {
   "cell_type": "markdown",
   "id": "6e94f01b",
   "metadata": {},
   "source": [
    "### PreProcessing our data\n",
    "- Here, we will need to pre-process our data i.e. we will need to scale the data\n",
    "- by data, meaning both the features and the labels\n",
    "- labels also, because these labels will be fed in as input to the next time step NN\n",
    "- So, labels becomes the input to the next layer"
   ]
  },
  {
   "cell_type": "code",
   "execution_count": 14,
   "id": "d5fcd8bd",
   "metadata": {},
   "outputs": [],
   "source": [
    "# import scaler library\n",
    "from sklearn.preprocessing import MinMaxScaler"
   ]
  },
  {
   "cell_type": "code",
   "execution_count": 15,
   "id": "67bd87e1",
   "metadata": {},
   "outputs": [],
   "source": [
    "# initialize the scaler object\n",
    "scaler = MinMaxScaler()"
   ]
  },
  {
   "cell_type": "code",
   "execution_count": 16,
   "id": "267b73ae",
   "metadata": {},
   "outputs": [],
   "source": [
    "# fit and transform\n",
    "scaler.fit(train)\n",
    "\n",
    "train_scaled = scaler.transform(train)\n",
    "test_scaled = scaler.transform(test)"
   ]
  },
  {
   "cell_type": "markdown",
   "id": "767400e9",
   "metadata": {},
   "source": [
    "# Time Series Generator\n",
    "\n",
    "This class takes in a sequence of data-points gathered at\n",
    "equal intervals, along with time series parameters such as\n",
    "stride, length of history, etc., to produce batches for\n",
    "training/validation.\n",
    "\n",
    "#### Arguments\n",
    "    data: Indexable generator (such as list or Numpy array)\n",
    "        containing consecutive data points (timesteps).\n",
    "        The data should be at 2D, and axis 0 is expected\n",
    "        to be the time dimension.\n",
    "    targets: Targets corresponding to timesteps in `data`.\n",
    "        It should have same length as `data`.\n",
    "    length: Length of the output sequences (in number of timesteps).\n",
    "    sampling_rate: Period between successive individual timesteps\n",
    "        within sequences. For rate `r`, timesteps\n",
    "        `data[i]`, `data[i-r]`, ... `data[i - length]`\n",
    "        are used for create a sample sequence.\n",
    "    stride: Period between successive output sequences.\n",
    "        For stride `s`, consecutive output samples would\n",
    "        be centered around `data[i]`, `data[i+s]`, `data[i+2*s]`, etc.\n",
    "    start_index: Data points earlier than `start_index` will not be used\n",
    "        in the output sequences. This is useful to reserve part of the\n",
    "        data for test or validation.\n",
    "    end_index: Data points later than `end_index` will not be used\n",
    "        in the output sequences. This is useful to reserve part of the\n",
    "        data for test or validation.\n",
    "    shuffle: Whether to shuffle output samples,\n",
    "        or instead draw them in chronological order.\n",
    "    reverse: Boolean: if `true`, timesteps in each output sample will be\n",
    "        in reverse chronological order.\n",
    "    batch_size: Number of timeseries samples in each batch\n",
    "        (except maybe the last one)."
   ]
  },
  {
   "cell_type": "code",
   "execution_count": 17,
   "id": "83ee6dd7",
   "metadata": {},
   "outputs": [],
   "source": [
    "# import TimeSeriesGenerator\n",
    "from tensorflow.keras.preprocessing.sequence import TimeseriesGenerator"
   ]
  },
  {
   "cell_type": "code",
   "execution_count": 18,
   "id": "9ffab468",
   "metadata": {
    "scrolled": true
   },
   "outputs": [
    {
     "name": "stdout",
     "output_type": "stream",
     "text": [
      "Help on class TimeseriesGenerator in module keras.preprocessing.sequence:\n",
      "\n",
      "class TimeseriesGenerator(keras.utils.data_utils.Sequence)\n",
      " |  TimeseriesGenerator(data, targets, length, sampling_rate=1, stride=1, start_index=0, end_index=None, shuffle=False, reverse=False, batch_size=128)\n",
      " |  \n",
      " |  Utility class for generating batches of temporal data.\n",
      " |  \n",
      " |  Deprecated: `tf.keras.preprocessing.sequence.TimeseriesGenerator` does not\n",
      " |  operate on tensors and is not recommended for new code. Prefer using a\n",
      " |  `tf.data.Dataset` which provides a more efficient and flexible mechanism for\n",
      " |  batching, shuffling, and windowing input. See the\n",
      " |  [tf.data guide](https://www.tensorflow.org/guide/data) for more details.\n",
      " |  \n",
      " |  This class takes in a sequence of data-points gathered at\n",
      " |  equal intervals, along with time series parameters such as\n",
      " |  stride, length of history, etc., to produce batches for\n",
      " |  training/validation.\n",
      " |  \n",
      " |  Arguments:\n",
      " |      data: Indexable generator (such as list or Numpy array)\n",
      " |          containing consecutive data points (timesteps).\n",
      " |          The data should be at 2D, and axis 0 is expected\n",
      " |          to be the time dimension.\n",
      " |      targets: Targets corresponding to timesteps in `data`.\n",
      " |          It should have same length as `data`.\n",
      " |      length: Length of the output sequences (in number of timesteps).\n",
      " |      sampling_rate: Period between successive individual timesteps\n",
      " |          within sequences. For rate `r`, timesteps\n",
      " |          `data[i]`, `data[i-r]`, ... `data[i - length]`\n",
      " |          are used for create a sample sequence.\n",
      " |      stride: Period between successive output sequences.\n",
      " |          For stride `s`, consecutive output samples would\n",
      " |          be centered around `data[i]`, `data[i+s]`, `data[i+2*s]`, etc.\n",
      " |      start_index: Data points earlier than `start_index` will not be used\n",
      " |          in the output sequences. This is useful to reserve part of the\n",
      " |          data for test or validation.\n",
      " |      end_index: Data points later than `end_index` will not be used\n",
      " |          in the output sequences. This is useful to reserve part of the\n",
      " |          data for test or validation.\n",
      " |      shuffle: Whether to shuffle output samples,\n",
      " |          or instead draw them in chronological order.\n",
      " |      reverse: Boolean: if `true`, timesteps in each output sample will be\n",
      " |          in reverse chronological order.\n",
      " |      batch_size: Number of timeseries samples in each batch\n",
      " |          (except maybe the last one).\n",
      " |  \n",
      " |  Returns:\n",
      " |      A [Sequence](\n",
      " |      https://www.tensorflow.org/api_docs/python/tf/keras/utils/Sequence)\n",
      " |      instance.\n",
      " |  \n",
      " |  Examples:\n",
      " |      ```python\n",
      " |      from keras.preprocessing.sequence import TimeseriesGenerator\n",
      " |      import numpy as np\n",
      " |      data = np.array([[i] for i in range(50)])\n",
      " |      targets = np.array([[i] for i in range(50)])\n",
      " |      data_gen = TimeseriesGenerator(data, targets,\n",
      " |                                     length=10, sampling_rate=2,\n",
      " |                                     batch_size=2)\n",
      " |      assert len(data_gen) == 20\n",
      " |      batch_0 = data_gen[0]\n",
      " |      x, y = batch_0\n",
      " |      assert np.array_equal(x,\n",
      " |                            np.array([[[0], [2], [4], [6], [8]],\n",
      " |                                      [[1], [3], [5], [7], [9]]]))\n",
      " |      assert np.array_equal(y,\n",
      " |                            np.array([[10], [11]]))\n",
      " |      ```\n",
      " |  \n",
      " |  Method resolution order:\n",
      " |      TimeseriesGenerator\n",
      " |      keras.utils.data_utils.Sequence\n",
      " |      builtins.object\n",
      " |  \n",
      " |  Methods defined here:\n",
      " |  \n",
      " |  __getitem__(self, index)\n",
      " |      Gets batch at position `index`.\n",
      " |      \n",
      " |      Args:\n",
      " |          index: position of the batch in the Sequence.\n",
      " |      \n",
      " |      Returns:\n",
      " |          A batch\n",
      " |  \n",
      " |  __init__(self, data, targets, length, sampling_rate=1, stride=1, start_index=0, end_index=None, shuffle=False, reverse=False, batch_size=128)\n",
      " |      Initialize self.  See help(type(self)) for accurate signature.\n",
      " |  \n",
      " |  __len__(self)\n",
      " |      Number of batch in the Sequence.\n",
      " |      \n",
      " |      Returns:\n",
      " |          The number of batches in the Sequence.\n",
      " |  \n",
      " |  get_config(self)\n",
      " |      Returns the TimeseriesGenerator configuration as Python dictionary.\n",
      " |      \n",
      " |      Returns:\n",
      " |          A Python dictionary with the TimeseriesGenerator configuration.\n",
      " |  \n",
      " |  to_json(self, **kwargs)\n",
      " |      Returns a JSON string containing the timeseries generator configuration.\n",
      " |      \n",
      " |      Args:\n",
      " |          **kwargs: Additional keyword arguments\n",
      " |              to be passed to `json.dumps()`.\n",
      " |      Returns:\n",
      " |          A JSON string containing the tokenizer configuration.\n",
      " |  \n",
      " |  ----------------------------------------------------------------------\n",
      " |  Methods inherited from keras.utils.data_utils.Sequence:\n",
      " |  \n",
      " |  __iter__(self)\n",
      " |      Create a generator that iterate over the Sequence.\n",
      " |  \n",
      " |  on_epoch_end(self)\n",
      " |      Method called at the end of every epoch.\n",
      " |  \n",
      " |  ----------------------------------------------------------------------\n",
      " |  Data descriptors inherited from keras.utils.data_utils.Sequence:\n",
      " |  \n",
      " |  __dict__\n",
      " |      dictionary for instance variables (if defined)\n",
      " |  \n",
      " |  __weakref__\n",
      " |      list of weak references to the object (if defined)\n",
      "\n"
     ]
    }
   ],
   "source": [
    "help(TimeseriesGenerator)"
   ]
  },
  {
   "cell_type": "markdown",
   "id": "13396ef7",
   "metadata": {},
   "source": [
    "### define Generator and necessary parameters"
   ]
  },
  {
   "cell_type": "code",
   "execution_count": 19,
   "id": "7a708bad",
   "metadata": {},
   "outputs": [],
   "source": [
    "length = 2\n",
    "batch_size = 1\n",
    "generator = TimeseriesGenerator(data=train_scaled, # use train data for training and fitting\n",
    "                                targets=train_scaled, # using train data as it is both the label and the input in diff timesteps\n",
    "                                length=length,        # Length of the output sequences (in number of timesteps).\n",
    "                                batch_size=batch_size) # Number of timeseries samples in each batch"
   ]
  },
  {
   "cell_type": "code",
   "execution_count": 21,
   "id": "894ec974",
   "metadata": {},
   "outputs": [
    {
     "data": {
      "text/plain": [
       "(array([[[0.92074163],\n",
       "         [0.9451555 ]]]),\n",
       " array([[0.96529754]]))"
      ]
     },
     "execution_count": 21,
     "metadata": {},
     "output_type": "execute_result"
    }
   ],
   "source": [
    "generator[0]"
   ]
  },
  {
   "cell_type": "code",
   "execution_count": 22,
   "id": "e1996e27",
   "metadata": {},
   "outputs": [
    {
     "name": "stdout",
     "output_type": "stream",
     "text": [
      "[[[0.92074163]\n",
      "  [0.9451555 ]]]\n",
      "[[0.96529754]]\n"
     ]
    }
   ],
   "source": [
    "test_train, test_target = generator[0]\n",
    "print(test_train)\n",
    "print(test_target)"
   ]
  },
  {
   "cell_type": "code",
   "execution_count": 25,
   "id": "4b515b93",
   "metadata": {},
   "outputs": [
    {
     "data": {
      "text/plain": [
       "array([[0.92074163],\n",
       "       [0.9451555 ],\n",
       "       [0.96529754],\n",
       "       [0.98097448],\n",
       "       [0.99203586]])"
      ]
     },
     "execution_count": 25,
     "metadata": {},
     "output_type": "execute_result"
    }
   ],
   "source": [
    "# check our train data\n",
    "train_scaled[:5]"
   ]
  },
  {
   "cell_type": "markdown",
   "id": "217d73c9",
   "metadata": {},
   "source": [
    "- We can see the first two values are used as the training data and the 3rd data will be used as the validation data when length = 2 and batch_size = 1\n",
    "- Lets check for other combinations"
   ]
  },
  {
   "cell_type": "code",
   "execution_count": 28,
   "id": "8562af96",
   "metadata": {},
   "outputs": [],
   "source": [
    "# length = 4\n",
    "length = 4\n",
    "batch_size = 1\n",
    "generator = TimeseriesGenerator(data=train_scaled, # use train data for training and fitting\n",
    "                                targets=train_scaled, # using train data as it is both the label and the input in diff timesteps\n",
    "                                length=length,        # Length of the output sequences (in number of timesteps).\n",
    "                                batch_size=batch_size) # Number of timeseries samples in each batch"
   ]
  },
  {
   "cell_type": "code",
   "execution_count": 29,
   "id": "3e04cadf",
   "metadata": {},
   "outputs": [
    {
     "name": "stdout",
     "output_type": "stream",
     "text": [
      "[[[0.92074163]\n",
      "  [0.9451555 ]\n",
      "  [0.96529754]\n",
      "  [0.98097448]]]\n",
      "[[0.99203586]]\n"
     ]
    }
   ],
   "source": [
    "test_train, test_target = generator[0]\n",
    "print(test_train)\n",
    "print(test_target)"
   ]
  },
  {
   "cell_type": "markdown",
   "id": "0fbc8603",
   "metadata": {},
   "source": [
    "- Now we can see the first 4 values are used as the train data for the first instance and the 5th value will be used as the validation data\n",
    "- This will keep on moving forward like this"
   ]
  },
  {
   "cell_type": "code",
   "execution_count": 31,
   "id": "27f9f964",
   "metadata": {},
   "outputs": [
    {
     "data": {
      "text/plain": [
       "(447, 451)"
      ]
     },
     "execution_count": 31,
     "metadata": {},
     "output_type": "execute_result"
    }
   ],
   "source": [
    "len(generator), len(train_scaled)"
   ]
  },
  {
   "cell_type": "markdown",
   "id": "889a932a",
   "metadata": {},
   "source": [
    "- We have len(generator) as 447 which is len(train_scaled) - length\n",
    "- this is because, it needs to mapped with the exact number of samples considering the length"
   ]
  },
  {
   "cell_type": "code",
   "execution_count": 32,
   "id": "757063e2",
   "metadata": {},
   "outputs": [],
   "source": [
    "# length = 4\n",
    "length = 4\n",
    "batch_size = 2\n",
    "generator = TimeseriesGenerator(data=train_scaled, # use train data for training and fitting\n",
    "                                targets=train_scaled, # using train data as it is both the label and the input in diff timesteps\n",
    "                                length=length,        # Length of the output sequences (in number of timesteps).\n",
    "                                batch_size=batch_size) # Number of timeseries samples in each batch"
   ]
  },
  {
   "cell_type": "code",
   "execution_count": 33,
   "id": "86414340",
   "metadata": {},
   "outputs": [
    {
     "data": {
      "text/plain": [
       "(array([[[0.92074163],\n",
       "         [0.9451555 ],\n",
       "         [0.96529754],\n",
       "         [0.98097448]],\n",
       " \n",
       "        [[0.9451555 ],\n",
       "         [0.96529754],\n",
       "         [0.98097448],\n",
       "         [0.99203586]]]),\n",
       " array([[0.99203586],\n",
       "        [0.99837554]]))"
      ]
     },
     "execution_count": 33,
     "metadata": {},
     "output_type": "execute_result"
    }
   ],
   "source": [
    "generator[0]"
   ]
  },
  {
   "cell_type": "markdown",
   "id": "325269fd",
   "metadata": {},
   "source": [
    "**One thing to keep in mind always is that depending on the nature of the problem we are trying to solve, we should choose the length. Say e.g. if we are working something related to a yearly event or a monthly event, then we might need to think about setting the length to a consider minimum duration say 12 months or 30 days respectively, so that each time step covers at least a complete iteration of the problem statement in concern.**"
   ]
  },
  {
   "cell_type": "markdown",
   "id": "6cb99604",
   "metadata": {},
   "source": [
    "- For our case, lets check the plot again and see how much value of length make more sense"
   ]
  },
  {
   "cell_type": "code",
   "execution_count": 34,
   "id": "d2a0e618",
   "metadata": {},
   "outputs": [
    {
     "data": {
      "text/plain": [
       "[<matplotlib.lines.Line2D at 0x16c2a382f10>]"
      ]
     },
     "execution_count": 34,
     "metadata": {},
     "output_type": "execute_result"
    },
    {
     "data": {
      "image/png": "[encoded data removed]",
      "text/plain": [
       "<Figure size 432x288 with 1 Axes>"
      ]
     },
     "metadata": {
      "needs_background": "light"
     },
     "output_type": "display_data"
    }
   ],
   "source": [
    "plt.plot(x,y)"
   ]
  },
  {
   "cell_type": "code",
   "execution_count": 41,
   "id": "28725bb9",
   "metadata": {},
   "outputs": [
    {
     "data": {
      "text/plain": [
       "41"
      ]
     },
     "execution_count": 41,
     "metadata": {},
     "output_type": "execute_result"
    }
   ],
   "source": [
    "len(df.loc[:5])"
   ]
  },
  {
   "cell_type": "markdown",
   "id": "dae7641f",
   "metadata": {},
   "source": [
    "- For this sine wave use case, I think it takes approximately around 41 samples to cover at least one complete wave or one cycle\n",
    "- So, we will use around 50 samples as length"
   ]
  },
  {
   "cell_type": "code",
   "execution_count": 43,
   "id": "4c714b4b",
   "metadata": {},
   "outputs": [],
   "source": [
    "length=50\n",
    "batch_size=batch_size\n",
    "generator=TimeseriesGenerator(data=train_scaled,targets=train_scaled,length=length,batch_size=batch_size)"
   ]
  },
  {
   "cell_type": "markdown",
   "id": "66d75915",
   "metadata": {},
   "source": [
    "## Creating Model"
   ]
  },
  {
   "cell_type": "code",
   "execution_count": 44,
   "id": "81f79698",
   "metadata": {},
   "outputs": [],
   "source": [
    "# import libraries\n",
    "from tensorflow.keras.models import Sequential\n",
    "from tensorflow.keras.layers import Dense, SimpleRNN"
   ]
  },
  {
   "cell_type": "code",
   "execution_count": 45,
   "id": "2999805e",
   "metadata": {},
   "outputs": [],
   "source": [
    "# no. of features\n",
    "n_features = 1"
   ]
  },
  {
   "cell_type": "code",
   "execution_count": 46,
   "id": "5207b6eb",
   "metadata": {},
   "outputs": [],
   "source": [
    "# initialize model\n",
    "model = Sequential()\n",
    "\n",
    "# add RNN layer\n",
    "# units : we normally provide similar number with the length: meaning number of samples to consider\n",
    "# input_shape is mandatory to pass\n",
    "model.add(SimpleRNN(units=50,input_shape=(length,n_features)))\n",
    "\n",
    "# add layer for output\n",
    "model.add(Dense(1))\n",
    "\n",
    "# compile\n",
    "# loss = mse : since it is a continuous value that we are trying to predict\n",
    "model.compile(optimizer='adam', loss='mse')"
   ]
  },
  {
   "cell_type": "code",
   "execution_count": 47,
   "id": "007ead1e",
   "metadata": {},
   "outputs": [
    {
     "name": "stdout",
     "output_type": "stream",
     "text": [
      "Model: \"sequential\"\n",
      "_________________________________________________________________\n",
      " Layer (type)                Output Shape              Param #   \n",
      "=================================================================\n",
      " simple_rnn (SimpleRNN)      (None, 50)                2600      \n",
      "                                                                 \n",
      " dense (Dense)               (None, 1)                 51        \n",
      "                                                                 \n",
      "=================================================================\n",
      "Total params: 2,651\n",
      "Trainable params: 2,651\n",
      "Non-trainable params: 0\n",
      "_________________________________________________________________\n"
     ]
    }
   ],
   "source": [
    "model.summary()"
   ]
  },
  {
   "cell_type": "code",
   "execution_count": 48,
   "id": "838c0bcd",
   "metadata": {},
   "outputs": [
    {
     "name": "stderr",
     "output_type": "stream",
     "text": [
      "C:\\Users\\budha\\AppData\\Local\\Temp\\ipykernel_9832\\2845946429.py:3: UserWarning: `Model.fit_generator` is deprecated and will be removed in a future version. Please use `Model.fit`, which supports generators.\n",
      "  model.fit_generator(generator,epochs=5)\n"
     ]
    },
    {
     "name": "stdout",
     "output_type": "stream",
     "text": [
      "Epoch 1/5\n",
      "201/201 [==============================] - 5s 8ms/step - loss: 0.0107\n",
      "Epoch 2/5\n",
      "201/201 [==============================] - 2s 8ms/step - loss: 3.1024e-04\n",
      "Epoch 3/5\n",
      "201/201 [==============================] - 2s 8ms/step - loss: 3.0787e-04\n",
      "Epoch 4/5\n",
      "201/201 [==============================] - 1s 7ms/step - loss: 5.8426e-04\n",
      "Epoch 5/5\n",
      "201/201 [==============================] - 1s 7ms/step - loss: 3.1822e-04\n"
     ]
    },
    {
     "data": {
      "text/plain": [
       "<keras.callbacks.History at 0x16c2bc6a850>"
      ]
     },
     "execution_count": 48,
     "metadata": {},
     "output_type": "execute_result"
    }
   ],
   "source": [
    "# fitting the model with the TimeSeriesGenerator\n",
    "\n",
    "model.fit_generator(generator,epochs=5)"
   ]
  },
  {
   "cell_type": "code",
   "execution_count": 50,
   "id": "b403fcad",
   "metadata": {},
   "outputs": [
    {
     "data": {
      "text/plain": [
       "<AxesSubplot:>"
      ]
     },
     "execution_count": 50,
     "metadata": {},
     "output_type": "execute_result"
    },
    {
     "data": {
      "image/png": "[encoded data removed]",
      "text/plain": [
       "<Figure size 432x288 with 1 Axes>"
      ]
     },
     "metadata": {
      "needs_background": "light"
     },
     "output_type": "display_data"
    }
   ],
   "source": [
    "pd.DataFrame(model.history.history).plot()"
   ]
  },
  {
   "cell_type": "markdown",
   "id": "c607f6cd",
   "metadata": {},
   "source": [
    "## Evaluating the Model\n",
    "- evaluating RNN model is very challenging as we will need to move forward our feature data\n",
    "- Also the predicted data will be part of the feature data in the next iteration and then will be used in predicting the succeeding data"
   ]
  },
  {
   "cell_type": "code",
   "execution_count": 51,
   "id": "73b98a1a",
   "metadata": {},
   "outputs": [],
   "source": [
    "# first lets start with just one batch\n",
    "first_eval_batch = train_scaled[-length:]"
   ]
  },
  {
   "cell_type": "code",
   "execution_count": 52,
   "id": "9260bc7f",
   "metadata": {},
   "outputs": [
    {
     "data": {
      "text/plain": [
       "array([[7.58231939e-01],\n",
       "       [7.15100328e-01],\n",
       "       [6.69904579e-01],\n",
       "       [6.23078403e-01],\n",
       "       [5.75071160e-01],\n",
       "       [5.26343541e-01],\n",
       "       [4.77363154e-01],\n",
       "       [4.28600029e-01],\n",
       "       [3.80522113e-01],\n",
       "       [3.33590775e-01],\n",
       "       [2.88256385e-01],\n",
       "       [2.44953986e-01],\n",
       "       [2.04099121e-01],\n",
       "       [1.66083845e-01],\n",
       "       [1.31272967e-01],\n",
       "       [1.00000541e-01],\n",
       "       [7.25666685e-02],\n",
       "       [4.92346131e-02],\n",
       "       [3.02282766e-02],\n",
       "       [1.57300499e-02],\n",
       "       [5.87906249e-03],\n",
       "       [7.69847560e-04],\n",
       "       [4.51434767e-04],\n",
       "       [4.92687970e-03],\n",
       "       [1.41532346e-02],\n",
       "       [2.80419604e-02],\n",
       "       [4.64597765e-02],\n",
       "       [6.92299398e-02],\n",
       "       [9.61339405e-02],\n",
       "       [1.26913599e-01],\n",
       "       [1.61273545e-01],\n",
       "       [1.98884049e-01],\n",
       "       [2.39384188e-01],\n",
       "       [2.82385311e-01],\n",
       "       [3.27474765e-01],\n",
       "       [3.74219857e-01],\n",
       "       [4.22172007e-01],\n",
       "       [4.70871051e-01],\n",
       "       [5.19849658e-01],\n",
       "       [5.68637812e-01],\n",
       "       [6.16767329e-01],\n",
       "       [6.63776341e-01],\n",
       "       [7.09213735e-01],\n",
       "       [7.52643480e-01],\n",
       "       [7.93648810e-01],\n",
       "       [8.31836225e-01],\n",
       "       [8.66839267e-01],\n",
       "       [8.98322034e-01],\n",
       "       [9.25982410e-01],\n",
       "       [9.49554955e-01]])"
      ]
     },
     "execution_count": 52,
     "metadata": {},
     "output_type": "execute_result"
    }
   ],
   "source": [
    "first_eval_batch"
   ]
  },
  {
   "cell_type": "markdown",
   "id": "de7d8a78",
   "metadata": {},
   "source": [
    "- So basically we are using the last 50 samples of train scaled data \n",
    "- This will predict the first test scaled data as we have split the data from the same set"
   ]
  },
  {
   "cell_type": "code",
   "execution_count": 53,
   "id": "7bb48540",
   "metadata": {},
   "outputs": [
    {
     "data": {
      "text/plain": [
       "(50, 1)"
      ]
     },
     "execution_count": 53,
     "metadata": {},
     "output_type": "execute_result"
    }
   ],
   "source": [
    "# check the shape of the first_eval_batch\n",
    "first_eval_batch.shape"
   ]
  },
  {
   "cell_type": "markdown",
   "id": "95881074",
   "metadata": {},
   "source": [
    "- We will need to reshape our data for the model to accept and predict\n",
    "- desired shape : (1,length,n_features)\n",
    "- First 1 is the number of batch, second 'length' is the length of the batch or number of samples in the batch and n_features"
   ]
  },
  {
   "cell_type": "code",
   "execution_count": 55,
   "id": "9dd9a04d",
   "metadata": {},
   "outputs": [],
   "source": [
    "first_eval_batch = first_eval_batch.reshape(1,length,n_features)"
   ]
  },
  {
   "cell_type": "code",
   "execution_count": 56,
   "id": "21f0aee6",
   "metadata": {},
   "outputs": [
    {
     "data": {
      "text/plain": [
       "(1, 50, 1)"
      ]
     },
     "execution_count": 56,
     "metadata": {},
     "output_type": "execute_result"
    }
   ],
   "source": [
    "# check the shape of the first_eval_batch\n",
    "first_eval_batch.shape"
   ]
  },
  {
   "cell_type": "code",
   "execution_count": 57,
   "id": "ae286277",
   "metadata": {},
   "outputs": [
    {
     "name": "stdout",
     "output_type": "stream",
     "text": [
      "1/1 [==============================] - 1s 709ms/step\n"
     ]
    },
    {
     "data": {
      "text/plain": [
       "array([[0.9657349]], dtype=float32)"
      ]
     },
     "execution_count": 57,
     "metadata": {},
     "output_type": "execute_result"
    }
   ],
   "source": [
    "# now we can pass our input for prediction\n",
    "model.predict(first_eval_batch)"
   ]
  },
  {
   "cell_type": "markdown",
   "id": "f5b72a5e",
   "metadata": {},
   "source": [
    "- This basically is the predicted result and this is in scaled version.\n",
    "- So, we should compare this with our first value in the scaled test data i.e. test_scaled[0]"
   ]
  },
  {
   "cell_type": "code",
   "execution_count": 58,
   "id": "6dfc9390",
   "metadata": {},
   "outputs": [
    {
     "data": {
      "text/plain": [
       "array([0.96881346])"
      ]
     },
     "execution_count": 58,
     "metadata": {},
     "output_type": "execute_result"
    }
   ],
   "source": [
    "test_scaled[0]"
   ]
  },
  {
   "cell_type": "markdown",
   "id": "61aa753b",
   "metadata": {},
   "source": [
    "- We are kind of doing a good job here.\n",
    "- Now in order to test all the test samples, we will need to use a for loop to move our test data to acomodate the new predicted data in the test dataset and then remove the first element in the earlier test data (which is replaced by the new predicted result appended at the end of the test data)"
   ]
  },
  {
   "cell_type": "code",
   "execution_count": 59,
   "id": "995ce940",
   "metadata": {},
   "outputs": [],
   "source": [
    "# testing the append logic\n",
    "\n",
    "new_pred = 99\n",
    "first_eval_batch = train_scaled[-length:]\n",
    "current_batch = first_eval_batch.reshape(1,length,n_features)"
   ]
  },
  {
   "cell_type": "code",
   "execution_count": 60,
   "id": "41df4380",
   "metadata": {},
   "outputs": [
    {
     "data": {
      "text/plain": [
       "array([[[7.58231939e-01],\n",
       "        [7.15100328e-01],\n",
       "        [6.69904579e-01],\n",
       "        [6.23078403e-01],\n",
       "        [5.75071160e-01],\n",
       "        [5.26343541e-01],\n",
       "        [4.77363154e-01],\n",
       "        [4.28600029e-01],\n",
       "        [3.80522113e-01],\n",
       "        [3.33590775e-01],\n",
       "        [2.88256385e-01],\n",
       "        [2.44953986e-01],\n",
       "        [2.04099121e-01],\n",
       "        [1.66083845e-01],\n",
       "        [1.31272967e-01],\n",
       "        [1.00000541e-01],\n",
       "        [7.25666685e-02],\n",
       "        [4.92346131e-02],\n",
       "        [3.02282766e-02],\n",
       "        [1.57300499e-02],\n",
       "        [5.87906249e-03],\n",
       "        [7.69847560e-04],\n",
       "        [4.51434767e-04],\n",
       "        [4.92687970e-03],\n",
       "        [1.41532346e-02],\n",
       "        [2.80419604e-02],\n",
       "        [4.64597765e-02],\n",
       "        [6.92299398e-02],\n",
       "        [9.61339405e-02],\n",
       "        [1.26913599e-01],\n",
       "        [1.61273545e-01],\n",
       "        [1.98884049e-01],\n",
       "        [2.39384188e-01],\n",
       "        [2.82385311e-01],\n",
       "        [3.27474765e-01],\n",
       "        [3.74219857e-01],\n",
       "        [4.22172007e-01],\n",
       "        [4.70871051e-01],\n",
       "        [5.19849658e-01],\n",
       "        [5.68637812e-01],\n",
       "        [6.16767329e-01],\n",
       "        [6.63776341e-01],\n",
       "        [7.09213735e-01],\n",
       "        [7.52643480e-01],\n",
       "        [7.93648810e-01],\n",
       "        [8.31836225e-01],\n",
       "        [8.66839267e-01],\n",
       "        [8.98322034e-01],\n",
       "        [9.25982410e-01],\n",
       "        [9.49554955e-01]]])"
      ]
     },
     "execution_count": 60,
     "metadata": {},
     "output_type": "execute_result"
    }
   ],
   "source": [
    "current_batch"
   ]
  },
  {
   "cell_type": "markdown",
   "id": "e4a7fb97",
   "metadata": {},
   "source": [
    "- Here we can the first and last element of current_batch is 7.582 and 9.48..\n",
    "- Lets see how we can append our dummy new pred, 99 at the last of this current batch and remove the first element from it"
   ]
  },
  {
   "cell_type": "code",
   "execution_count": 61,
   "id": "7ed8517c",
   "metadata": {},
   "outputs": [
    {
     "data": {
      "text/plain": [
       "99"
      ]
     },
     "execution_count": 61,
     "metadata": {},
     "output_type": "execute_result"
    }
   ],
   "source": [
    "new_pred"
   ]
  },
  {
   "cell_type": "code",
   "execution_count": 63,
   "id": "87481040",
   "metadata": {},
   "outputs": [
    {
     "data": {
      "text/plain": [
       "array([[[7.15100328e-01],\n",
       "        [6.69904579e-01],\n",
       "        [6.23078403e-01],\n",
       "        [5.75071160e-01],\n",
       "        [5.26343541e-01],\n",
       "        [4.77363154e-01],\n",
       "        [4.28600029e-01],\n",
       "        [3.80522113e-01],\n",
       "        [3.33590775e-01],\n",
       "        [2.88256385e-01],\n",
       "        [2.44953986e-01],\n",
       "        [2.04099121e-01],\n",
       "        [1.66083845e-01],\n",
       "        [1.31272967e-01],\n",
       "        [1.00000541e-01],\n",
       "        [7.25666685e-02],\n",
       "        [4.92346131e-02],\n",
       "        [3.02282766e-02],\n",
       "        [1.57300499e-02],\n",
       "        [5.87906249e-03],\n",
       "        [7.69847560e-04],\n",
       "        [4.51434767e-04],\n",
       "        [4.92687970e-03],\n",
       "        [1.41532346e-02],\n",
       "        [2.80419604e-02],\n",
       "        [4.64597765e-02],\n",
       "        [6.92299398e-02],\n",
       "        [9.61339405e-02],\n",
       "        [1.26913599e-01],\n",
       "        [1.61273545e-01],\n",
       "        [1.98884049e-01],\n",
       "        [2.39384188e-01],\n",
       "        [2.82385311e-01],\n",
       "        [3.27474765e-01],\n",
       "        [3.74219857e-01],\n",
       "        [4.22172007e-01],\n",
       "        [4.70871051e-01],\n",
       "        [5.19849658e-01],\n",
       "        [5.68637812e-01],\n",
       "        [6.16767329e-01],\n",
       "        [6.63776341e-01],\n",
       "        [7.09213735e-01],\n",
       "        [7.52643480e-01],\n",
       "        [7.93648810e-01],\n",
       "        [8.31836225e-01],\n",
       "        [8.66839267e-01],\n",
       "        [8.98322034e-01],\n",
       "        [9.25982410e-01],\n",
       "        [9.49554955e-01],\n",
       "        [9.90000000e+01]]])"
      ]
     },
     "execution_count": 63,
     "metadata": {},
     "output_type": "execute_result"
    }
   ],
   "source": [
    "current_batch = np.append(current_batch[:,1:,:],[[[new_pred]]], axis = 1)\n",
    "current_batch"
   ]
  },
  {
   "cell_type": "markdown",
   "id": "e01ae1a7",
   "metadata": {},
   "source": [
    "- Now we can see our new_pred value added at the last and the first element is removed.\n",
    "- np.append(current_batch[:,1:,:],[[[new_pred]]], axis = 1)\n",
    "- here in current_batch[:,1:,:] --> it means we are keeping the first element the number of samples = 1 the same\n",
    "- and the last element n_features the same\n",
    "- but the middle element, we are passing only the elements from 1st row to last i.e. removing the first row and appending the new pred element to the last"
   ]
  },
  {
   "cell_type": "code",
   "execution_count": 64,
   "id": "2fd5d6bc",
   "metadata": {},
   "outputs": [
    {
     "name": "stdout",
     "output_type": "stream",
     "text": [
      "1/1 [==============================] - 0s 103ms/step\n",
      "1/1 [==============================] - 0s 97ms/step\n",
      "1/1 [==============================] - 0s 47ms/step\n",
      "1/1 [==============================] - 0s 50ms/step\n",
      "1/1 [==============================] - 0s 18ms/step\n",
      "1/1 [==============================] - 0s 19ms/step\n",
      "1/1 [==============================] - 0s 18ms/step\n",
      "1/1 [==============================] - 0s 19ms/step\n",
      "1/1 [==============================] - 0s 17ms/step\n",
      "1/1 [==============================] - 0s 18ms/step\n",
      "1/1 [==============================] - 0s 19ms/step\n",
      "1/1 [==============================] - 0s 21ms/step\n",
      "1/1 [==============================] - 0s 19ms/step\n",
      "1/1 [==============================] - 0s 18ms/step\n",
      "1/1 [==============================] - 0s 19ms/step\n",
      "1/1 [==============================] - 0s 17ms/step\n",
      "1/1 [==============================] - 0s 20ms/step\n",
      "1/1 [==============================] - 0s 18ms/step\n",
      "1/1 [==============================] - 0s 18ms/step\n",
      "1/1 [==============================] - 0s 18ms/step\n",
      "1/1 [==============================] - 0s 18ms/step\n",
      "1/1 [==============================] - 0s 18ms/step\n",
      "1/1 [==============================] - 0s 19ms/step\n",
      "1/1 [==============================] - 0s 21ms/step\n",
      "1/1 [==============================] - 0s 19ms/step\n",
      "1/1 [==============================] - 0s 20ms/step\n",
      "1/1 [==============================] - 0s 19ms/step\n",
      "1/1 [==============================] - 0s 20ms/step\n",
      "1/1 [==============================] - 0s 19ms/step\n",
      "1/1 [==============================] - 0s 19ms/step\n",
      "1/1 [==============================] - 0s 18ms/step\n",
      "1/1 [==============================] - 0s 18ms/step\n",
      "1/1 [==============================] - 0s 18ms/step\n",
      "1/1 [==============================] - 0s 19ms/step\n",
      "1/1 [==============================] - 0s 22ms/step\n",
      "1/1 [==============================] - 0s 21ms/step\n",
      "1/1 [==============================] - 0s 21ms/step\n",
      "1/1 [==============================] - 0s 23ms/step\n",
      "1/1 [==============================] - 0s 20ms/step\n",
      "1/1 [==============================] - 0s 20ms/step\n",
      "1/1 [==============================] - 0s 21ms/step\n",
      "1/1 [==============================] - 0s 24ms/step\n",
      "1/1 [==============================] - 0s 22ms/step\n",
      "1/1 [==============================] - 0s 21ms/step\n",
      "1/1 [==============================] - 0s 19ms/step\n",
      "1/1 [==============================] - 0s 20ms/step\n",
      "1/1 [==============================] - 0s 21ms/step\n",
      "1/1 [==============================] - 0s 21ms/step\n",
      "1/1 [==============================] - 0s 22ms/step\n",
      "1/1 [==============================] - 0s 23ms/step\n"
     ]
    }
   ],
   "source": [
    "# we can use a for loop to do the same for all the samples in test data\n",
    "\n",
    "test_predictions = []\n",
    "\n",
    "first_eval_batch = train_scaled[-length:]\n",
    "current_batch = first_eval_batch.reshape(1,length,n_features)\n",
    "\n",
    "for i in range(len(test)):\n",
    "    # get the prediction for the current batch\n",
    "    pred_value = model.predict(current_batch)[0]\n",
    "    \n",
    "    # append the predicted value in test_predictions list\n",
    "    test_predictions.append(pred_value)\n",
    "    \n",
    "    # update the current batch to remove the first element and add the new pred value to the last\n",
    "    # beware of the braces\n",
    "    \n",
    "    current_batch = np.append(current_batch[:,1:,:], [[pred_value]], axis = 1)"
   ]
  },
  {
   "cell_type": "code",
   "execution_count": 65,
   "id": "40032e31",
   "metadata": {},
   "outputs": [
    {
     "data": {
      "text/plain": [
       "[array([0.9657349], dtype=float32),\n",
       " array([0.97877127], dtype=float32),\n",
       " array([0.9857656], dtype=float32),\n",
       " array([0.9876997], dtype=float32),\n",
       " array([0.9839848], dtype=float32),\n",
       " array([0.9757794], dtype=float32),\n",
       " array([0.96258974], dtype=float32),\n",
       " array([0.9453342], dtype=float32),\n",
       " array([0.9234446], dtype=float32),\n",
       " array([0.8986561], dtype=float32),\n",
       " array([0.869863], dtype=float32),\n",
       " array([0.8387954], dtype=float32),\n",
       " array([0.80468816], dtype=float32),\n",
       " array([0.769013], dtype=float32),\n",
       " array([0.7312231], dtype=float32),\n",
       " array([0.69238144], dtype=float32),\n",
       " array([0.6522152], dtype=float32),\n",
       " array([0.61188394], dtype=float32),\n",
       " array([0.5705321], dtype=float32),\n",
       " array([0.52985275], dtype=float32),\n",
       " array([0.48864824], dtype=float32),\n",
       " array([0.44875163], dtype=float32),\n",
       " array([0.40888596], dtype=float32),\n",
       " array([0.37105957], dtype=float32),\n",
       " array([0.3339233], dtype=float32),\n",
       " array([0.29925013], dtype=float32),\n",
       " array([0.26582778], dtype=float32),\n",
       " array([0.23576139], dtype=float32),\n",
       " array([0.20713854], dtype=float32),\n",
       " array([0.18235959], dtype=float32),\n",
       " array([0.15923153], dtype=float32),\n",
       " array([0.14037861], dtype=float32),\n",
       " array([0.12279677], dtype=float32),\n",
       " array([0.10965753], dtype=float32),\n",
       " array([0.09776054], dtype=float32),\n",
       " array([0.09041829], dtype=float32),\n",
       " array([0.08391112], dtype=float32),\n",
       " array([0.08252985], dtype=float32),\n",
       " array([0.08190386], dtype=float32),\n",
       " array([0.08687049], dtype=float32),\n",
       " array([0.09257364], dtype=float32),\n",
       " array([0.10494936], dtype=float32),\n",
       " array([0.11792415], dtype=float32),\n",
       " array([0.13820522], dtype=float32),\n",
       " array([0.15907924], dtype=float32),\n",
       " array([0.18796347], dtype=float32),\n",
       " array([0.21655269], dtype=float32),\n",
       " array([0.25332895], dtype=float32),\n",
       " array([0.2888647], dtype=float32),\n",
       " array([0.33226356], dtype=float32)]"
      ]
     },
     "execution_count": 65,
     "metadata": {},
     "output_type": "execute_result"
    }
   ],
   "source": [
    "# check the values for test predictions\n",
    "\n",
    "test_predictions"
   ]
  },
  {
   "cell_type": "code",
   "execution_count": 66,
   "id": "9bd4dee1",
   "metadata": {},
   "outputs": [],
   "source": [
    "# but this test_predictions are based on scaled data, so we can inverse transform this\n",
    "true_predictions = scaler.inverse_transform(test_predictions)"
   ]
  },
  {
   "cell_type": "markdown",
   "id": "53703084",
   "metadata": {},
   "source": [
    "- Now true_predictions has the predicted values in the original scale\n",
    "- Now we can compare these values with our original test data"
   ]
  },
  {
   "cell_type": "code",
   "execution_count": 68,
   "id": "83dc5294",
   "metadata": {},
   "outputs": [
    {
     "data": {
      "text/html": [
       "<div>\n",
       "<style scoped>\n",
       "    .dataframe tbody tr th:only-of-type {\n",
       "        vertical-align: middle;\n",
       "    }\n",
       "\n",
       "    .dataframe tbody tr th {\n",
       "        vertical-align: top;\n",
       "    }\n",
       "\n",
       "    .dataframe thead th {\n",
       "        text-align: right;\n",
       "    }\n",
       "</style>\n",
       "<table border=\"1\" class=\"dataframe\">\n",
       "  <thead>\n",
       "    <tr style=\"text-align: right;\">\n",
       "      <th></th>\n",
       "      <th>Sine</th>\n",
       "    </tr>\n",
       "  </thead>\n",
       "  <tbody>\n",
       "    <tr>\n",
       "      <th>45.198</th>\n",
       "      <td>0.937614</td>\n",
       "    </tr>\n",
       "    <tr>\n",
       "      <th>45.296</th>\n",
       "      <td>0.967133</td>\n",
       "    </tr>\n",
       "    <tr>\n",
       "      <th>45.394</th>\n",
       "      <td>0.987371</td>\n",
       "    </tr>\n",
       "    <tr>\n",
       "      <th>45.492</th>\n",
       "      <td>0.998134</td>\n",
       "    </tr>\n",
       "    <tr>\n",
       "      <th>45.590</th>\n",
       "      <td>0.999319</td>\n",
       "    </tr>\n",
       "  </tbody>\n",
       "</table>\n",
       "</div>"
      ],
      "text/plain": [
       "            Sine\n",
       "45.198  0.937614\n",
       "45.296  0.967133\n",
       "45.394  0.987371\n",
       "45.492  0.998134\n",
       "45.590  0.999319"
      ]
     },
     "execution_count": 68,
     "metadata": {},
     "output_type": "execute_result"
    }
   ],
   "source": [
    "# we have the original test data\n",
    "# we can add a column for these true predictions\n",
    "test.head()"
   ]
  },
  {
   "cell_type": "code",
   "execution_count": 69,
   "id": "61e818a3",
   "metadata": {},
   "outputs": [
    {
     "name": "stderr",
     "output_type": "stream",
     "text": [
      "C:\\Users\\budha\\AppData\\Local\\Temp\\ipykernel_9832\\1217403842.py:1: SettingWithCopyWarning: \n",
      "A value is trying to be set on a copy of a slice from a DataFrame.\n",
      "Try using .loc[row_indexer,col_indexer] = value instead\n",
      "\n",
      "See the caveats in the documentation: https://pandas.pydata.org/pandas-docs/stable/user_guide/indexing.html#returning-a-view-versus-a-copy\n",
      "  test['true_preds'] = true_predictions\n"
     ]
    },
    {
     "data": {
      "text/html": [
       "<div>\n",
       "<style scoped>\n",
       "    .dataframe tbody tr th:only-of-type {\n",
       "        vertical-align: middle;\n",
       "    }\n",
       "\n",
       "    .dataframe tbody tr th {\n",
       "        vertical-align: top;\n",
       "    }\n",
       "\n",
       "    .dataframe thead th {\n",
       "        text-align: right;\n",
       "    }\n",
       "</style>\n",
       "<table border=\"1\" class=\"dataframe\">\n",
       "  <thead>\n",
       "    <tr style=\"text-align: right;\">\n",
       "      <th></th>\n",
       "      <th>Sine</th>\n",
       "      <th>true_preds</th>\n",
       "    </tr>\n",
       "  </thead>\n",
       "  <tbody>\n",
       "    <tr>\n",
       "      <th>45.198</th>\n",
       "      <td>0.937614</td>\n",
       "      <td>0.931457</td>\n",
       "    </tr>\n",
       "    <tr>\n",
       "      <th>45.296</th>\n",
       "      <td>0.967133</td>\n",
       "      <td>0.957529</td>\n",
       "    </tr>\n",
       "    <tr>\n",
       "      <th>45.394</th>\n",
       "      <td>0.987371</td>\n",
       "      <td>0.971518</td>\n",
       "    </tr>\n",
       "    <tr>\n",
       "      <th>45.492</th>\n",
       "      <td>0.998134</td>\n",
       "      <td>0.975386</td>\n",
       "    </tr>\n",
       "    <tr>\n",
       "      <th>45.590</th>\n",
       "      <td>0.999319</td>\n",
       "      <td>0.967957</td>\n",
       "    </tr>\n",
       "  </tbody>\n",
       "</table>\n",
       "</div>"
      ],
      "text/plain": [
       "            Sine  true_preds\n",
       "45.198  0.937614    0.931457\n",
       "45.296  0.967133    0.957529\n",
       "45.394  0.987371    0.971518\n",
       "45.492  0.998134    0.975386\n",
       "45.590  0.999319    0.967957"
      ]
     },
     "execution_count": 69,
     "metadata": {},
     "output_type": "execute_result"
    }
   ],
   "source": [
    "test['true_preds'] = true_predictions\n",
    "test.head()"
   ]
  },
  {
   "cell_type": "code",
   "execution_count": 70,
   "id": "5b76965d",
   "metadata": {},
   "outputs": [
    {
     "data": {
      "text/plain": [
       "<AxesSubplot:>"
      ]
     },
     "execution_count": 70,
     "metadata": {},
     "output_type": "execute_result"
    },
    {
     "data": {
      "text/plain": [
       "<Figure size 576x432 with 0 Axes>"
      ]
     },
     "metadata": {},
     "output_type": "display_data"
    },
    {
     "data": {
      "image/png": "[encoded data removed]",
      "text/plain": [
       "<Figure size 432x288 with 1 Axes>"
      ]
     },
     "metadata": {
      "needs_background": "light"
     },
     "output_type": "display_data"
    }
   ],
   "source": [
    "# now we can plot and compare between true and predicted values\n",
    "\n",
    "plt.figure(figsize=(8,6))\n",
    "test.plot()"
   ]
  },
  {
   "cell_type": "markdown",
   "id": "77d78e4c",
   "metadata": {},
   "source": [
    "- We can see that our predictions are doing fairy well, as it is able to mimick the sine wave nature and follows along the true sine values\n",
    "- Also, the predictions are much closer at the initial data points but tends to be deviating away in the subsequent data points.\n",
    "- This is because, as we go further and further, the prediction is made on the predicted data and eventually some deviation will come"
   ]
  },
  {
   "cell_type": "markdown",
   "id": "f8c7df02",
   "metadata": {},
   "source": [
    "## Optimize using LSTM\n",
    "- Also, we will try to implement Early Stopping here"
   ]
  },
  {
   "cell_type": "code",
   "execution_count": 71,
   "id": "300bb695",
   "metadata": {},
   "outputs": [],
   "source": [
    "# import LSTM and early Stop\n",
    "\n",
    "from tensorflow.keras.layers import LSTM\n",
    "from tensorflow.keras.callbacks import EarlyStopping"
   ]
  },
  {
   "cell_type": "code",
   "execution_count": 72,
   "id": "9baa432f",
   "metadata": {},
   "outputs": [],
   "source": [
    "# initialize early stop\n",
    "early_stop = EarlyStopping(monitor='val_loss', patience=2)"
   ]
  },
  {
   "cell_type": "markdown",
   "id": "56898a3e",
   "metadata": {},
   "source": [
    "- Now, earlier we passed only the scaled train set (as part of the generator) because we don't need the validation data to compute the loss against it for early stopping\n",
    "- In order to add early stop, we will need to prepare similar generator for validation data as well\n",
    "- If we do the following way, it will give error. "
   ]
  },
  {
   "cell_type": "code",
   "execution_count": 73,
   "id": "098692e2",
   "metadata": {},
   "outputs": [
    {
     "ename": "ValueError",
     "evalue": "`start_index+length=50 > end_index=49` is disallowed, as no part of the sequence would be left to be used as current step.",
     "output_type": "error",
     "traceback": [
      "\u001b[1;31m---------------------------------------------------------------------------\u001b[0m",
      "\u001b[1;31mValueError\u001b[0m                                Traceback (most recent call last)",
      "Input \u001b[1;32mIn [73]\u001b[0m, in \u001b[0;36m<cell line: 3>\u001b[1;34m()\u001b[0m\n\u001b[0;32m      1\u001b[0m length\u001b[38;5;241m=\u001b[39m\u001b[38;5;241m50\u001b[39m\n\u001b[0;32m      2\u001b[0m batch_size\u001b[38;5;241m=\u001b[39mbatch_size\n\u001b[1;32m----> 3\u001b[0m generator\u001b[38;5;241m=\u001b[39m\u001b[43mTimeseriesGenerator\u001b[49m\u001b[43m(\u001b[49m\u001b[43mdata\u001b[49m\u001b[38;5;241;43m=\u001b[39;49m\u001b[43mtest_scaled\u001b[49m\u001b[43m,\u001b[49m\u001b[43mtargets\u001b[49m\u001b[38;5;241;43m=\u001b[39;49m\u001b[43mtest_scaled\u001b[49m\u001b[43m,\u001b[49m\u001b[43mlength\u001b[49m\u001b[38;5;241;43m=\u001b[39;49m\u001b[43mlength\u001b[49m\u001b[43m,\u001b[49m\u001b[43mbatch_size\u001b[49m\u001b[38;5;241;43m=\u001b[39;49m\u001b[43mbatch_size\u001b[49m\u001b[43m)\u001b[49m\n",
      "File \u001b[1;32mc:\\users\\budha\\desktop\\learnings\\tensorflow\\my_env\\lib\\site-packages\\keras\\preprocessing\\sequence.py:154\u001b[0m, in \u001b[0;36mTimeseriesGenerator.__init__\u001b[1;34m(self, data, targets, length, sampling_rate, stride, start_index, end_index, shuffle, reverse, batch_size)\u001b[0m\n\u001b[0;32m    151\u001b[0m \u001b[38;5;28mself\u001b[39m\u001b[38;5;241m.\u001b[39mbatch_size \u001b[38;5;241m=\u001b[39m batch_size\n\u001b[0;32m    153\u001b[0m \u001b[38;5;28;01mif\u001b[39;00m \u001b[38;5;28mself\u001b[39m\u001b[38;5;241m.\u001b[39mstart_index \u001b[38;5;241m>\u001b[39m \u001b[38;5;28mself\u001b[39m\u001b[38;5;241m.\u001b[39mend_index:\n\u001b[1;32m--> 154\u001b[0m   \u001b[38;5;28;01mraise\u001b[39;00m \u001b[38;5;167;01mValueError\u001b[39;00m(\u001b[38;5;124m'\u001b[39m\u001b[38;5;124m`start_index+length=\u001b[39m\u001b[38;5;132;01m%i\u001b[39;00m\u001b[38;5;124m > end_index=\u001b[39m\u001b[38;5;132;01m%i\u001b[39;00m\u001b[38;5;124m` \u001b[39m\u001b[38;5;124m'\u001b[39m\n\u001b[0;32m    155\u001b[0m                    \u001b[38;5;124m'\u001b[39m\u001b[38;5;124mis disallowed, as no part of the sequence \u001b[39m\u001b[38;5;124m'\u001b[39m\n\u001b[0;32m    156\u001b[0m                    \u001b[38;5;124m'\u001b[39m\u001b[38;5;124mwould be left to be used as current step.\u001b[39m\u001b[38;5;124m'\u001b[39m \u001b[38;5;241m%\u001b[39m\n\u001b[0;32m    157\u001b[0m                    (\u001b[38;5;28mself\u001b[39m\u001b[38;5;241m.\u001b[39mstart_index, \u001b[38;5;28mself\u001b[39m\u001b[38;5;241m.\u001b[39mend_index))\n",
      "\u001b[1;31mValueError\u001b[0m: `start_index+length=50 > end_index=49` is disallowed, as no part of the sequence would be left to be used as current step."
     ]
    }
   ],
   "source": [
    "length=50\n",
    "batch_size=batch_size\n",
    "generator=TimeseriesGenerator(data=test_scaled,targets=test_scaled,length=length,batch_size=batch_size)"
   ]
  },
  {
   "cell_type": "markdown",
   "id": "7f8a7529",
   "metadata": {},
   "source": [
    "- This is because we have a length of size 50 and our test data is also of length 50. \n",
    "- The generator needs at least one sample of data for validating, which means 50 - 1 = 49 (this is the minimum length of our test data that generator is expecting)\n",
    "- which is less than the length (of value 50)\n",
    "- so, we need at least length + 1 = 51 of test data size OR we can reduce our length size to 49, so that it match up\n",
    "- To do this, we will need to create a new generator for the scaled train data as well "
   ]
  },
  {
   "cell_type": "code",
   "execution_count": 74,
   "id": "9da58d99",
   "metadata": {},
   "outputs": [],
   "source": [
    "# create new train geneator and test generator\n",
    "\n",
    "length=49\n",
    "batch_size=batch_size\n",
    "train_generator=TimeseriesGenerator(data=train_scaled,targets=train_scaled,length=length,batch_size=batch_size)\n",
    "\n",
    "test_generator=TimeseriesGenerator(data=test_scaled,targets=test_scaled,length=length,batch_size=batch_size)"
   ]
  },
  {
   "cell_type": "code",
   "execution_count": 75,
   "id": "07288908",
   "metadata": {},
   "outputs": [],
   "source": [
    "# we will now create new model instance\n",
    "# note: here we will use LSTM instead of SimpleRNN\n",
    "\n",
    "# initialize model\n",
    "model = Sequential()\n",
    "\n",
    "# add RNN layer\n",
    "# units : we normally provide similar number with the length: meaning number of samples to consider\n",
    "# input_shape is mandatory to pass\n",
    "model.add(LSTM(units=49,input_shape=(length,n_features)))\n",
    "\n",
    "# add layer for output\n",
    "model.add(Dense(1))\n",
    "\n",
    "# compile\n",
    "# loss = mse : since it is a continuous value that we are trying to predict\n",
    "model.compile(optimizer='adam', loss='mse')"
   ]
  },
  {
   "cell_type": "code",
   "execution_count": 76,
   "id": "d5d11d5f",
   "metadata": {},
   "outputs": [
    {
     "name": "stdout",
     "output_type": "stream",
     "text": [
      "Epoch 1/20\n"
     ]
    },
    {
     "name": "stderr",
     "output_type": "stream",
     "text": [
      "C:\\Users\\budha\\AppData\\Local\\Temp\\ipykernel_9832\\3494360714.py:3: UserWarning: `Model.fit_generator` is deprecated and will be removed in a future version. Please use `Model.fit`, which supports generators.\n",
      "  model.fit_generator(train_generator,\n"
     ]
    },
    {
     "name": "stdout",
     "output_type": "stream",
     "text": [
      "201/201 [==============================] - 6s 16ms/step - loss: 0.0297 - val_loss: 4.8675e-04\n",
      "Epoch 2/20\n",
      "201/201 [==============================] - 3s 14ms/step - loss: 8.8142e-05 - val_loss: 2.1165e-05\n",
      "Epoch 3/20\n",
      "201/201 [==============================] - 3s 14ms/step - loss: 9.8811e-05 - val_loss: 1.7664e-04\n",
      "Epoch 4/20\n",
      "201/201 [==============================] - 3s 14ms/step - loss: 1.3502e-04 - val_loss: 1.3624e-05\n",
      "Epoch 5/20\n",
      "201/201 [==============================] - 3s 14ms/step - loss: 1.4608e-04 - val_loss: 7.4383e-06\n",
      "Epoch 6/20\n",
      "201/201 [==============================] - 3s 13ms/step - loss: 1.5195e-04 - val_loss: 7.9219e-06\n",
      "Epoch 7/20\n",
      "201/201 [==============================] - 3s 13ms/step - loss: 2.9533e-04 - val_loss: 2.1908e-04\n"
     ]
    },
    {
     "data": {
      "text/plain": [
       "<keras.callbacks.History at 0x16c2f2d4070>"
      ]
     },
     "execution_count": 76,
     "metadata": {},
     "output_type": "execute_result"
    }
   ],
   "source": [
    "# now fitting the model\n",
    "\n",
    "model.fit_generator(train_generator,\n",
    "                    epochs=20, # provide more number of epochs as we have added early stop\n",
    "                    validation_data=test_generator,\n",
    "                    callbacks=[early_stop]\n",
    "                   )"
   ]
  },
  {
   "cell_type": "code",
   "execution_count": 79,
   "id": "bc2b3f7b",
   "metadata": {},
   "outputs": [
    {
     "data": {
      "text/plain": [
       "<AxesSubplot:>"
      ]
     },
     "execution_count": 79,
     "metadata": {},
     "output_type": "execute_result"
    },
    {
     "data": {
      "image/png": "[encoded data removed]",
      "text/plain": [
       "<Figure size 432x288 with 1 Axes>"
      ]
     },
     "metadata": {
      "needs_background": "light"
     },
     "output_type": "display_data"
    }
   ],
   "source": [
    "pd.DataFrame(model.history.history).plot()"
   ]
  },
  {
   "cell_type": "markdown",
   "id": "aa47c7b4",
   "metadata": {},
   "source": [
    "## Evaluating the model"
   ]
  },
  {
   "cell_type": "code",
   "execution_count": 80,
   "id": "a31f32c9",
   "metadata": {},
   "outputs": [
    {
     "name": "stdout",
     "output_type": "stream",
     "text": [
      "1/1 [==============================] - 0s 366ms/step\n",
      "1/1 [==============================] - 0s 20ms/step\n",
      "1/1 [==============================] - 0s 18ms/step\n",
      "1/1 [==============================] - 0s 17ms/step\n",
      "1/1 [==============================] - 0s 19ms/step\n",
      "1/1 [==============================] - 0s 20ms/step\n",
      "1/1 [==============================] - 0s 19ms/step\n",
      "1/1 [==============================] - 0s 20ms/step\n",
      "1/1 [==============================] - 0s 19ms/step\n",
      "1/1 [==============================] - 0s 20ms/step\n",
      "1/1 [==============================] - 0s 19ms/step\n",
      "1/1 [==============================] - 0s 17ms/step\n",
      "1/1 [==============================] - 0s 21ms/step\n",
      "1/1 [==============================] - 0s 20ms/step\n",
      "1/1 [==============================] - 0s 20ms/step\n",
      "1/1 [==============================] - 0s 20ms/step\n",
      "1/1 [==============================] - 0s 21ms/step\n",
      "1/1 [==============================] - 0s 20ms/step\n",
      "1/1 [==============================] - 0s 19ms/step\n",
      "1/1 [==============================] - 0s 19ms/step\n",
      "1/1 [==============================] - 0s 17ms/step\n",
      "1/1 [==============================] - 0s 19ms/step\n",
      "1/1 [==============================] - 0s 19ms/step\n",
      "1/1 [==============================] - 0s 18ms/step\n",
      "1/1 [==============================] - 0s 17ms/step\n",
      "1/1 [==============================] - 0s 19ms/step\n",
      "1/1 [==============================] - 0s 19ms/step\n",
      "1/1 [==============================] - 0s 19ms/step\n",
      "1/1 [==============================] - 0s 20ms/step\n",
      "1/1 [==============================] - 0s 24ms/step\n",
      "1/1 [==============================] - 0s 20ms/step\n",
      "1/1 [==============================] - 0s 18ms/step\n",
      "1/1 [==============================] - 0s 19ms/step\n",
      "1/1 [==============================] - 0s 23ms/step\n",
      "1/1 [==============================] - 0s 26ms/step\n",
      "1/1 [==============================] - 0s 19ms/step\n",
      "1/1 [==============================] - 0s 23ms/step\n",
      "1/1 [==============================] - 0s 20ms/step\n",
      "1/1 [==============================] - 0s 18ms/step\n",
      "1/1 [==============================] - 0s 21ms/step\n",
      "1/1 [==============================] - 0s 20ms/step\n",
      "1/1 [==============================] - 0s 24ms/step\n",
      "1/1 [==============================] - 0s 20ms/step\n",
      "1/1 [==============================] - 0s 20ms/step\n",
      "1/1 [==============================] - 0s 21ms/step\n",
      "1/1 [==============================] - 0s 21ms/step\n",
      "1/1 [==============================] - 0s 23ms/step\n",
      "1/1 [==============================] - 0s 23ms/step\n",
      "1/1 [==============================] - 0s 22ms/step\n",
      "1/1 [==============================] - 0s 21ms/step\n"
     ]
    }
   ],
   "source": [
    "# we can use a for loop to do the same for all the samples in test data\n",
    "\n",
    "test_predictions = []\n",
    "\n",
    "first_eval_batch = train_scaled[-length:]\n",
    "current_batch = first_eval_batch.reshape(1,length,n_features)\n",
    "\n",
    "for i in range(len(test)):\n",
    "    # get the prediction for the current batch\n",
    "    pred_value = model.predict(current_batch)[0]\n",
    "    \n",
    "    # append the predicted value in test_predictions list\n",
    "    test_predictions.append(pred_value)\n",
    "    \n",
    "    # update the current batch to remove the first element and add the new pred value to the last\n",
    "    # beware of the braces\n",
    "    \n",
    "    current_batch = np.append(current_batch[:,1:,:], [[pred_value]], axis = 1)"
   ]
  },
  {
   "cell_type": "code",
   "execution_count": 82,
   "id": "f497b795",
   "metadata": {},
   "outputs": [],
   "source": [
    "true_preds = scaler.inverse_transform(test_predictions)"
   ]
  },
  {
   "cell_type": "code",
   "execution_count": 84,
   "id": "6a95ed0d",
   "metadata": {},
   "outputs": [
    {
     "name": "stderr",
     "output_type": "stream",
     "text": [
      "C:\\Users\\budha\\AppData\\Local\\Temp\\ipykernel_9832\\3575107731.py:2: SettingWithCopyWarning: \n",
      "A value is trying to be set on a copy of a slice from a DataFrame.\n",
      "Try using .loc[row_indexer,col_indexer] = value instead\n",
      "\n",
      "See the caveats in the documentation: https://pandas.pydata.org/pandas-docs/stable/user_guide/indexing.html#returning-a-view-versus-a-copy\n",
      "  test['LSTM preds'] = true_preds\n"
     ]
    },
    {
     "data": {
      "text/html": [
       "<div>\n",
       "<style scoped>\n",
       "    .dataframe tbody tr th:only-of-type {\n",
       "        vertical-align: middle;\n",
       "    }\n",
       "\n",
       "    .dataframe tbody tr th {\n",
       "        vertical-align: top;\n",
       "    }\n",
       "\n",
       "    .dataframe thead th {\n",
       "        text-align: right;\n",
       "    }\n",
       "</style>\n",
       "<table border=\"1\" class=\"dataframe\">\n",
       "  <thead>\n",
       "    <tr style=\"text-align: right;\">\n",
       "      <th></th>\n",
       "      <th>Sine</th>\n",
       "      <th>true_preds</th>\n",
       "      <th>LSTM preds</th>\n",
       "    </tr>\n",
       "  </thead>\n",
       "  <tbody>\n",
       "    <tr>\n",
       "      <th>45.198</th>\n",
       "      <td>0.937614</td>\n",
       "      <td>0.931457</td>\n",
       "      <td>0.932925</td>\n",
       "    </tr>\n",
       "    <tr>\n",
       "      <th>45.296</th>\n",
       "      <td>0.967133</td>\n",
       "      <td>0.957529</td>\n",
       "      <td>0.958727</td>\n",
       "    </tr>\n",
       "    <tr>\n",
       "      <th>45.394</th>\n",
       "      <td>0.987371</td>\n",
       "      <td>0.971518</td>\n",
       "      <td>0.974181</td>\n",
       "    </tr>\n",
       "    <tr>\n",
       "      <th>45.492</th>\n",
       "      <td>0.998134</td>\n",
       "      <td>0.975386</td>\n",
       "      <td>0.979225</td>\n",
       "    </tr>\n",
       "    <tr>\n",
       "      <th>45.590</th>\n",
       "      <td>0.999319</td>\n",
       "      <td>0.967957</td>\n",
       "      <td>0.973942</td>\n",
       "    </tr>\n",
       "  </tbody>\n",
       "</table>\n",
       "</div>"
      ],
      "text/plain": [
       "            Sine  true_preds  LSTM preds\n",
       "45.198  0.937614    0.931457    0.932925\n",
       "45.296  0.967133    0.957529    0.958727\n",
       "45.394  0.987371    0.971518    0.974181\n",
       "45.492  0.998134    0.975386    0.979225\n",
       "45.590  0.999319    0.967957    0.973942"
      ]
     },
     "execution_count": 84,
     "metadata": {},
     "output_type": "execute_result"
    }
   ],
   "source": [
    "# lets add another column to the test data for this LSTM model\n",
    "test['LSTM preds'] = true_preds\n",
    "test.head()"
   ]
  },
  {
   "cell_type": "code",
   "execution_count": 87,
   "id": "5442b7ce",
   "metadata": {},
   "outputs": [
    {
     "data": {
      "text/plain": [
       "<Figure size 720x576 with 0 Axes>"
      ]
     },
     "metadata": {},
     "output_type": "display_data"
    },
    {
     "data": {
      "image/png": "[encoded data removed]",
      "text/plain": [
       "<Figure size 432x288 with 1 Axes>"
      ]
     },
     "metadata": {
      "needs_background": "light"
     },
     "output_type": "display_data"
    }
   ],
   "source": [
    "# plot and compare\n",
    "plt.figure(figsize=(10, 8))\n",
    "test.plot()\n",
    "plt.show();"
   ]
  },
  {
   "cell_type": "markdown",
   "id": "a457cc22",
   "metadata": {},
   "source": [
    "- Here definitely, we can little improvement in the performance from the LSTM model as compared to our earlier model, normal RNN model"
   ]
  },
  {
   "cell_type": "markdown",
   "id": "d008057e",
   "metadata": {},
   "source": [
    "## Forecast"
   ]
  },
  {
   "cell_type": "markdown",
   "id": "5ca417a1",
   "metadata": {},
   "source": [
    "- Now lets say, we are happy with our model performance and ready to use it for forecasting\n",
    "- For this, we will create a new model using all the data in our dataset"
   ]
  },
  {
   "cell_type": "code",
   "execution_count": 88,
   "id": "766508c2",
   "metadata": {},
   "outputs": [
    {
     "data": {
      "text/html": [
       "<div>\n",
       "<style scoped>\n",
       "    .dataframe tbody tr th:only-of-type {\n",
       "        vertical-align: middle;\n",
       "    }\n",
       "\n",
       "    .dataframe tbody tr th {\n",
       "        vertical-align: top;\n",
       "    }\n",
       "\n",
       "    .dataframe thead th {\n",
       "        text-align: right;\n",
       "    }\n",
       "</style>\n",
       "<table border=\"1\" class=\"dataframe\">\n",
       "  <thead>\n",
       "    <tr style=\"text-align: right;\">\n",
       "      <th></th>\n",
       "      <th>Sine</th>\n",
       "    </tr>\n",
       "  </thead>\n",
       "  <tbody>\n",
       "    <tr>\n",
       "      <th>1.000</th>\n",
       "      <td>0.841471</td>\n",
       "    </tr>\n",
       "    <tr>\n",
       "      <th>1.098</th>\n",
       "      <td>0.890298</td>\n",
       "    </tr>\n",
       "    <tr>\n",
       "      <th>1.196</th>\n",
       "      <td>0.930582</td>\n",
       "    </tr>\n",
       "    <tr>\n",
       "      <th>1.294</th>\n",
       "      <td>0.961936</td>\n",
       "    </tr>\n",
       "    <tr>\n",
       "      <th>1.392</th>\n",
       "      <td>0.984058</td>\n",
       "    </tr>\n",
       "  </tbody>\n",
       "</table>\n",
       "</div>"
      ],
      "text/plain": [
       "           Sine\n",
       "1.000  0.841471\n",
       "1.098  0.890298\n",
       "1.196  0.930582\n",
       "1.294  0.961936\n",
       "1.392  0.984058"
      ]
     },
     "execution_count": 88,
     "metadata": {},
     "output_type": "execute_result"
    }
   ],
   "source": [
    "# we have our df\n",
    "df.head()"
   ]
  },
  {
   "cell_type": "code",
   "execution_count": 89,
   "id": "9035b422",
   "metadata": {},
   "outputs": [
    {
     "data": {
      "text/html": [
       "<style>#sk-container-id-1 {color: black;background-color: white;}#sk-container-id-1 pre{padding: 0;}#sk-container-id-1 div.sk-toggleable {background-color: white;}#sk-container-id-1 label.sk-toggleable__label {cursor: pointer;display: block;width: 100%;margin-bottom: 0;padding: 0.3em;box-sizing: border-box;text-align: center;}#sk-container-id-1 label.sk-toggleable__label-arrow:before {content: \"▸\";float: left;margin-right: 0.25em;color: #696969;}#sk-container-id-1 label.sk-toggleable__label-arrow:hover:before {color: black;}#sk-container-id-1 div.sk-estimator:hover label.sk-toggleable__label-arrow:before {color: black;}#sk-container-id-1 div.sk-toggleable__content {max-height: 0;max-width: 0;overflow: hidden;text-align: left;background-color: #f0f8ff;}#sk-container-id-1 div.sk-toggleable__content pre {margin: 0.2em;color: black;border-radius: 0.25em;background-color: #f0f8ff;}#sk-container-id-1 input.sk-toggleable__control:checked~div.sk-toggleable__content {max-height: 200px;max-width: 100%;overflow: auto;}#sk-container-id-1 input.sk-toggleable__control:checked~label.sk-toggleable__label-arrow:before {content: \"▾\";}#sk-container-id-1 div.sk-estimator input.sk-toggleable__control:checked~label.sk-toggleable__label {background-color: #d4ebff;}#sk-container-id-1 div.sk-label input.sk-toggleable__control:checked~label.sk-toggleable__label {background-color: #d4ebff;}#sk-container-id-1 input.sk-hidden--visually {border: 0;clip: rect(1px 1px 1px 1px);clip: rect(1px, 1px, 1px, 1px);height: 1px;margin: -1px;overflow: hidden;padding: 0;position: absolute;width: 1px;}#sk-container-id-1 div.sk-estimator {font-family: monospace;background-color: #f0f8ff;border: 1px dotted black;border-radius: 0.25em;box-sizing: border-box;margin-bottom: 0.5em;}#sk-container-id-1 div.sk-estimator:hover {background-color: #d4ebff;}#sk-container-id-1 div.sk-parallel-item::after {content: \"\";width: 100%;border-bottom: 1px solid gray;flex-grow: 1;}#sk-container-id-1 div.sk-label:hover label.sk-toggleable__label {background-color: #d4ebff;}#sk-container-id-1 div.sk-serial::before {content: \"\";position: absolute;border-left: 1px solid gray;box-sizing: border-box;top: 0;bottom: 0;left: 50%;z-index: 0;}#sk-container-id-1 div.sk-serial {display: flex;flex-direction: column;align-items: center;background-color: white;padding-right: 0.2em;padding-left: 0.2em;position: relative;}#sk-container-id-1 div.sk-item {position: relative;z-index: 1;}#sk-container-id-1 div.sk-parallel {display: flex;align-items: stretch;justify-content: center;background-color: white;position: relative;}#sk-container-id-1 div.sk-item::before, #sk-container-id-1 div.sk-parallel-item::before {content: \"\";position: absolute;border-left: 1px solid gray;box-sizing: border-box;top: 0;bottom: 0;left: 50%;z-index: -1;}#sk-container-id-1 div.sk-parallel-item {display: flex;flex-direction: column;z-index: 1;position: relative;background-color: white;}#sk-container-id-1 div.sk-parallel-item:first-child::after {align-self: flex-end;width: 50%;}#sk-container-id-1 div.sk-parallel-item:last-child::after {align-self: flex-start;width: 50%;}#sk-container-id-1 div.sk-parallel-item:only-child::after {width: 0;}#sk-container-id-1 div.sk-dashed-wrapped {border: 1px dashed gray;margin: 0 0.4em 0.5em 0.4em;box-sizing: border-box;padding-bottom: 0.4em;background-color: white;}#sk-container-id-1 div.sk-label label {font-family: monospace;font-weight: bold;display: inline-block;line-height: 1.2em;}#sk-container-id-1 div.sk-label-container {text-align: center;}#sk-container-id-1 div.sk-container {/* jupyter's `normalize.less` sets `[hidden] { display: none; }` but bootstrap.min.css set `[hidden] { display: none !important; }` so we also need the `!important` here to be able to override the default hidden behavior on the sphinx rendered scikit-learn.org. See: https://github.com/scikit-learn/scikit-learn/issues/21755 */display: inline-block !important;position: relative;}#sk-container-id-1 div.sk-text-repr-fallback {display: none;}</style><div id=\"sk-container-id-1\" class=\"sk-top-container\"><div class=\"sk-text-repr-fallback\"><pre>MinMaxScaler()</pre><b>In a Jupyter environment, please rerun this cell to show the HTML representation or trust the notebook. <br />On GitHub, the HTML representation is unable to render, please try loading this page with nbviewer.org.</b></div><div class=\"sk-container\" hidden><div class=\"sk-item\"><div class=\"sk-estimator sk-toggleable\"><input class=\"sk-toggleable__control sk-hidden--visually\" id=\"sk-estimator-id-1\" type=\"checkbox\" checked><label for=\"sk-estimator-id-1\" class=\"sk-toggleable__label sk-toggleable__label-arrow\">MinMaxScaler</label><div class=\"sk-toggleable__content\"><pre>MinMaxScaler()</pre></div></div></div></div></div>"
      ],
      "text/plain": [
       "MinMaxScaler()"
      ]
     },
     "execution_count": 89,
     "metadata": {},
     "output_type": "execute_result"
    }
   ],
   "source": [
    "# first lets scaled our full data\n",
    "full_scaler = MinMaxScaler()\n",
    "full_scaler.fit(df)"
   ]
  },
  {
   "cell_type": "code",
   "execution_count": 90,
   "id": "f75cd52b",
   "metadata": {},
   "outputs": [],
   "source": [
    "# create a full scaled data\n",
    "full_scaled_data = full_scaler.transform(df) "
   ]
  },
  {
   "cell_type": "code",
   "execution_count": 94,
   "id": "5ddeab5c",
   "metadata": {},
   "outputs": [],
   "source": [
    "# now create the generator with the all these data\n",
    "length = 50\n",
    "batch_size = 1\n",
    "final_generator = TimeseriesGenerator(full_scaled_data, full_scaled_data, length=length, batch_size=batch_size)"
   ]
  },
  {
   "cell_type": "code",
   "execution_count": 96,
   "id": "57a2e7eb",
   "metadata": {},
   "outputs": [],
   "source": [
    "# create the model and train with these new full data\n",
    "\n",
    "# we will now create new model instance\n",
    "# note: here we will use LSTM instead of SimpleRNN\n",
    "\n",
    "# initialize model\n",
    "model = Sequential()\n",
    "\n",
    "# add RNN layer\n",
    "# units : we normally provide similar number with the length: meaning number of samples to consider\n",
    "# input_shape is mandatory to pass\n",
    "model.add(LSTM(units=50,input_shape=(length,n_features)))\n",
    "\n",
    "# add layer for output\n",
    "model.add(Dense(1))\n",
    "\n",
    "# compile\n",
    "# loss = mse : since it is a continuous value that we are trying to predict\n",
    "model.compile(optimizer='adam', loss='mse')"
   ]
  },
  {
   "cell_type": "code",
   "execution_count": 97,
   "id": "e39c9018",
   "metadata": {},
   "outputs": [
    {
     "name": "stdout",
     "output_type": "stream",
     "text": [
      "Epoch 1/7\n"
     ]
    },
    {
     "name": "stderr",
     "output_type": "stream",
     "text": [
      "C:\\Users\\budha\\AppData\\Local\\Temp\\ipykernel_9832\\1667725908.py:3: UserWarning: `Model.fit_generator` is deprecated and will be removed in a future version. Please use `Model.fit`, which supports generators.\n",
      "  model.fit_generator(final_generator,\n"
     ]
    },
    {
     "name": "stdout",
     "output_type": "stream",
     "text": [
      "451/451 [==============================] - 7s 12ms/step - loss: 0.0197\n",
      "Epoch 2/7\n",
      "451/451 [==============================] - 5s 11ms/step - loss: 4.3806e-04\n",
      "Epoch 3/7\n",
      "451/451 [==============================] - 5s 12ms/step - loss: 1.2995e-04\n",
      "Epoch 4/7\n",
      "451/451 [==============================] - 6s 12ms/step - loss: 6.8818e-05\n",
      "Epoch 5/7\n",
      "451/451 [==============================] - 5s 12ms/step - loss: 2.4107e-04\n",
      "Epoch 6/7\n",
      "451/451 [==============================] - 5s 11ms/step - loss: 2.1926e-04\n",
      "Epoch 7/7\n",
      "451/451 [==============================] - 5s 12ms/step - loss: 2.1859e-04\n"
     ]
    },
    {
     "data": {
      "text/plain": [
       "<keras.callbacks.History at 0x16c2e79d490>"
      ]
     },
     "execution_count": 97,
     "metadata": {},
     "output_type": "execute_result"
    }
   ],
   "source": [
    "# fit model\n",
    "\n",
    "model.fit_generator(final_generator,\n",
    "                    epochs=7  # as the last model was trained using 7 epochs\n",
    "                   )"
   ]
  },
  {
   "cell_type": "markdown",
   "id": "7ed0ddde",
   "metadata": {},
   "source": [
    "**Now this time we will be forecasting the future sine wave values, lets say we will try to predict for the next 25 data points** "
   ]
  },
  {
   "cell_type": "code",
   "execution_count": 98,
   "id": "57949d80",
   "metadata": {},
   "outputs": [
    {
     "name": "stdout",
     "output_type": "stream",
     "text": [
      "1/1 [==============================] - 0s 353ms/step\n",
      "1/1 [==============================] - 0s 21ms/step\n",
      "1/1 [==============================] - 0s 20ms/step\n",
      "1/1 [==============================] - 0s 19ms/step\n",
      "1/1 [==============================] - 0s 19ms/step\n",
      "1/1 [==============================] - 0s 20ms/step\n",
      "1/1 [==============================] - 0s 19ms/step\n",
      "1/1 [==============================] - 0s 19ms/step\n",
      "1/1 [==============================] - 0s 18ms/step\n",
      "1/1 [==============================] - 0s 20ms/step\n",
      "1/1 [==============================] - 0s 19ms/step\n",
      "1/1 [==============================] - 0s 18ms/step\n",
      "1/1 [==============================] - 0s 18ms/step\n",
      "1/1 [==============================] - 0s 18ms/step\n",
      "1/1 [==============================] - 0s 17ms/step\n",
      "1/1 [==============================] - 0s 18ms/step\n",
      "1/1 [==============================] - 0s 19ms/step\n",
      "1/1 [==============================] - 0s 19ms/step\n",
      "1/1 [==============================] - 0s 19ms/step\n",
      "1/1 [==============================] - 0s 18ms/step\n",
      "1/1 [==============================] - 0s 18ms/step\n",
      "1/1 [==============================] - 0s 19ms/step\n",
      "1/1 [==============================] - 0s 18ms/step\n",
      "1/1 [==============================] - 0s 18ms/step\n",
      "1/1 [==============================] - 0s 18ms/step\n"
     ]
    }
   ],
   "source": [
    "# we can use a for loop to do the same for all the samples in test data\n",
    "\n",
    "forecast = []\n",
    "\n",
    "first_eval_batch = train_scaled[-length:]\n",
    "current_batch = first_eval_batch.reshape(1,length,n_features)\n",
    "\n",
    "for i in range(25): # will predict for next 25 data points\n",
    "    \n",
    "    # get the prediction for the current batch\n",
    "    pred_value = model.predict(current_batch)[0]\n",
    "    \n",
    "    # append the predicted value in test_predictions list\n",
    "    forecast.append(pred_value)\n",
    "    \n",
    "    # update the current batch to remove the first element and add the new pred value to the last\n",
    "    # beware of the braces\n",
    "    \n",
    "    current_batch = np.append(current_batch[:,1:,:], [[pred_value]], axis = 1)"
   ]
  },
  {
   "cell_type": "code",
   "execution_count": 100,
   "id": "4ff6b45c",
   "metadata": {},
   "outputs": [],
   "source": [
    "# now we have our forecasted values\n",
    "# we will need to scaled it back to the original format\n",
    "\n",
    "forecast = full_scaler.inverse_transform(forecast)"
   ]
  },
  {
   "cell_type": "markdown",
   "id": "8c0fbcf1",
   "metadata": {},
   "source": [
    "- Now in order to plot these forcasted values, we will need to create index for these values"
   ]
  },
  {
   "cell_type": "code",
   "execution_count": 101,
   "id": "11e588f1",
   "metadata": {},
   "outputs": [
    {
     "data": {
      "text/html": [
       "<div>\n",
       "<style scoped>\n",
       "    .dataframe tbody tr th:only-of-type {\n",
       "        vertical-align: middle;\n",
       "    }\n",
       "\n",
       "    .dataframe tbody tr th {\n",
       "        vertical-align: top;\n",
       "    }\n",
       "\n",
       "    .dataframe thead th {\n",
       "        text-align: right;\n",
       "    }\n",
       "</style>\n",
       "<table border=\"1\" class=\"dataframe\">\n",
       "  <thead>\n",
       "    <tr style=\"text-align: right;\">\n",
       "      <th></th>\n",
       "      <th>Sine</th>\n",
       "    </tr>\n",
       "  </thead>\n",
       "  <tbody>\n",
       "    <tr>\n",
       "      <th>49.608</th>\n",
       "      <td>-0.611126</td>\n",
       "    </tr>\n",
       "    <tr>\n",
       "      <th>49.706</th>\n",
       "      <td>-0.530748</td>\n",
       "    </tr>\n",
       "    <tr>\n",
       "      <th>49.804</th>\n",
       "      <td>-0.445276</td>\n",
       "    </tr>\n",
       "    <tr>\n",
       "      <th>49.902</th>\n",
       "      <td>-0.355531</td>\n",
       "    </tr>\n",
       "    <tr>\n",
       "      <th>50.000</th>\n",
       "      <td>-0.262375</td>\n",
       "    </tr>\n",
       "  </tbody>\n",
       "</table>\n",
       "</div>"
      ],
      "text/plain": [
       "            Sine\n",
       "49.608 -0.611126\n",
       "49.706 -0.530748\n",
       "49.804 -0.445276\n",
       "49.902 -0.355531\n",
       "50.000 -0.262375"
      ]
     },
     "execution_count": 101,
     "metadata": {},
     "output_type": "execute_result"
    }
   ],
   "source": [
    "df.tail()"
   ]
  },
  {
   "cell_type": "markdown",
   "id": "3caa178b",
   "metadata": {},
   "source": [
    "- We know index of our train data goes is upto 50.00 and also it has a step size of 0.1\n",
    "- So, we will need to calculate the next 25 points with this step size starting from 50.01"
   ]
  },
  {
   "cell_type": "code",
   "execution_count": 102,
   "id": "c117eed8",
   "metadata": {},
   "outputs": [
    {
     "data": {
      "text/plain": [
       "2.5"
      ]
     },
     "execution_count": 102,
     "metadata": {},
     "output_type": "execute_result"
    }
   ],
   "source": [
    "# calculate upto how many points to go\n",
    "0.1 * 25"
   ]
  },
  {
   "cell_type": "code",
   "execution_count": 105,
   "id": "38c8a53c",
   "metadata": {},
   "outputs": [
    {
     "data": {
      "text/plain": [
       "array([50.1, 50.2, 50.3, 50.4, 50.5, 50.6, 50.7, 50.8, 50.9, 51. , 51.1,\n",
       "       51.2, 51.3, 51.4, 51.5, 51.6, 51.7, 51.8, 51.9, 52. , 52.1, 52.2,\n",
       "       52.3, 52.4, 52.5])"
      ]
     },
     "execution_count": 105,
     "metadata": {},
     "output_type": "execute_result"
    }
   ],
   "source": [
    "np.arange(50.1, (50.1 + 2.5), step = 0.1)"
   ]
  },
  {
   "cell_type": "code",
   "execution_count": 106,
   "id": "37d244bd",
   "metadata": {},
   "outputs": [
    {
     "data": {
      "text/plain": [
       "25"
      ]
     },
     "execution_count": 106,
     "metadata": {},
     "output_type": "execute_result"
    }
   ],
   "source": [
    "# forecast index\n",
    "forecast_index = np.arange(50.1, (50.1 + 2.5), step = 0.1)\n",
    "len(forecast_index)"
   ]
  },
  {
   "cell_type": "code",
   "execution_count": 107,
   "id": "4863e8c7",
   "metadata": {},
   "outputs": [
    {
     "data": {
      "text/plain": [
       "25"
      ]
     },
     "execution_count": 107,
     "metadata": {},
     "output_type": "execute_result"
    }
   ],
   "source": [
    "# predicted values length\n",
    "len(forecast)"
   ]
  },
  {
   "cell_type": "code",
   "execution_count": 110,
   "id": "36e6388c",
   "metadata": {},
   "outputs": [
    {
     "data": {
      "image/png": "[encoded data removed]",
      "text/plain": [
       "<Figure size 720x576 with 1 Axes>"
      ]
     },
     "metadata": {
      "needs_background": "light"
     },
     "output_type": "display_data"
    }
   ],
   "source": [
    "# now we can plot and check\n",
    "\n",
    "plt.figure(figsize = (10, 8))\n",
    "plt.plot(df.index, df)\n",
    "plt.plot(forecast_index, forecast)\n",
    "plt.show();"
   ]
  },
  {
   "cell_type": "code",
   "execution_count": 113,
   "id": "a987deed",
   "metadata": {},
   "outputs": [
    {
     "data": {
      "text/html": [
       "<div>\n",
       "<style scoped>\n",
       "    .dataframe tbody tr th:only-of-type {\n",
       "        vertical-align: middle;\n",
       "    }\n",
       "\n",
       "    .dataframe tbody tr th {\n",
       "        vertical-align: top;\n",
       "    }\n",
       "\n",
       "    .dataframe thead th {\n",
       "        text-align: right;\n",
       "    }\n",
       "</style>\n",
       "<table border=\"1\" class=\"dataframe\">\n",
       "  <thead>\n",
       "    <tr style=\"text-align: right;\">\n",
       "      <th></th>\n",
       "      <th>Sine</th>\n",
       "    </tr>\n",
       "  </thead>\n",
       "  <tbody>\n",
       "    <tr>\n",
       "      <th>1.000</th>\n",
       "      <td>0.841471</td>\n",
       "    </tr>\n",
       "    <tr>\n",
       "      <th>1.098</th>\n",
       "      <td>0.890298</td>\n",
       "    </tr>\n",
       "    <tr>\n",
       "      <th>1.196</th>\n",
       "      <td>0.930582</td>\n",
       "    </tr>\n",
       "    <tr>\n",
       "      <th>1.294</th>\n",
       "      <td>0.961936</td>\n",
       "    </tr>\n",
       "    <tr>\n",
       "      <th>1.392</th>\n",
       "      <td>0.984058</td>\n",
       "    </tr>\n",
       "  </tbody>\n",
       "</table>\n",
       "</div>"
      ],
      "text/plain": [
       "           Sine\n",
       "1.000  0.841471\n",
       "1.098  0.890298\n",
       "1.196  0.930582\n",
       "1.294  0.961936\n",
       "1.392  0.984058"
      ]
     },
     "execution_count": 113,
     "metadata": {},
     "output_type": "execute_result"
    }
   ],
   "source": [
    "df.head()"
   ]
  },
  {
   "cell_type": "code",
   "execution_count": 115,
   "id": "866ab7a8",
   "metadata": {},
   "outputs": [
    {
     "data": {
      "text/html": [
       "<div>\n",
       "<style scoped>\n",
       "    .dataframe tbody tr th:only-of-type {\n",
       "        vertical-align: middle;\n",
       "    }\n",
       "\n",
       "    .dataframe tbody tr th {\n",
       "        vertical-align: top;\n",
       "    }\n",
       "\n",
       "    .dataframe thead th {\n",
       "        text-align: right;\n",
       "    }\n",
       "</style>\n",
       "<table border=\"1\" class=\"dataframe\">\n",
       "  <thead>\n",
       "    <tr style=\"text-align: right;\">\n",
       "      <th></th>\n",
       "      <th>Sine</th>\n",
       "    </tr>\n",
       "  </thead>\n",
       "  <tbody>\n",
       "    <tr>\n",
       "      <th>50.1</th>\n",
       "      <td>0.961692</td>\n",
       "    </tr>\n",
       "    <tr>\n",
       "      <th>50.2</th>\n",
       "      <td>0.992271</td>\n",
       "    </tr>\n",
       "    <tr>\n",
       "      <th>50.3</th>\n",
       "      <td>1.014398</td>\n",
       "    </tr>\n",
       "    <tr>\n",
       "      <th>50.4</th>\n",
       "      <td>1.027510</td>\n",
       "    </tr>\n",
       "    <tr>\n",
       "      <th>50.5</th>\n",
       "      <td>1.031426</td>\n",
       "    </tr>\n",
       "  </tbody>\n",
       "</table>\n",
       "</div>"
      ],
      "text/plain": [
       "          Sine\n",
       "50.1  0.961692\n",
       "50.2  0.992271\n",
       "50.3  1.014398\n",
       "50.4  1.027510\n",
       "50.5  1.031426"
      ]
     },
     "execution_count": 115,
     "metadata": {},
     "output_type": "execute_result"
    }
   ],
   "source": [
    "## also we can concatenate these two data and then plot\n",
    "forecast_df = pd.DataFrame(data=forecast, index = forecast_index, columns = ['Sine'])\n",
    "forecast_df.head()"
   ]
  },
  {
   "cell_type": "code",
   "execution_count": 120,
   "id": "a5ef9ba4",
   "metadata": {},
   "outputs": [
    {
     "data": {
      "image/png": "[encoded data removed]",
      "text/plain": [
       "<Figure size 720x576 with 1 Axes>"
      ]
     },
     "metadata": {
      "needs_background": "light"
     },
     "output_type": "display_data"
    }
   ],
   "source": [
    "# concat and plot\n",
    "plt.figure(figsize=(10,8))\n",
    "plt.plot(pd.concat([df, forecast_df]))\n",
    "plt.show();"
   ]
  }
 ],
 "metadata": {
  "kernelspec": {
   "display_name": "Python 3 (ipykernel)",
   "language": "python",
   "name": "python3"
  },
  "language_info": {
   "codemirror_mode": {
    "name": "ipython",
    "version": 3
   },
   "file_extension": ".py",
   "mimetype": "text/x-python",
   "name": "python",
   "nbconvert_exporter": "python",
   "pygments_lexer": "ipython3",
   "version": "3.9.5"
  }
 },
 "nbformat": 4,
 "nbformat_minor": 5
}
